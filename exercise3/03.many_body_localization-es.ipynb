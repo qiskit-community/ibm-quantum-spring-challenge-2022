{
 "cells": [
  {
   "cell_type": "code",
   "execution_count": null,
   "id": "7152f2bf-5b38-470a-a523-6398a51c2c16",
   "metadata": {
    "id": "7152f2bf-5b38-470a-a523-6398a51c2c16"
   },
   "outputs": [],
   "source": [
    "import numpy as np\n",
    "import matplotlib.pyplot as plt\n",
    "\n",
    "# Importando las librerías estándares de Qiskit\n",
    "from qiskit import QuantumCircuit, QuantumRegister, transpile, Aer, IBMQ, execute\n",
    "from qiskit.tools.jupyter import *\n",
    "from qiskit.visualization import *\n",
    "from qiskit.providers.aer import QasmSimulator\n",
    "from tqdm.notebook import tqdm\n",
    "\n",
    "from qiskit.providers.aer import QasmSimulator\n",
    "from qiskit.tools.monitor import job_monitor\n",
    "from qiskit.circuit import Parameter\n",
    "import qiskit.quantum_info as qi\n",
    "\n",
    "from qc_grader.challenges.spring_2022.helpers import generate_disordered_tb_instruction\n",
    "\n",
    "# Suprime las advertencias\n",
    "import warnings\n",
    "warnings.filterwarnings('ignore')"
   ]
  },
  {
   "cell_type": "markdown",
   "id": "fe9e4c6f",
   "metadata": {
    "id": "fe9e4c6f"
   },
   "source": [
    "## Dinámica cuántica de muchos cuerpos\n",
    "\n",
    "En este ejercicio, examinamos el desorden en la red cristalina y las interacciones partícula-partícula. En un sistema cuántico de muchos cuerpos cerrado y preparado en un estado fuera del equilibrio, tenderá hacia el estado de equilibrio, lo que se conoce como termalización, siguiendo su propia dinámica. Este comportamiento es el resultado de las leyes de la mecánica estadística, y es análogo a una taza caliente con café que se enfría hasta alcanzar la temperatura del ambiente si se deja desatendida.\n",
    "\n",
    "Sin embargo, la presencia del desorden en la red cristalina impide que el sistema evolucione hacia un estado ergódico termalizado. Esta acción conjunta entre el desorden y la interacción entre partículas resulta en una localización de muchos cuerpos, y permite que el sistema preserve la memoria de las condiciones iniciales para todo tiempo. Para más información, ver referencia [1]\n",
    "\n",
    "Consideremos de nuevo un hamiltoniano de enlaces fuertes con energías por sitio arbitrarias:\n",
    "\n",
    "\n",
    "$$H_{\\rm tb}/\\hbar = \\sum^{3}_{i=0} (X_i X_{i+1} + Y_i Y_{i+1}) + \\sum_i \\epsilon_i Z_i $$\n",
    "\n",
    "Como ya exploramos en el ejercicio 2, podemos emular el desorden en este sistema si escogemos $\\epsilon_i=W \\rm{cos}(2\\pi\\beta i)$, donde $W$ es la fuerza del desorden, y $\\beta$ determina la periodicidad del cuasicristal. Podemos añadir varias partículas en el sistema y preparar múltiples qubits en el estado $|1\\rangle$ antes de aplicar la evolución unitaria en el tiempo. Para $H_{\\rm tb}$, cada sitio puede ser ocupado por una sola partícula, resultando en una interacción de repulsión entre partículas.\n",
    "\n",
    "\n",
    "[1] https://arxiv.org/abs/1804.11065"
   ]
  },
  {
   "cell_type": "markdown",
   "id": "99afa252",
   "metadata": {
    "id": "99afa252"
   },
   "source": [
    "Una de los signos del pérdida de la termalización es la emergencia de **desbalance**. En un sistema termalizado, esperamos que cada sitio de la red esté ocupado con el mismo número promedio de partículas después de alcanzar el estado estacionario. Sin embargo, añadir más desorden a un sistema en interacción resultaría en desviaciones del valor térmico observado en cada sitio. El desbalance del sistema se puede medir cuantitativamente usando la expresión siguiente:\n",
    "\n",
    "\n",
    "$$\\mathcal{I}= \\langle (N_p-N_i)/(N_p+N_i) \\rangle$$\n",
    "\n",
    "donde $N_p$ y $N_i$ son los poblaciones pares e impares del sistema. Para un estado termalizado $\\mathcal{I}=0$, y el desorden del sistema causará desviaciones de este valor."
   ]
  },
  {
   "cell_type": "markdown",
   "id": "324e267a",
   "metadata": {
    "id": "324e267a"
   },
   "source": [
    "Consideremos algunos ejemplos:\n",
    "\n",
    "1. $ |\\psi\\rangle = |0111\\rangle $: \n",
    "\\begin{align*}\n",
    "\\langle \\psi | N_p | \\psi \\rangle &= 1 \\\\\n",
    "\\langle \\psi | N_i | \\psi \\rangle &= 2 \\\\\n",
    "\\mathcal{I} = \\langle \\psi |  (N_p-N_i)/(N_p+N_i) | \\psi \\rangle &= -1/3\n",
    "\\end{align*}\n",
    "\n",
    "2. $ |\\psi\\rangle = \\sqrt{2/3} |0111\\rangle + \\sqrt{1/3} |1011\\rangle $: \n",
    "$$ \\langle \\psi |  \\mathcal{I} | \\psi \\rangle = 2/3 * \\langle 0111 |  \\mathcal{I} |0111\\rangle + 1/3 * \\langle 1011 |  \\mathcal{I} |1011\\rangle $$\n",
    "\\begin{align*}\n",
    "\\langle 0111 |  \\mathcal{I} |0111\\rangle &= -1/3 \\\\\n",
    "\\langle 1011 |  \\mathcal{I} |1011\\rangle &= 1/3 \\\\\n",
    " \\langle \\psi |  \\mathcal{I} | \\psi \\rangle &= -1/9\n",
    "\\end{align*}"
   ]
  },
  {
   "cell_type": "markdown",
   "id": "bfe79af8",
   "metadata": {
    "id": "bfe79af8"
   },
   "source": [
    "<div class=\"alert alert-block alert-danger\">\n",
    "    \n",
    "<b>Desafío, pregunta 3a</b> \n",
    "\n",
    "Escribe una función que regrese el desbalance de un estado cuántico\n",
    "    \n",
    "</div>"
   ]
  },
  {
   "cell_type": "code",
   "execution_count": null,
   "id": "3f428318",
   "metadata": {
    "id": "3f428318"
   },
   "outputs": [],
   "source": [
    "def get_imbalance(state):\n",
    "    ###EDITA EL CÓDIGO DEBAJO\n",
    "    ###PISTA:ASEGÚRATE DE OMITIR EL CÁLCULO DEL DESBALANCE DEL ESTADO |00...0>\n",
    "    imbalance_val=0\n",
    "    \n",
    "    \n",
    "    ###NO MODIFICAR DEBAJO DE ESTA LÍNEA\n",
    "    \n",
    "    return imbalance_val"
   ]
  },
  {
   "cell_type": "code",
   "execution_count": null,
   "id": "5f6fdd44",
   "metadata": {
    "id": "5f6fdd44"
   },
   "outputs": [],
   "source": [
    "## Evalúa y envía tu solución\n",
    "from qc_grader.challenges.spring_2022 import grade_ex3a\n",
    "\n",
    "grade_ex3a(get_imbalance) \n"
   ]
  },
  {
   "cell_type": "markdown",
   "id": "276339f9",
   "metadata": {
    "id": "276339f9"
   },
   "source": [
    "Ahora, consideremos cómo la información cuántica y la entropía de entrelazamiento crece en el sistema. En un estado entrelazado, ignorar la información concerniente al resto del sistema coloca al subsistema en un estado mixto de diferentes estados. Podemos sondear la **entropía de von Neumann** para obtener información del grado de entrelazamiento entre un subsistema $A$ y el resto del sistema:\n",
    "\n",
    "$$\\mathcal{S}_{\\rm vn}(\\rho_A)= -\\rm{tr}(\\rho_A \\ln \\rho_A)$$\n",
    "\n",
    "Aquí, $\\rho_A= \\rm{tr}_{\\bar{A}} \\rho$ es la matriz de densidad reducida que describe al subsistema $A$ cuando sacamos la traza con respecto al resto del sistema. Si un subsistema $A$ está completamente entrelazado con el resto del sistema entonces $\\mathcal{S}_{\\rm vn}(\\rho_A) = \\ln2$, mientras que si el subsistema es completamente separable (en un estado producto) con respecto al resto del sistema entonces $\\mathcal{S}_{\\rm vn}(\\rho_A)=0$. Consideremos el ejemplo siguiente:"
   ]
  },
  {
   "cell_type": "code",
   "execution_count": null,
   "id": "b0e069e1",
   "metadata": {
    "id": "b0e069e1"
   },
   "outputs": [],
   "source": [
    "bell_state = qi.Statevector(np.array([0,1,1,0])/np.sqrt(2))\n",
    "\n",
    "rho_0 = qi.partial_trace(bell_state,[1]) # Sacamos la traza con respecto al estado 1\n",
    "rho_1 = qi.partial_trace(bell_state,[0]) #Sacamos la traza con respecto al estado 0\n",
    "\n",
    "print('QB0 vn entropy: ', qi.entropy(rho_0, base=np.exp(1)))\n",
    "print('QB1 vn entropy: ', qi.entropy(rho_1, base=np.exp(1)))"
   ]
  },
  {
   "cell_type": "markdown",
   "id": "a80d1c7f",
   "metadata": {
    "id": "a80d1c7f"
   },
   "source": [
    "## Explorando la dinámica cuántica de muchos cuerpos en una cadena de 12 qubits\n",
    "\n",
    "Para esta parte del ejercicio, usaremos el mismo patrón del desorden de la red que usamos en el ejercicio 2."
   ]
  },
  {
   "cell_type": "code",
   "execution_count": null,
   "id": "6d790e43-7e59-40b3-9a3a-806e7df15b70",
   "metadata": {
    "id": "6d790e43-7e59-40b3-9a3a-806e7df15b70"
   },
   "outputs": [],
   "source": [
    "t = Parameter('t')"
   ]
  },
  {
   "cell_type": "code",
   "execution_count": null,
   "id": "0ab29437",
   "metadata": {
    "id": "0ab29437"
   },
   "outputs": [],
   "source": [
    "num_qubits=12\n",
    "deltas=[Parameter('delta_{:d}'.format(idx)) for idx in range(num_qubits)]\n",
    "disorder_trot_step=generate_disordered_tb_instruction(t, deltas, num_qubits)"
   ]
  },
  {
   "cell_type": "code",
   "execution_count": null,
   "id": "e1ae8b4e",
   "metadata": {
    "id": "e1ae8b4e"
   },
   "outputs": [],
   "source": [
    "# Aquí definimos el patrón del desorden\n",
    "\n",
    "beta=(np.sqrt(5)-1)/2 # NO MODIFICAR\n",
    "AA_pattern=np.cos(2*np.pi*beta*np.arange(num_qubits)) # NO MODIFICAR"
   ]
  },
  {
   "cell_type": "markdown",
   "id": "73f306b7",
   "metadata": {
    "id": "73f306b7"
   },
   "source": [
    "<div class=\"alert alert-block alert-danger\">\n",
    "    \n",
    "<b>Desafío, pregunta 3b</b> \n",
    "\n",
    "Prepara el sistema colocando los qubis 0, 4 y 8 en el estado  $|1\\rangle$.\n",
    "    \n",
    "</div>"
   ]
  },
  {
   "cell_type": "code",
   "execution_count": null,
   "id": "1941aa83",
   "metadata": {
    "id": "1941aa83"
   },
   "outputs": [],
   "source": [
    "delta_t=0.1\n",
    "time_steps=np.arange(0,21,2)\n",
    "\n",
    "circuits={}\n",
    "Ws=[1,4,10]\n",
    "\n",
    "for W in Ws:\n",
    "    disorders=W*AA_pattern\n",
    "    \n",
    "    circuits[W]=[]\n",
    "\n",
    "    for n_steps in time_steps:\n",
    "\n",
    "        qr = QuantumRegister(num_qubits)\n",
    "        qc = QuantumCircuit(qr)\n",
    "\n",
    "        ##EDITA EL CÓDIGO DEBAJO\n",
    "        \n",
    "        \n",
    "        ###NO MODIFICAR DEBAJO DE ESTA LÍNEA    \n",
    "\n",
    "        for _ in range(n_steps):\n",
    "            qc.append(disorder_trot_step, [i for i in range(num_qubits)])\n",
    "        \n",
    "        if n_steps!=0:\n",
    "            qc = qc.bind_parameters({t: delta_t})\n",
    "            qc = qc.bind_parameters({deltas[idx]: disorders[idx] for idx in range(num_qubits)})\n",
    "\n",
    "        circuits[W].append(qc)"
   ]
  },
  {
   "cell_type": "markdown",
   "id": "68d6bb10",
   "metadata": {
    "id": "68d6bb10"
   },
   "source": [
    "<div class=\"alert alert-block alert-danger\">\n",
    "    \n",
    "<b>Desafío, pregunta 3c</b> \n",
    "\n",
    "Extrae la entropía de von Neumann del qubit 0 para diferentes pasos de evolución en el tiempo con diferentes valores de desorden\n",
    "\n",
    "    \n",
    "</div>"
   ]
  },
  {
   "cell_type": "markdown",
   "id": "7daa18a2",
   "metadata": {
    "id": "7daa18a2"
   },
   "source": [
    "<div class=\"alert alert-block alert-danger\">\n",
    "    \n",
    "<b>Desafío, pregunta 3d</b> \n",
    "\n",
    "Extrae el desbalance de la red para diferentes pasos de evolución en el tiempo con diferentes valores de desorden\n",
    "    \n",
    "</div>"
   ]
  },
  {
   "cell_type": "code",
   "execution_count": null,
   "id": "ba1ac736",
   "metadata": {
    "id": "ba1ac736",
    "scrolled": true
   },
   "outputs": [],
   "source": [
    "from qiskit import transpile\n",
    "\n",
    "# Usa el simulador de vector de estado Aer\n",
    "from qiskit import Aer\n",
    "\n",
    "# Ejecuta el circuito cuántico en un simulador de vector de estado\n",
    "backend_sim = Aer.get_backend('statevector_simulator')\n",
    "\n",
    "probability_densities={}\n",
    "state_vector_imbalances={}\n",
    "vn_entropies={}\n",
    "\n",
    "for W in tqdm(Ws):\n",
    "    probability_densities[W]=[]\n",
    "    state_vector_imbalances[W]=[]\n",
    "    vn_entropies[W]=[]\n",
    "    \n",
    "    for circ in circuits[W]:\n",
    "\n",
    "        transpiled_circ=transpile(circ, backend_sim, optimization_level=3)\n",
    "\n",
    "        job_sim = backend_sim.run(transpiled_circ)\n",
    "\n",
    "        # Extrae resultados\n",
    "        result_sim = job_sim.result()\n",
    "        outputstate = result_sim.get_statevector(transpiled_circ, decimals=6)\n",
    "        ps=[]\n",
    "        for idx in range(num_qubits):\n",
    "            ps.append(np.abs(qi.partial_trace(outputstate,[i for i in range(num_qubits) if i!=idx]))[1,1]**2)\n",
    "        \n",
    "        entropy=0\n",
    "        ### EDITA EL CÓDIGO DEBAJO (extrae la matriz densidad del qubit 0 calculando la traza con respecto al resto de qubits)\n",
    "        \n",
    "        \n",
    "        ###NO MODIFICAR DEBAJO DE ESTA LÍNEA    \n",
    "        \n",
    "        imbalance=0\n",
    "        ### EDITA EL CÓDIGO DEBAJO\n",
    "        \n",
    "        \n",
    "        ###NO MODIFICAR DEBAJO DE ESTA LÍNEA    \n",
    "        \n",
    "        \n",
    "        vn_entropies[W].append(entropy)\n",
    "        probability_densities[W].append(ps)\n",
    "        state_vector_imbalances[W].append(imbalance)"
   ]
  },
  {
   "cell_type": "code",
   "execution_count": null,
   "id": "3b728147",
   "metadata": {
    "id": "3b728147",
    "scrolled": true
   },
   "outputs": [],
   "source": [
    "fig, axs = plt.subplots(1,3,figsize=(15,5), facecolor='white', sharey=True)\n",
    "\n",
    "for i,W in enumerate(Ws):\n",
    "    ax=axs[i]\n",
    "    ax.pcolormesh(np.arange(0,num_qubits,1), time_steps*delta_t ,probability_densities[W])\n",
    "    ax.set_xlabel('Qubit index')\n",
    "    ax.set_xticks(np.arange(1,num_qubits+1,1))\n",
    "\n",
    "axs[0].set_ylabel('Tiempo (1/J)')\n",
    "\n",
    "plt.show()"
   ]
  },
  {
   "cell_type": "code",
   "execution_count": null,
   "id": "cff7aa4e",
   "metadata": {
    "id": "cff7aa4e"
   },
   "outputs": [],
   "source": [
    "for W in Ws:\n",
    "    plt.plot(time_steps*delta_t,vn_entropies[W], '--o', label='W={:d}'.format(W))\n",
    "\n",
    "plt.xlabel(r'Tiempo (1/J)')\n",
    "plt.ylabel(r'$\\mathcal{S}_{\\rm vn}(\\rho_0)$')\n",
    "plt.legend()\n",
    "plt.show()"
   ]
  },
  {
   "cell_type": "code",
   "execution_count": null,
   "id": "c98610e8",
   "metadata": {
    "id": "c98610e8"
   },
   "outputs": [],
   "source": [
    "## Evalua y envía tu solución\n",
    "from qc_grader.challenges.spring_2022 import grade_ex3b\n",
    "\n",
    "grade_ex3b(vn_entropies)\n"
   ]
  },
  {
   "cell_type": "code",
   "execution_count": null,
   "id": "9ed1e6a0",
   "metadata": {
    "id": "9ed1e6a0"
   },
   "outputs": [],
   "source": [
    "for W in Ws:\n",
    "    plt.plot(time_steps*delta_t,state_vector_imbalances[W], '--o', label='W={:d}'.format(W))\n",
    "\n",
    "plt.xlabel(r'Tiempo (1/J)')\n",
    "plt.ylabel(r'$\\mathcal{I}$')\n",
    "plt.legend()\n",
    "plt.show()"
   ]
  },
  {
   "cell_type": "code",
   "execution_count": null,
   "id": "a141777d",
   "metadata": {
    "id": "a141777d"
   },
   "outputs": [],
   "source": [
    "## Evalua y envía tu solución\n",
    "from qc_grader.challenges.spring_2022 import grade_ex3c\n",
    "\n",
    "grade_ex3c(state_vector_imbalances)\n"
   ]
  },
  {
   "cell_type": "markdown",
   "id": "xz7q7oiuunpZ",
   "metadata": {
    "id": "xz7q7oiuunpZ"
   },
   "source": [
    "# Información adicional\n",
    "\n",
    "Traducido por: Mauricio Gómez Viloria"
   ]
  }
 ],
 "metadata": {
  "colab": {
   "collapsed_sections": [],
   "name": "03.many_body_localization.ipynb",
   "provenance": []
  },
  "kernelspec": {
   "display_name": "Python 3 (ipykernel)",
   "language": "python",
   "name": "python3"
  },
  "language_info": {
   "codemirror_mode": {
    "name": "ipython",
    "version": 3
   },
   "file_extension": ".py",
   "mimetype": "text/x-python",
   "name": "python",
   "nbconvert_exporter": "python",
   "pygments_lexer": "ipython3",
   "version": "3.9.12"
  }
 },
 "nbformat": 4,
 "nbformat_minor": 5
}

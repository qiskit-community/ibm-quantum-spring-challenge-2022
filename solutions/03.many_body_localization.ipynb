{
 "cells": [
  {
   "cell_type": "code",
   "execution_count": 51,
   "id": "7152f2bf-5b38-470a-a523-6398a51c2c16",
   "metadata": {},
   "outputs": [],
   "source": [
    "import numpy as np\n",
    "import matplotlib.pyplot as plt\n",
    "\n",
    "# Importing standard Qiskit libraries\n",
    "from qiskit import QuantumCircuit, QuantumRegister, transpile, Aer, IBMQ, execute\n",
    "from qiskit.tools.jupyter import *\n",
    "from qiskit.visualization import *\n",
    "from qiskit.providers.aer import QasmSimulator\n",
    "from tqdm.notebook import tqdm\n",
    "\n",
    "from qiskit.providers.aer import QasmSimulator\n",
    "from qiskit.tools.monitor import job_monitor\n",
    "from qiskit.circuit import Parameter\n",
    "import qiskit.quantum_info as qi\n",
    "\n",
    "from qc_grader.challenges.spring_2022.helpers import generate_disordered_tb_instruction\n",
    "\n",
    "# Suppress warnings\n",
    "import warnings\n",
    "warnings.filterwarnings('ignore')"
   ]
  },
  {
   "cell_type": "markdown",
   "id": "fe9e4c6f",
   "metadata": {},
   "source": [
    "## Many-body quantum dynamics\n",
    "\n",
    "In this exercise we examine lattice disorder and particle-particle interaction. A closed quantum many-body system initialized in a non-equilibrium state will reach the equilibrium state, refered to as thermalization, under its own dynamics. This behavior is as a result of the laws of statistical mechanics, and analogous to a hot cup of coffee cooling down to the surrounding temperature if left unattended. \n",
    "\n",
    "However, the presence of lattice disorder prevents the system from evolving into an ergodic thermalized state. This interplay between disorder and particle interaction results in many-body localization (MBL), and it allows the system to retain a memory of its initial condition at all times. For more information about MBL refer to [1]\n",
    "\n",
    "Let's again consider the tight-binding Hamiltonian with arbitrary site energies:\n",
    "\n",
    "$$H_{\\rm tb}/\\hbar = \\sum^{3}_{i=0} (X_i X_{i+1} + Y_i Y_{i+1}) + \\sum_i \\epsilon_i Z_i $$\n",
    "\n",
    "As we explored in exercise 2, we can emulate disorder in this system by setting $\\epsilon_i=W \\rm{cos}(2\\pi\\beta i)$, where $W$ is the disorder strength, and $\\beta$ determines the quasicrystal periodicity. We can add multiple particles to the system by initalizing multiple qubits to the $|1\\rangle$ state prior to the unitary time evolution. Under $H_{\\rm tb}$, each site can only be occupied by a single particle, resulting in particle repulsion interaction.\n",
    "\n",
    "[1] https://arxiv.org/abs/1804.11065"
   ]
  },
  {
   "cell_type": "markdown",
   "id": "99afa252",
   "metadata": {},
   "source": [
    "One of the signatures of the breakdown of thermalization is the emergence of **imbalance**. In a thermalized system, we expect each site of the lattice to be occupied by the same average number of particles after reaching steady state. However, adding disorder to the interacting system will result in deviations from the thermal value observed on each site. The system imbalance can be quantified using the following expression:\n",
    "\n",
    "$$\\mathcal{I}= \\langle (N_e-N_o)/(N_e+N_o) \\rangle$$\n",
    "\n",
    "where $N_e$ and $N_o$ are the even and odd site populations of the system. For a thermalized system this $\\mathcal{I}=0$, and system disorder will cause deviations from this value."
   ]
  },
  {
   "cell_type": "markdown",
   "id": "324e267a",
   "metadata": {},
   "source": [
    "Let's consider a few examples:\n",
    "\n",
    "1. $ |\\psi\\rangle = |0111\\rangle $: \n",
    "\\begin{align*}\n",
    "\\langle \\psi | N_e | \\psi \\rangle &= 2 \\\\\n",
    "\\langle \\psi | N_o | \\psi \\rangle &= 1 \\\\\n",
    "\\mathcal{I} = \\langle \\psi |  (N_e-N_o)/(N_e+N_o) | \\psi \\rangle &= 1/3\n",
    "\\end{align*}\n",
    "\n",
    "2. $ |\\psi\\rangle = \\sqrt{2/3} |0111\\rangle + \\sqrt{1/3} |1011\\rangle $: \n",
    "$$ \\langle \\psi |  \\mathcal{I} | \\psi \\rangle = 2/3 * \\langle 0111 |  \\mathcal{I} |0111\\rangle + 1/3 * \\langle 1011 |  \\mathcal{I} |1011\\rangle $$\n",
    "\\begin{align*}\n",
    "\\langle 0111 |  \\mathcal{I} |0111\\rangle &= 1/3 \\\\\n",
    "\\langle 1011 |  \\mathcal{I} |1011\\rangle &= -1/3 \\\\\n",
    " \\langle \\psi |  \\mathcal{I} | \\psi \\rangle &= 1/9\n",
    "\\end{align*}"
   ]
  },
  {
   "cell_type": "markdown",
   "id": "bfe79af8",
   "metadata": {},
   "source": [
    "<div class=\"alert alert-block alert-danger\">\n",
    "    \n",
    "<b>Challenge question 3a</b> \n",
    "\n",
    "Write a function that outputs the imbalance of a quantum state\n",
    "    \n",
    "</div>"
   ]
  },
  {
   "cell_type": "code",
   "execution_count": 59,
   "id": "12fb3efb-83a5-43e1-8487-9f35848431e7",
   "metadata": {},
   "outputs": [],
   "source": [
    "def get_imbalance(state):\n",
    "    ###EDIT CODE BELOW\n",
    "    ### HINT: MAKE SURE TO SKIP CALCULATING IMBALANCE OF THE |00...0> STATE\n",
    "    imbalance_val=0\n",
    "\n",
    "    statelist = state.probabilities_dict()\n",
    "\n",
    "    for key in statelist:\n",
    "        even=0\n",
    "        odd=0\n",
    "        sub_imbalance = 0\n",
    "        for i in range(len(key)):\n",
    "            if (key[i] == \"1\"):\n",
    "                if (i % 2):\n",
    "                    even += 1\n",
    "                else:\n",
    "                    odd += 1\n",
    "        if (even != 0 or odd != 0):\n",
    "            sub_imbalance = (even - odd) / (even + odd)\n",
    "            imbalance_val += sub_imbalance * statelist.get(key)\n",
    "\n",
    "    return -imbalance_val"
   ]
  },
  {
   "cell_type": "code",
   "execution_count": 60,
   "id": "8a2eaac0-3240-41c2-9cef-fa18ee365eda",
   "metadata": {},
   "outputs": [
    {
     "name": "stdout",
     "output_type": "stream",
     "text": [
      "ex1: -1 -1.0\n",
      "ex2: 1 1.0\n",
      "ex3: 0 -0.0\n",
      "ex4: -0.3333 -0.3333333333333333\n"
     ]
    }
   ],
   "source": [
    "ex1 = qi.Statevector.from_label('01')\n",
    "print(\"ex1: -1 {}\".format(get_imbalance(ex1)))\n",
    "ex2 = qi.Statevector.from_label('10')\n",
    "print(\"ex2: 1 {}\".format(get_imbalance(ex2)))\n",
    "ex3 = qi.Statevector.from_label('11')\n",
    "print(\"ex3: 0 {}\".format(get_imbalance(ex3)))\n",
    "\n",
    "ex4 = qi.Statevector.from_label('0111')\n",
    "print(\"ex4: -0.3333 {}\".format(get_imbalance(ex4)))\n",
    "\n"
   ]
  },
  {
   "cell_type": "code",
   "execution_count": 61,
   "id": "af6a716d-96ac-4ade-ab9c-3030cfb87eeb",
   "metadata": {},
   "outputs": [
    {
     "name": "stdout",
     "output_type": "stream",
     "text": [
      "ex1: -0.3333 -0.3333333333333333\n",
      "ex2: -0.1111 -0.1111111111111111 0.816496580927726\n",
      "ex3: -0.1666 -0.16666666666666663\n",
      "0b111\n"
     ]
    }
   ],
   "source": [
    "ex1 = qi.Statevector.from_label('0111')\n",
    "print(\"ex1: -0.3333 {}\".format(get_imbalance(ex1)))\n",
    "\n",
    "ex2 = np.sqrt(2/3)*qi.Statevector.from_label('0111') + np.sqrt(1/3)*qi.Statevector.from_label('1011')\n",
    "print(\"ex2: -0.1111 {}\".format(get_imbalance(ex2)), np.sqrt(2/3))\n",
    "ex3 = (qi.Statevector.from_label(\"0000\") + qi.Statevector.from_label(\"0111\")) * (1/ np.sqrt(2))\n",
    "print(\"ex3: -0.1666 {}\".format(get_imbalance(ex3)))\n",
    "\n",
    "print(bin(7))"
   ]
  },
  {
   "cell_type": "code",
   "execution_count": 62,
   "id": "5f6fdd44",
   "metadata": {},
   "outputs": [
    {
     "name": "stdout",
     "output_type": "stream",
     "text": [
      "Submitting your answer. Please wait...\n",
      "Congratulations 🎉! Your answer is correct and has been submitted.\n"
     ]
    }
   ],
   "source": [
    "## Grade and submit your solution\n",
    "from qc_grader.challenges.spring_2022 import grade_ex3a\n",
    "\n",
    "grade_ex3a(get_imbalance) \n"
   ]
  },
  {
   "cell_type": "markdown",
   "id": "276339f9",
   "metadata": {},
   "source": [
    "Next, we consider how quantum information and entanglement entropy grows in the system. In an entangled system, ignoring information about the remaining system puts the subsystem into a mixed state of different number states. We can probe the **von Neumann entropy** to gain insight into the degree of entanglement between subsystem $A$ and the remaining of the system:\n",
    "\n",
    "$$\\mathcal{S}_{\\rm vn}(\\rho_A)= -\\rm{tr}(\\rho_A \\rm{ln} \\rho_A)$$\n",
    "\n",
    "Here, $\\rho_A= \\rm{tr}_{\\bar{A}} \\rho$ is the reduced density matrix describing subsytem $A$ when we trace out the rest of the system. If a subsytem $A$ is fully entangled with the rest of the system, $\\mathcal{S}_{\\rm vn}(\\rho_A) = \\rm{ln}2$, whereas if the subsytem is completely separable (in a product state) with respect to its environment $\\mathcal{S}_{\\rm vn}(\\rho_A)=0$. Consider the example below:"
   ]
  },
  {
   "cell_type": "code",
   "execution_count": 63,
   "id": "b0e069e1",
   "metadata": {},
   "outputs": [
    {
     "name": "stdout",
     "output_type": "stream",
     "text": [
      "QB0 vn entropy:  0.6931471805599454\n",
      "QB1 vn entropy:  0.6931471805599454\n"
     ]
    }
   ],
   "source": [
    "bell_state = qi.Statevector(np.array([0,1,1,0])/np.sqrt(2))\n",
    "\n",
    "rho_0 = qi.partial_trace(bell_state,[1]) # We trace out qubit 1\n",
    "rho_1 = qi.partial_trace(bell_state,[0]) # We trace out qubit 0\n",
    "\n",
    "print('QB0 vn entropy: ', qi.entropy(rho_0, base=np.exp(1)))\n",
    "print('QB1 vn entropy: ', qi.entropy(rho_1, base=np.exp(1)))"
   ]
  },
  {
   "cell_type": "markdown",
   "id": "a80d1c7f",
   "metadata": {},
   "source": [
    "## Probing the many-body quantum dynamics in a 12 qubit chain\n",
    "\n",
    "For this part of the exercise, we use the same lattice disorder pattern as we explored in exercise 2."
   ]
  },
  {
   "cell_type": "code",
   "execution_count": 9,
   "id": "6d790e43-7e59-40b3-9a3a-806e7df15b70",
   "metadata": {},
   "outputs": [],
   "source": [
    "t = Parameter('t')"
   ]
  },
  {
   "cell_type": "code",
   "execution_count": 10,
   "id": "0ab29437",
   "metadata": {},
   "outputs": [],
   "source": [
    "num_qubits=12\n",
    "deltas=[Parameter('delta_{:d}'.format(idx)) for idx in range(num_qubits)]\n",
    "disorder_trot_step=generate_disordered_tb_instruction(t, deltas, num_qubits)"
   ]
  },
  {
   "cell_type": "code",
   "execution_count": 11,
   "id": "e1ae8b4e",
   "metadata": {},
   "outputs": [],
   "source": [
    "# Here we define the disorder pattern\n",
    "\n",
    "beta=(np.sqrt(5)-1)/2 # DO NOT EDIT\n",
    "AA_pattern=np.cos(2*np.pi*beta*np.arange(num_qubits)) # DO NOT EDIT"
   ]
  },
  {
   "cell_type": "markdown",
   "id": "73f306b7",
   "metadata": {},
   "source": [
    "<div class=\"alert alert-block alert-danger\">\n",
    "    \n",
    "<b>Challenge question 3b</b> \n",
    "\n",
    "Initialize the system by setting qubits 0, 4, and 8 to $|1\\rangle$.\n",
    "    \n",
    "</div>"
   ]
  },
  {
   "cell_type": "code",
   "execution_count": 43,
   "id": "1941aa83",
   "metadata": {},
   "outputs": [],
   "source": [
    "delta_t=0.1\n",
    "time_steps=np.arange(0,21,2)\n",
    "\n",
    "circuits={}\n",
    "Ws=[1,4,10]\n",
    "\n",
    "for W in Ws:\n",
    "    disorders=W*AA_pattern\n",
    "    \n",
    "    circuits[W]=[]\n",
    "\n",
    "    for n_steps in time_steps:\n",
    "\n",
    "        qr = QuantumRegister(num_qubits)\n",
    "        qc = QuantumCircuit(qr)\n",
    "\n",
    "        ###EDIT CODE BELOW\n",
    "        \n",
    "        qc.x(0)\n",
    "        qc.cx(1,0)\n",
    "        qc.x(4)\n",
    "        qc.cx(1,0)\n",
    "        qc.x(8)\n",
    "        qc.cx(1,0)\n",
    "\n",
    "        ###DO NOT EDIT BELOW     \n",
    "\n",
    "        for _ in range(n_steps):\n",
    "            qc.append(disorder_trot_step, [i for i in range(num_qubits)])\n",
    "        \n",
    "        if n_steps!=0:\n",
    "            qc = qc.bind_parameters({t: delta_t})\n",
    "            qc = qc.bind_parameters({deltas[idx]: disorders[idx] for idx in range(num_qubits)})\n",
    "\n",
    "        circuits[W].append(qc)"
   ]
  },
  {
   "cell_type": "markdown",
   "id": "68d6bb10",
   "metadata": {},
   "source": [
    "<div class=\"alert alert-block alert-danger\">\n",
    "    \n",
    "<b>Challenge question 3c</b> \n",
    "\n",
    "Extract the von Neumann entropy of qubit 0 at different evolution time steps for different disorder strengths.\n",
    "    \n",
    "</div>"
   ]
  },
  {
   "cell_type": "markdown",
   "id": "7daa18a2",
   "metadata": {},
   "source": [
    "<div class=\"alert alert-block alert-danger\">\n",
    "    \n",
    "<b>Challenge question 3d</b> \n",
    "\n",
    "Extract the imbalance of the lattice at different evolution time steps for different disorder strengths.\n",
    "    \n",
    "</div>"
   ]
  },
  {
   "cell_type": "code",
   "execution_count": 46,
   "id": "ba1ac736",
   "metadata": {
    "scrolled": true
   },
   "outputs": [
    {
     "data": {
      "application/vnd.jupyter.widget-view+json": {
       "model_id": "471cd2ac918a4cb5a2bb2fe7132e2927",
       "version_major": 2,
       "version_minor": 0
      },
      "text/plain": [
       "  0%|          | 0/3 [00:00<?, ?it/s]"
      ]
     },
     "metadata": {},
     "output_type": "display_data"
    }
   ],
   "source": [
    "from qiskit import transpile\n",
    "\n",
    "# Use Aer's statevector simulator\n",
    "from qiskit import Aer\n",
    "\n",
    "# Run the quantum circuit on a statevector simulator backend\n",
    "backend_sim = Aer.get_backend('statevector_simulator')\n",
    "\n",
    "probability_densities={}\n",
    "state_vector_imbalances={}\n",
    "vn_entropies={}\n",
    "\n",
    "for W in tqdm(Ws):\n",
    "    probability_densities[W]=[]\n",
    "    state_vector_imbalances[W]=[]\n",
    "    vn_entropies[W]=[]\n",
    "    \n",
    "    for circ in circuits[W]:\n",
    "\n",
    "        transpiled_circ=transpile(circ, backend_sim, optimization_level=3)\n",
    "\n",
    "        job_sim = backend_sim.run(transpiled_circ)\n",
    "\n",
    "        # Grab the results from the job.\n",
    "        result_sim = job_sim.result()\n",
    "        outputstate = result_sim.get_statevector(transpiled_circ, decimals=6)\n",
    "        ps=[]\n",
    "        for idx in range(num_qubits):\n",
    "            ps.append(np.abs(qi.partial_trace(outputstate,[i for i in range(num_qubits) if i!=idx]))[1,1]**2)\n",
    "        \n",
    "        entropy=0\n",
    "        ### EDIT CODE BELOW (extract the density matrix of qubit 0 by tracing out all other qubits)\n",
    "        \n",
    "        # Go through outputstate\n",
    "        #print(ps)\n",
    "        density = qi.partial_trace(outputstate,[1,2,3,4,5,6,7,8,9,10,11])\n",
    "        entropy = qi.entropy(density, base=np.exp(1))\n",
    "        \n",
    "        ###DO NOT EDIT BELOW \n",
    "        \n",
    "        imbalance=0\n",
    "        ### EDIT CODE BELOW \n",
    "        \n",
    "        # Use previous get_imbalance method.\n",
    "        imbalance = get_imbalance(outputstate)\n",
    "        ###DO NOT EDIT BELOW\n",
    "        \n",
    "        \n",
    "        vn_entropies[W].append(entropy)\n",
    "        probability_densities[W].append(ps)\n",
    "        state_vector_imbalances[W].append(imbalance)"
   ]
  },
  {
   "cell_type": "code",
   "execution_count": 38,
   "id": "3b728147",
   "metadata": {
    "scrolled": true
   },
   "outputs": [
    {
     "data": {
      "image/png": "[encoded data removed]",
      "text/plain": [
       "<Figure size 1080x360 with 3 Axes>"
      ]
     },
     "metadata": {},
     "output_type": "display_data"
    }
   ],
   "source": [
    "fig, axs = plt.subplots(1,3,figsize=(15,5), facecolor='white', sharey=True)\n",
    "\n",
    "for i,W in enumerate(Ws):\n",
    "    ax=axs[i]\n",
    "    ax.pcolormesh(np.arange(0,num_qubits,1), time_steps*delta_t ,probability_densities[W])\n",
    "    ax.set_xlabel('Qubit index')\n",
    "    ax.set_xticks(np.arange(1,num_qubits+1,1))\n",
    "\n",
    "axs[0].set_ylabel('Time (1/J)')\n",
    "\n",
    "plt.show()"
   ]
  },
  {
   "cell_type": "code",
   "execution_count": 47,
   "id": "cff7aa4e",
   "metadata": {},
   "outputs": [
    {
     "data": {
      "image/png": "[encoded data removed]",
      "text/plain": [
       "<Figure size 432x288 with 1 Axes>"
      ]
     },
     "metadata": {
      "needs_background": "light"
     },
     "output_type": "display_data"
    }
   ],
   "source": [
    "for W in Ws:\n",
    "    plt.plot(time_steps*delta_t,vn_entropies[W], '--o', label='W={:d}'.format(W))\n",
    "\n",
    "plt.xlabel(r'Time (1/J)')\n",
    "plt.ylabel(r'$\\mathcal{S}_{\\rm vn}(\\rho_0)$')\n",
    "plt.legend()\n",
    "plt.show()"
   ]
  },
  {
   "cell_type": "code",
   "execution_count": 48,
   "id": "c98610e8",
   "metadata": {},
   "outputs": [
    {
     "name": "stdout",
     "output_type": "stream",
     "text": [
      "Submitting your answer. Please wait...\n",
      "Congratulations 🎉! Your answer is correct and has been submitted.\n"
     ]
    }
   ],
   "source": [
    "## Grade and submit your solution\n",
    "from qc_grader.challenges.spring_2022 import grade_ex3b\n",
    "\n",
    "grade_ex3b(vn_entropies)\n"
   ]
  },
  {
   "cell_type": "code",
   "execution_count": 49,
   "id": "9ed1e6a0",
   "metadata": {},
   "outputs": [
    {
     "data": {
      "image/png": "[encoded data removed]",
      "text/plain": [
       "<Figure size 432x288 with 1 Axes>"
      ]
     },
     "metadata": {
      "needs_background": "light"
     },
     "output_type": "display_data"
    }
   ],
   "source": [
    "for W in Ws:\n",
    "    plt.plot(time_steps*delta_t,state_vector_imbalances[W], '--o', label='W={:d}'.format(W))\n",
    "\n",
    "plt.xlabel(r'Time (1/J)')\n",
    "plt.ylabel(r'$\\mathcal{I}$')\n",
    "plt.legend()\n",
    "plt.show()"
   ]
  },
  {
   "cell_type": "code",
   "execution_count": 50,
   "id": "a141777d",
   "metadata": {},
   "outputs": [
    {
     "name": "stdout",
     "output_type": "stream",
     "text": [
      "Submitting your answer. Please wait...\n",
      "Congratulations 🎉! Your answer is correct and has been submitted.\n"
     ]
    }
   ],
   "source": [
    "## Grade and submit your solution\n",
    "from qc_grader.challenges.spring_2022 import grade_ex3c\n",
    "\n",
    "grade_ex3c(state_vector_imbalances)\n"
   ]
  },
  {
   "cell_type": "code",
   "execution_count": null,
   "id": "1c3f523e-107d-43c8-afdd-d36c10f7a143",
   "metadata": {},
   "outputs": [],
   "source": []
  }
 ],
 "metadata": {
  "kernelspec": {
   "display_name": "Qiskit v0.35.0 (ipykernel)",
   "language": "python",
   "name": "python3"
  },
  "language_info": {
   "codemirror_mode": {
    "name": "ipython",
    "version": 3
   },
   "file_extension": ".py",
   "mimetype": "text/x-python",
   "name": "python",
   "nbconvert_exporter": "python",
   "pygments_lexer": "ipython3",
   "version": "3.8.13"
  },
  "widgets": {
   "application/vnd.jupyter.widget-state+json": {
    "state": {
     "00b2ee25bb734a57b58de9b3a036fdfb": {
      "model_module": "@jupyter-widgets/base",
      "model_module_version": "1.2.0",
      "model_name": "LayoutModel",
      "state": {}
     },
     "0188ff65a4ad49bbb483a945ddbc73d4": {
      "model_module": "@jupyter-widgets/controls",
      "model_module_version": "1.5.0",
      "model_name": "HTMLModel",
      "state": {
       "layout": "IPY_MODEL_538f40b5e4194b6c8b5c6b334eb594dc",
       "style": "IPY_MODEL_71eb275d8f7e4f36bc2b3ad1b92e15ac",
       "value": "  0%"
      }
     },
     "044e1962717a458a9f5138a4663a3a74": {
      "model_module": "@jupyter-widgets/base",
      "model_module_version": "1.2.0",
      "model_name": "LayoutModel",
      "state": {}
     },
     "0504ed4d61814c018b56f993fdd1ba03": {
      "model_module": "@jupyter-widgets/base",
      "model_module_version": "1.2.0",
      "model_name": "LayoutModel",
      "state": {}
     },
     "0816b93963ad4f2bbd2de66f8a2119c0": {
      "model_module": "@jupyter-widgets/controls",
      "model_module_version": "1.5.0",
      "model_name": "DescriptionStyleModel",
      "state": {
       "description_width": ""
      }
     },
     "0980506e4f56427cb77db30dd9aa4d28": {
      "model_module": "@jupyter-widgets/base",
      "model_module_version": "1.2.0",
      "model_name": "LayoutModel",
      "state": {}
     },
     "0af31e725fa64fa582290f8c8eb30a67": {
      "model_module": "@jupyter-widgets/controls",
      "model_module_version": "1.5.0",
      "model_name": "DescriptionStyleModel",
      "state": {
       "description_width": ""
      }
     },
     "0d83b7a9d73744e29d5a47b58498328c": {
      "model_module": "@jupyter-widgets/controls",
      "model_module_version": "1.5.0",
      "model_name": "DescriptionStyleModel",
      "state": {
       "description_width": ""
      }
     },
     "0daf5f1b0d4147c9a0b5a8cae9e78c3d": {
      "model_module": "@jupyter-widgets/base",
      "model_module_version": "1.2.0",
      "model_name": "LayoutModel",
      "state": {
       "grid_template_areas": "\n                                       \". . . . right \"\n                                        ",
       "grid_template_columns": "20% 20% 20% 20% 20%",
       "width": "100%"
      }
     },
     "0e74b6c2189b4462b2b28532c186b9c9": {
      "model_module": "@jupyter-widgets/controls",
      "model_module_version": "1.5.0",
      "model_name": "ProgressStyleModel",
      "state": {
       "description_width": ""
      }
     },
     "11998010acf24c8e8c22c2c80cc4590c": {
      "model_module": "@jupyter-widgets/controls",
      "model_module_version": "1.5.0",
      "model_name": "ProgressStyleModel",
      "state": {
       "description_width": ""
      }
     },
     "11fcbab453a8457aa659c5217ace332e": {
      "model_module": "@jupyter-widgets/base",
      "model_module_version": "1.2.0",
      "model_name": "LayoutModel",
      "state": {}
     },
     "12302f4b15174df0bfd042e04489a745": {
      "model_module": "@jupyter-widgets/controls",
      "model_module_version": "1.5.0",
      "model_name": "HTMLModel",
      "state": {
       "layout": "IPY_MODEL_545f8e1b7a394d0986bd6347b01021fa",
       "style": "IPY_MODEL_a8b319b59ce741c680c3db4a0d6ff512",
       "value": "<p style='font-family: IBM Plex Sans, Arial, Helvetica, sans-serif; font-size: 20px; font-weight: medium;'>Circuit Properties</p>"
      }
     },
     "150e241be60148cb9f7d51e4af60364b": {
      "model_module": "@jupyter-widgets/base",
      "model_module_version": "1.2.0",
      "model_name": "LayoutModel",
      "state": {
       "margin": "0px 0px 0px 37px",
       "width": "600px"
      }
     },
     "165fd8ff0b0f48d8b1fcb6d58cd74f78": {
      "model_module": "@jupyter-widgets/controls",
      "model_module_version": "1.5.0",
      "model_name": "HBoxModel",
      "state": {
       "children": [
        "IPY_MODEL_5e8527782cc847df9214925760a668d8",
        "IPY_MODEL_a871eb9eed3343e094544bafba59de29",
        "IPY_MODEL_80813324a55c4af1b4a90570dbaa8e74"
       ],
       "layout": "IPY_MODEL_648a4792688c43f9a0afae5a476e570c"
      }
     },
     "18dcad0f93d042c4a0d0c11d34e3bc54": {
      "model_module": "@jupyter-widgets/base",
      "model_module_version": "1.2.0",
      "model_name": "LayoutModel",
      "state": {}
     },
     "1a9f28b995854a689b19870c27ba2e40": {
      "model_module": "@jupyter-widgets/controls",
      "model_module_version": "1.5.0",
      "model_name": "DescriptionStyleModel",
      "state": {
       "description_width": ""
      }
     },
     "1b46f9aee555499e821f45dd9fa66834": {
      "model_module": "@jupyter-widgets/base",
      "model_module_version": "1.2.0",
      "model_name": "LayoutModel",
      "state": {
       "width": "95px"
      }
     },
     "20501be392cc4134a3e73c1dc0787152": {
      "model_module": "@jupyter-widgets/controls",
      "model_module_version": "1.5.0",
      "model_name": "DescriptionStyleModel",
      "state": {
       "description_width": ""
      }
     },
     "208db4c4360441e5a55e46c4586d1a08": {
      "model_module": "@jupyter-widgets/base",
      "model_module_version": "1.2.0",
      "model_name": "LayoutModel",
      "state": {}
     },
     "20c783225ebb4da396bda7c5f38fe6e5": {
      "model_module": "@jupyter-widgets/controls",
      "model_module_version": "1.5.0",
      "model_name": "DescriptionStyleModel",
      "state": {
       "description_width": ""
      }
     },
     "21ddf8cd32ea4b1bb8b1eebe6b2341e1": {
      "model_module": "@jupyter-widgets/controls",
      "model_module_version": "1.5.0",
      "model_name": "DescriptionStyleModel",
      "state": {
       "description_width": ""
      }
     },
     "22cda8884a0d4f48bd99ac8c1a642b49": {
      "model_module": "@jupyter-widgets/controls",
      "model_module_version": "1.5.0",
      "model_name": "FloatProgressModel",
      "state": {
       "bar_style": "danger",
       "layout": "IPY_MODEL_044e1962717a458a9f5138a4663a3a74",
       "max": 3,
       "style": "IPY_MODEL_4e228e1b63884fbab9fe75b510faf021"
      }
     },
     "22f88b8a42354c7f9044ceb28c1dca5a": {
      "model_module": "@jupyter-widgets/base",
      "model_module_version": "1.2.0",
      "model_name": "LayoutModel",
      "state": {
       "margin": "0px 0px 0px 37px",
       "width": "600px"
      }
     },
     "230cf98c124b4e2cbe1d4d19496e74c2": {
      "model_module": "@jupyter-widgets/controls",
      "model_module_version": "1.5.0",
      "model_name": "ProgressStyleModel",
      "state": {
       "description_width": ""
      }
     },
     "24664794184a4dd283220b74bc059a90": {
      "model_module": "@jupyter-widgets/controls",
      "model_module_version": "1.5.0",
      "model_name": "GridBoxModel",
      "state": {
       "children": [
        "IPY_MODEL_8567aaa9d62d4e869d56280114b7bed3"
       ],
       "layout": "IPY_MODEL_b7d3dee5afaf4fad8e784ade8387d4f4"
      }
     },
     "24e86432e1bb49f9a897b79ea961a04a": {
      "model_module": "@jupyter-widgets/controls",
      "model_module_version": "1.5.0",
      "model_name": "FloatProgressModel",
      "state": {
       "bar_style": "danger",
       "layout": "IPY_MODEL_a657bb31dc1c428fb995268663b1fa27",
       "max": 3,
       "style": "IPY_MODEL_5f511130e7f743f497cb7fe5e964158b"
      }
     },
     "255ed5118bd34b1c9a5af946c8c43ba9": {
      "model_module": "@jupyter-widgets/controls",
      "model_module_version": "1.5.0",
      "model_name": "FloatProgressModel",
      "state": {
       "bar_style": "danger",
       "layout": "IPY_MODEL_29bcdfaaaf3e4a1c9d175fc239769a75",
       "max": 3,
       "style": "IPY_MODEL_11998010acf24c8e8c22c2c80cc4590c"
      }
     },
     "277ddbcfcdd04dc1bc0a537279f6476d": {
      "model_module": "@jupyter-widgets/base",
      "model_module_version": "1.2.0",
      "model_name": "LayoutModel",
      "state": {}
     },
     "29bcdfaaaf3e4a1c9d175fc239769a75": {
      "model_module": "@jupyter-widgets/base",
      "model_module_version": "1.2.0",
      "model_name": "LayoutModel",
      "state": {}
     },
     "29c1b773428a45caaf0f4c8d4c94c6dd": {
      "model_module": "@jupyter-widgets/controls",
      "model_module_version": "1.5.0",
      "model_name": "DescriptionStyleModel",
      "state": {
       "description_width": ""
      }
     },
     "2abf4d37e1f246c589c8275440550a4b": {
      "model_module": "@jupyter-widgets/base",
      "model_module_version": "1.2.0",
      "model_name": "LayoutModel",
      "state": {}
     },
     "2bb2504764d84296b1b6ff7f303dc88a": {
      "model_module": "@jupyter-widgets/base",
      "model_module_version": "1.2.0",
      "model_name": "LayoutModel",
      "state": {}
     },
     "2cb6f76df41a4867812487be67ab96a0": {
      "model_module": "@jupyter-widgets/controls",
      "model_module_version": "1.5.0",
      "model_name": "HTMLModel",
      "state": {
       "layout": "IPY_MODEL_72e4edaca5e848feb85bc502c92330fc",
       "style": "IPY_MODEL_20501be392cc4134a3e73c1dc0787152",
       "value": "100%"
      }
     },
     "2d3bb3205a054c8888c2e6ae991c8acc": {
      "model_module": "@jupyter-widgets/controls",
      "model_module_version": "1.5.0",
      "model_name": "FloatProgressModel",
      "state": {
       "bar_style": "success",
       "layout": "IPY_MODEL_18dcad0f93d042c4a0d0c11d34e3bc54",
       "max": 3,
       "style": "IPY_MODEL_0e74b6c2189b4462b2b28532c186b9c9",
       "value": 3
      }
     },
     "2db8fc2174e1441e86393f286e7bf527": {
      "model_module": "@jupyter-widgets/controls",
      "model_module_version": "1.5.0",
      "model_name": "DescriptionStyleModel",
      "state": {
       "description_width": ""
      }
     },
     "2f8ff31ed242440ea584e1a9a43b6e19": {
      "model_module": "@jupyter-widgets/controls",
      "model_module_version": "1.5.0",
      "model_name": "HTMLModel",
      "state": {
       "layout": "IPY_MODEL_4e7c72289dbd441096a2f6636138ec5a",
       "style": "IPY_MODEL_710a655b626346edaa4266701dcb2d0f",
       "value": "<h5>Status</h5>"
      }
     },
     "314c246e3d3343348e36f7eeb9cf9537": {
      "model_module": "@jupyter-widgets/base",
      "model_module_version": "1.2.0",
      "model_name": "LayoutModel",
      "state": {}
     },
     "33f6d94d638148f0a3e8c7871484bd02": {
      "model_module": "@jupyter-widgets/base",
      "model_module_version": "1.2.0",
      "model_name": "LayoutModel",
      "state": {}
     },
     "34b83baf5ec54c6fbcceb64ed5bf9c7a": {
      "model_module": "@jupyter-widgets/base",
      "model_module_version": "1.2.0",
      "model_name": "LayoutModel",
      "state": {
       "width": "70px"
      }
     },
     "34ee8c555b04441397ed4e41407db17a": {
      "model_module": "@jupyter-widgets/controls",
      "model_module_version": "1.5.0",
      "model_name": "DescriptionStyleModel",
      "state": {
       "description_width": ""
      }
     },
     "35e604605b064c0a96bd952a9e61f3dc": {
      "model_module": "@jupyter-widgets/base",
      "model_module_version": "1.2.0",
      "model_name": "LayoutModel",
      "state": {}
     },
     "3a3d264a74a2433683fb5d4f22f40643": {
      "model_module": "@jupyter-widgets/controls",
      "model_module_version": "1.5.0",
      "model_name": "DescriptionStyleModel",
      "state": {
       "description_width": ""
      }
     },
     "3a6ef59223344a8887999471036675cc": {
      "model_module": "@jupyter-widgets/controls",
      "model_module_version": "1.5.0",
      "model_name": "HBoxModel",
      "state": {
       "children": [
        "IPY_MODEL_4fb66c1b85974f67b7669875b992a7a5",
        "IPY_MODEL_de72fdcf888a43b387ece03f1453bf56",
        "IPY_MODEL_4516bdd1cb1648ada7c807aa08636cb2"
       ],
       "layout": "IPY_MODEL_d8c4c671fa634915b66ac682c7bd3ce1"
      }
     },
     "3d2b79a114514cff88aeff0b928e2d64": {
      "model_module": "@jupyter-widgets/controls",
      "model_module_version": "1.5.0",
      "model_name": "HTMLModel",
      "state": {
       "layout": "IPY_MODEL_dcd6cc1d69544d2eac41bb4f2e1bac5f",
       "style": "IPY_MODEL_0af31e725fa64fa582290f8c8eb30a67",
       "value": "<h5>Job ID</h5>"
      }
     },
     "3e7a5501085b4d8bbd4078afba03debf": {
      "model_module": "@jupyter-widgets/base",
      "model_module_version": "1.2.0",
      "model_name": "LayoutModel",
      "state": {}
     },
     "3ec91066ef5b4ead9a9203afd42eb124": {
      "model_module": "@jupyter-widgets/base",
      "model_module_version": "1.2.0",
      "model_name": "LayoutModel",
      "state": {
       "width": "145px"
      }
     },
     "3ece9bf50808406ea0d07d4fc358ad00": {
      "model_module": "@jupyter-widgets/controls",
      "model_module_version": "1.5.0",
      "model_name": "ProgressStyleModel",
      "state": {
       "description_width": ""
      }
     },
     "3f3e569b41b84fc2bff052a422101fe9": {
      "model_module": "@jupyter-widgets/base",
      "model_module_version": "1.2.0",
      "model_name": "LayoutModel",
      "state": {}
     },
     "406da6fc5cc146fba725b8837b454dc2": {
      "model_module": "@jupyter-widgets/base",
      "model_module_version": "1.2.0",
      "model_name": "LayoutModel",
      "state": {
       "width": "190px"
      }
     },
     "40dd2cac94a14a74b8b925e21419f65e": {
      "model_module": "@jupyter-widgets/controls",
      "model_module_version": "1.5.0",
      "model_name": "ProgressStyleModel",
      "state": {
       "description_width": ""
      }
     },
     "4516bdd1cb1648ada7c807aa08636cb2": {
      "model_module": "@jupyter-widgets/controls",
      "model_module_version": "1.5.0",
      "model_name": "HTMLModel",
      "state": {
       "layout": "IPY_MODEL_72e6ed7970174403a762ad1d88f4b50d",
       "style": "IPY_MODEL_7c83162d47bc4b84ba5fe47804610026",
       "value": " 0/3 [00:08&lt;?, ?it/s]"
      }
     },
     "457c52071af94dbfbf9044b55757bfbf": {
      "model_module": "@jupyter-widgets/controls",
      "model_module_version": "1.5.0",
      "model_name": "DescriptionStyleModel",
      "state": {
       "description_width": ""
      }
     },
     "471cd2ac918a4cb5a2bb2fe7132e2927": {
      "model_module": "@jupyter-widgets/controls",
      "model_module_version": "1.5.0",
      "model_name": "HBoxModel",
      "state": {
       "children": [
        "IPY_MODEL_7adba818b8b04fcca83b21be99f5f7cf",
        "IPY_MODEL_6e2c468b188a4606a448851a9fab3651",
        "IPY_MODEL_e8ec1f5391214a11b8be4fb96f058007"
       ],
       "layout": "IPY_MODEL_5b5b9821f2ce4e9fa2c66936a6855ebc"
      }
     },
     "4c8bc0363f8b4d4f933df43bce19ea69": {
      "model_module": "@jupyter-widgets/controls",
      "model_module_version": "1.5.0",
      "model_name": "DescriptionStyleModel",
      "state": {
       "description_width": ""
      }
     },
     "4da44ac940664520b643cbbf2fb60110": {
      "model_module": "@jupyter-widgets/controls",
      "model_module_version": "1.5.0",
      "model_name": "ProgressStyleModel",
      "state": {
       "description_width": ""
      }
     },
     "4e228e1b63884fbab9fe75b510faf021": {
      "model_module": "@jupyter-widgets/controls",
      "model_module_version": "1.5.0",
      "model_name": "ProgressStyleModel",
      "state": {
       "description_width": ""
      }
     },
     "4e26622cca094d04a35524f934ba2792": {
      "model_module": "@jupyter-widgets/controls",
      "model_module_version": "1.5.0",
      "model_name": "HTMLModel",
      "state": {
       "layout": "IPY_MODEL_96a809f2294f4ddfa639ee4cadc19afc",
       "style": "IPY_MODEL_f451d947a87b45679bb595b45c1f8f6a",
       "value": "100%"
      }
     },
     "4e7c72289dbd441096a2f6636138ec5a": {
      "model_module": "@jupyter-widgets/base",
      "model_module_version": "1.2.0",
      "model_name": "LayoutModel",
      "state": {
       "width": "95px"
      }
     },
     "4ef6bbba3072415a82205eca481d41d2": {
      "model_module": "@jupyter-widgets/controls",
      "model_module_version": "1.5.0",
      "model_name": "FloatProgressModel",
      "state": {
       "bar_style": "success",
       "layout": "IPY_MODEL_dbb626a13bac4e78aac0b7c7a3acea6a",
       "max": 3,
       "style": "IPY_MODEL_40dd2cac94a14a74b8b925e21419f65e",
       "value": 3
      }
     },
     "4fb66c1b85974f67b7669875b992a7a5": {
      "model_module": "@jupyter-widgets/controls",
      "model_module_version": "1.5.0",
      "model_name": "HTMLModel",
      "state": {
       "layout": "IPY_MODEL_2bb2504764d84296b1b6ff7f303dc88a",
       "style": "IPY_MODEL_ed2cebcc172446ae9d8ca85ec56d50ae",
       "value": "  0%"
      }
     },
     "5015aafe0eb9424894fa0642f4224c72": {
      "model_module": "@jupyter-widgets/controls",
      "model_module_version": "1.5.0",
      "model_name": "HBoxModel",
      "state": {
       "children": [
        "IPY_MODEL_bf98acecc48545b4afad984fce0361d4",
        "IPY_MODEL_a05d7e0f12c14bdfa6ff89baa0c70d68",
        "IPY_MODEL_5f4ca1f3b9fe4a1cb8f98deb89c1abbc"
       ],
       "layout": "IPY_MODEL_7b4ef06b64784a27a6a35971a1cf14ea"
      }
     },
     "538f40b5e4194b6c8b5c6b334eb594dc": {
      "model_module": "@jupyter-widgets/base",
      "model_module_version": "1.2.0",
      "model_name": "LayoutModel",
      "state": {}
     },
     "545f8e1b7a394d0986bd6347b01021fa": {
      "model_module": "@jupyter-widgets/base",
      "model_module_version": "1.2.0",
      "model_name": "LayoutModel",
      "state": {
       "margin": "0px 0px 10px 0px"
      }
     },
     "54f3258dd1644aa485ae1633089a23de": {
      "model_module": "@jupyter-widgets/base",
      "model_module_version": "1.2.0",
      "model_name": "LayoutModel",
      "state": {}
     },
     "552ef42c7d1547378f73411117c9e3f9": {
      "model_module": "@jupyter-widgets/base",
      "model_module_version": "1.2.0",
      "model_name": "LayoutModel",
      "state": {}
     },
     "5609281a4d304f98902d25232a68f14f": {
      "model_module": "@jupyter-widgets/controls",
      "model_module_version": "1.5.0",
      "model_name": "HBoxModel",
      "state": {
       "children": [
        "IPY_MODEL_779cde6e32e94df49f43b9af7256d798",
        "IPY_MODEL_6635b0b838dc4d0a8c68228bbfd8646c",
        "IPY_MODEL_2f8ff31ed242440ea584e1a9a43b6e19",
        "IPY_MODEL_f25c0521ac664ded8741f94b2d3f266d",
        "IPY_MODEL_7c19c03103b74e85aff1c6cbbbb2d5c9"
       ],
       "layout": "IPY_MODEL_22f88b8a42354c7f9044ceb28c1dca5a"
      }
     },
     "5648b1fa2f4b4eb88568d1ac613006c1": {
      "model_module": "@jupyter-widgets/base",
      "model_module_version": "1.2.0",
      "model_name": "LayoutModel",
      "state": {}
     },
     "59ea5c625368474088b53f8ecc7c54af": {
      "model_module": "@jupyter-widgets/base",
      "model_module_version": "1.2.0",
      "model_name": "LayoutModel",
      "state": {}
     },
     "5b5b9821f2ce4e9fa2c66936a6855ebc": {
      "model_module": "@jupyter-widgets/base",
      "model_module_version": "1.2.0",
      "model_name": "LayoutModel",
      "state": {}
     },
     "5ba22d6634cd4d8b95fbed20bda7d647": {
      "model_module": "@jupyter-widgets/controls",
      "model_module_version": "1.5.0",
      "model_name": "DescriptionStyleModel",
      "state": {
       "description_width": ""
      }
     },
     "5c1fedbb131445eaa344ace7a15bc108": {
      "model_module": "@jupyter-widgets/controls",
      "model_module_version": "1.5.0",
      "model_name": "DescriptionStyleModel",
      "state": {
       "description_width": ""
      }
     },
     "5c4d215b3f4b4a08aa664516739d0f37": {
      "model_module": "@jupyter-widgets/controls",
      "model_module_version": "1.5.0",
      "model_name": "DescriptionStyleModel",
      "state": {
       "description_width": ""
      }
     },
     "5d709678112042d58c22e512f51282e5": {
      "model_module": "@jupyter-widgets/base",
      "model_module_version": "1.2.0",
      "model_name": "LayoutModel",
      "state": {
       "margin": "0px 0px 10px 0px"
      }
     },
     "5e8527782cc847df9214925760a668d8": {
      "model_module": "@jupyter-widgets/controls",
      "model_module_version": "1.5.0",
      "model_name": "HTMLModel",
      "state": {
       "layout": "IPY_MODEL_5648b1fa2f4b4eb88568d1ac613006c1",
       "style": "IPY_MODEL_34ee8c555b04441397ed4e41407db17a",
       "value": "  0%"
      }
     },
     "5f4ca1f3b9fe4a1cb8f98deb89c1abbc": {
      "model_module": "@jupyter-widgets/controls",
      "model_module_version": "1.5.0",
      "model_name": "HTMLModel",
      "state": {
       "layout": "IPY_MODEL_277ddbcfcdd04dc1bc0a537279f6476d",
       "style": "IPY_MODEL_20c783225ebb4da396bda7c5f38fe6e5",
       "value": " 3/3 [01:08&lt;00:00, 22.69s/it]"
      }
     },
     "5f511130e7f743f497cb7fe5e964158b": {
      "model_module": "@jupyter-widgets/controls",
      "model_module_version": "1.5.0",
      "model_name": "ProgressStyleModel",
      "state": {
       "description_width": ""
      }
     },
     "60ab0c462ad241aeb1d25af3609cb831": {
      "model_module": "@jupyter-widgets/base",
      "model_module_version": "1.2.0",
      "model_name": "LayoutModel",
      "state": {}
     },
     "60c23153446d4ecab99724bf4f2e4910": {
      "model_module": "@jupyter-widgets/controls",
      "model_module_version": "1.5.0",
      "model_name": "HBoxModel",
      "state": {
       "children": [
        "IPY_MODEL_60c6851aed634691950099ddf62c8e3b",
        "IPY_MODEL_da548a1bd36a440fba83f60d41dcb5dc",
        "IPY_MODEL_c7f22e4f0fd24706a17c39269e1d6558"
       ],
       "layout": "IPY_MODEL_caa66d07344f4645b63cc43e0b0e18a9"
      }
     },
     "60c6851aed634691950099ddf62c8e3b": {
      "model_module": "@jupyter-widgets/controls",
      "model_module_version": "1.5.0",
      "model_name": "HTMLModel",
      "state": {
       "layout": "IPY_MODEL_a4427733b8dc40a98bb3f760d2ab34de",
       "style": "IPY_MODEL_21ddf8cd32ea4b1bb8b1eebe6b2341e1",
       "value": "100%"
      }
     },
     "624daa2329a14a48bdb858688e69ae43": {
      "model_module": "@jupyter-widgets/controls",
      "model_module_version": "1.5.0",
      "model_name": "DescriptionStyleModel",
      "state": {
       "description_width": ""
      }
     },
     "63bf1a7ab93c4c5eb79ed3a719041adf": {
      "model_module": "@jupyter-widgets/controls",
      "model_module_version": "1.5.0",
      "model_name": "DescriptionStyleModel",
      "state": {
       "description_width": ""
      }
     },
     "648a4792688c43f9a0afae5a476e570c": {
      "model_module": "@jupyter-widgets/base",
      "model_module_version": "1.2.0",
      "model_name": "LayoutModel",
      "state": {}
     },
     "6635b0b838dc4d0a8c68228bbfd8646c": {
      "model_module": "@jupyter-widgets/controls",
      "model_module_version": "1.5.0",
      "model_name": "HTMLModel",
      "state": {
       "layout": "IPY_MODEL_3ec91066ef5b4ead9a9203afd42eb124",
       "style": "IPY_MODEL_63bf1a7ab93c4c5eb79ed3a719041adf",
       "value": "<h5>Backend</h5>"
      }
     },
     "690f8d50b1e34e81b2657724013f2246": {
      "model_module": "@jupyter-widgets/controls",
      "model_module_version": "1.5.0",
      "model_name": "ProgressStyleModel",
      "state": {
       "description_width": ""
      }
     },
     "6a90c87d2ab7422d86fde1a74b9f04a6": {
      "model_module": "@jupyter-widgets/controls",
      "model_module_version": "1.5.0",
      "model_name": "DescriptionStyleModel",
      "state": {
       "description_width": ""
      }
     },
     "6e2c468b188a4606a448851a9fab3651": {
      "model_module": "@jupyter-widgets/controls",
      "model_module_version": "1.5.0",
      "model_name": "FloatProgressModel",
      "state": {
       "bar_style": "success",
       "layout": "IPY_MODEL_bffd152f0f434cfd85cb87966b3bac65",
       "max": 3,
       "style": "IPY_MODEL_230cf98c124b4e2cbe1d4d19496e74c2",
       "value": 3
      }
     },
     "6e5b28abb2754b36864a21f1783f6bc3": {
      "model_module": "@jupyter-widgets/controls",
      "model_module_version": "1.5.0",
      "model_name": "DescriptionStyleModel",
      "state": {
       "description_width": ""
      }
     },
     "710a655b626346edaa4266701dcb2d0f": {
      "model_module": "@jupyter-widgets/controls",
      "model_module_version": "1.5.0",
      "model_name": "DescriptionStyleModel",
      "state": {
       "description_width": ""
      }
     },
     "7140138b099745eabdb8f6a5cdfbadcc": {
      "model_module": "@jupyter-widgets/base",
      "model_module_version": "1.2.0",
      "model_name": "LayoutModel",
      "state": {}
     },
     "71eb275d8f7e4f36bc2b3ad1b92e15ac": {
      "model_module": "@jupyter-widgets/controls",
      "model_module_version": "1.5.0",
      "model_name": "DescriptionStyleModel",
      "state": {
       "description_width": ""
      }
     },
     "72e4edaca5e848feb85bc502c92330fc": {
      "model_module": "@jupyter-widgets/base",
      "model_module_version": "1.2.0",
      "model_name": "LayoutModel",
      "state": {}
     },
     "72e6ed7970174403a762ad1d88f4b50d": {
      "model_module": "@jupyter-widgets/base",
      "model_module_version": "1.2.0",
      "model_name": "LayoutModel",
      "state": {}
     },
     "74eff502d8a045b39e132d9e47f960de": {
      "model_module": "@jupyter-widgets/base",
      "model_module_version": "1.2.0",
      "model_name": "LayoutModel",
      "state": {}
     },
     "768799caffcf41c8845a989845794ccf": {
      "model_module": "@jupyter-widgets/base",
      "model_module_version": "1.2.0",
      "model_name": "LayoutModel",
      "state": {}
     },
     "779cde6e32e94df49f43b9af7256d798": {
      "model_module": "@jupyter-widgets/controls",
      "model_module_version": "1.5.0",
      "model_name": "HTMLModel",
      "state": {
       "layout": "IPY_MODEL_406da6fc5cc146fba725b8837b454dc2",
       "style": "IPY_MODEL_efc830e09912464a9ca541f3e40aaf81",
       "value": "<h5>Job ID</h5>"
      }
     },
     "7adba818b8b04fcca83b21be99f5f7cf": {
      "model_module": "@jupyter-widgets/controls",
      "model_module_version": "1.5.0",
      "model_name": "HTMLModel",
      "state": {
       "layout": "IPY_MODEL_a06deb0d20bb405e9a78a59ed63b8fcb",
       "style": "IPY_MODEL_5ba22d6634cd4d8b95fbed20bda7d647",
       "value": "100%"
      }
     },
     "7b4ef06b64784a27a6a35971a1cf14ea": {
      "model_module": "@jupyter-widgets/base",
      "model_module_version": "1.2.0",
      "model_name": "LayoutModel",
      "state": {}
     },
     "7c19c03103b74e85aff1c6cbbbb2d5c9": {
      "model_module": "@jupyter-widgets/controls",
      "model_module_version": "1.5.0",
      "model_name": "HTMLModel",
      "state": {
       "layout": "IPY_MODEL_35e604605b064c0a96bd952a9e61f3dc",
       "style": "IPY_MODEL_c94728c15b4c4ea3a17c86378b0d6177",
       "value": "<h5>Message</h5>"
      }
     },
     "7c8108a3a6504c03977927017372a8ad": {
      "model_module": "@jupyter-widgets/controls",
      "model_module_version": "1.5.0",
      "model_name": "HTMLModel",
      "state": {
       "layout": "IPY_MODEL_60ab0c462ad241aeb1d25af3609cb831",
       "style": "IPY_MODEL_2db8fc2174e1441e86393f286e7bf527",
       "value": " 3/3 [01:13&lt;00:00, 24.20s/it]"
      }
     },
     "7c83162d47bc4b84ba5fe47804610026": {
      "model_module": "@jupyter-widgets/controls",
      "model_module_version": "1.5.0",
      "model_name": "DescriptionStyleModel",
      "state": {
       "description_width": ""
      }
     },
     "7d5c9bd354f0471c8b41eb027bf96895": {
      "model_module": "@jupyter-widgets/base",
      "model_module_version": "1.2.0",
      "model_name": "LayoutModel",
      "state": {
       "grid_area": "right",
       "padding": "0px 0px 0px 0px",
       "width": "70px"
      }
     },
     "80813324a55c4af1b4a90570dbaa8e74": {
      "model_module": "@jupyter-widgets/controls",
      "model_module_version": "1.5.0",
      "model_name": "HTMLModel",
      "state": {
       "layout": "IPY_MODEL_3e7a5501085b4d8bbd4078afba03debf",
       "style": "IPY_MODEL_0d83b7a9d73744e29d5a47b58498328c",
       "value": " 0/3 [00:00&lt;?, ?it/s]"
      }
     },
     "839afbf4244e4a43b1ea268454445c3a": {
      "model_module": "@jupyter-widgets/controls",
      "model_module_version": "1.5.0",
      "model_name": "HTMLModel",
      "state": {
       "layout": "IPY_MODEL_f1236a885978414fba54c6905bcc486e",
       "style": "IPY_MODEL_4c8bc0363f8b4d4f933df43bce19ea69",
       "value": " 0/3 [00:04&lt;?, ?it/s]"
      }
     },
     "84b1dd10a4a2466899870d9eba3cb299": {
      "model_module": "@jupyter-widgets/base",
      "model_module_version": "1.2.0",
      "model_name": "LayoutModel",
      "state": {}
     },
     "8567aaa9d62d4e869d56280114b7bed3": {
      "model_module": "@jupyter-widgets/controls",
      "model_module_version": "1.5.0",
      "model_name": "ButtonModel",
      "state": {
       "button_style": "primary",
       "description": "Clear",
       "layout": "IPY_MODEL_f4e8aa5fba034e539c90d293c830bf73",
       "style": "IPY_MODEL_ca394d978c7f45fe900dae73fd6389c0"
      }
     },
     "85f62f8dc3744d7bb67c42a0e71f1621": {
      "model_module": "@jupyter-widgets/controls",
      "model_module_version": "1.5.0",
      "model_name": "DescriptionStyleModel",
      "state": {
       "description_width": ""
      }
     },
     "8728b17f8e534d5087992fafe0dfda6d": {
      "model_module": "@jupyter-widgets/controls",
      "model_module_version": "1.5.0",
      "model_name": "HTMLModel",
      "state": {
       "layout": "IPY_MODEL_74eff502d8a045b39e132d9e47f960de",
       "style": "IPY_MODEL_5c4d215b3f4b4a08aa664516739d0f37",
       "value": "  0%"
      }
     },
     "8c1c7060be1d4d86887782fccb104a2c": {
      "model_module": "@jupyter-widgets/controls",
      "model_module_version": "1.5.0",
      "model_name": "DescriptionStyleModel",
      "state": {
       "description_width": ""
      }
     },
     "8d091f69380343bfbab6ebb1bbaf9875": {
      "model_module": "@jupyter-widgets/controls",
      "model_module_version": "1.5.0",
      "model_name": "HBoxModel",
      "state": {
       "children": [
        "IPY_MODEL_2cb6f76df41a4867812487be67ab96a0",
        "IPY_MODEL_ed97cdaa59b3444e819f6ed534f7f7a6",
        "IPY_MODEL_c182ac7fd0c340f5b639e2c87fc3d5fa"
       ],
       "layout": "IPY_MODEL_11fcbab453a8457aa659c5217ace332e"
      }
     },
     "91adca167e2c480e8cf141a00a8e6f22": {
      "model_module": "@jupyter-widgets/controls",
      "model_module_version": "1.5.0",
      "model_name": "HTMLModel",
      "state": {
       "layout": "IPY_MODEL_1b46f9aee555499e821f45dd9fa66834",
       "style": "IPY_MODEL_fab5e9c664a34effaa73e50395d7104e",
       "value": "<h5>Status</h5>"
      }
     },
     "920f2216940b4533b382ea6567ac85a1": {
      "model_module": "@jupyter-widgets/base",
      "model_module_version": "1.2.0",
      "model_name": "LayoutModel",
      "state": {}
     },
     "94ad1315fc70493a802e4e05e60239ed": {
      "model_module": "@jupyter-widgets/controls",
      "model_module_version": "1.5.0",
      "model_name": "DescriptionStyleModel",
      "state": {
       "description_width": ""
      }
     },
     "966221c0767a4e0290e9792acd69fd5e": {
      "model_module": "@jupyter-widgets/base",
      "model_module_version": "1.2.0",
      "model_name": "LayoutModel",
      "state": {}
     },
     "96a809f2294f4ddfa639ee4cadc19afc": {
      "model_module": "@jupyter-widgets/base",
      "model_module_version": "1.2.0",
      "model_name": "LayoutModel",
      "state": {}
     },
     "9bab8fc1ca604b628db5e2bde9eb2382": {
      "model_module": "@jupyter-widgets/controls",
      "model_module_version": "1.5.0",
      "model_name": "HTMLModel",
      "state": {
       "layout": "IPY_MODEL_eba6eebc2640407280b8e8b7f996f317",
       "style": "IPY_MODEL_457c52071af94dbfbf9044b55757bfbf",
       "value": "100%"
      }
     },
     "9f0f5e9752ef40eeba7714896d45eec4": {
      "model_module": "@jupyter-widgets/controls",
      "model_module_version": "1.5.0",
      "model_name": "HTMLModel",
      "state": {
       "layout": "IPY_MODEL_34b83baf5ec54c6fbcceb64ed5bf9c7a",
       "style": "IPY_MODEL_8c1c7060be1d4d86887782fccb104a2c",
       "value": "<h5>Queue</h5>"
      }
     },
     "a05d7e0f12c14bdfa6ff89baa0c70d68": {
      "model_module": "@jupyter-widgets/controls",
      "model_module_version": "1.5.0",
      "model_name": "FloatProgressModel",
      "state": {
       "bar_style": "success",
       "layout": "IPY_MODEL_0980506e4f56427cb77db30dd9aa4d28",
       "max": 3,
       "style": "IPY_MODEL_f1ba916046294aecb91411f4c5b68fa5",
       "value": 3
      }
     },
     "a06deb0d20bb405e9a78a59ed63b8fcb": {
      "model_module": "@jupyter-widgets/base",
      "model_module_version": "1.2.0",
      "model_name": "LayoutModel",
      "state": {}
     },
     "a0f2602bbf3746b38178fe82ad29a968": {
      "model_module": "@jupyter-widgets/controls",
      "model_module_version": "1.5.0",
      "model_name": "DescriptionStyleModel",
      "state": {
       "description_width": ""
      }
     },
     "a2080b7aaa2c47ec90138e0fc2607842": {
      "model_module": "@jupyter-widgets/controls",
      "model_module_version": "1.5.0",
      "model_name": "ProgressStyleModel",
      "state": {
       "description_width": ""
      }
     },
     "a34fbd324be647218647e93d964bb547": {
      "model_module": "@jupyter-widgets/base",
      "model_module_version": "1.2.0",
      "model_name": "LayoutModel",
      "state": {}
     },
     "a4427733b8dc40a98bb3f760d2ab34de": {
      "model_module": "@jupyter-widgets/base",
      "model_module_version": "1.2.0",
      "model_name": "LayoutModel",
      "state": {}
     },
     "a446ca1b3bca4d6b9a5474d4aaef02a1": {
      "model_module": "@jupyter-widgets/base",
      "model_module_version": "1.2.0",
      "model_name": "LayoutModel",
      "state": {}
     },
     "a561b9a54d1b4192bac94ab1dd8f7553": {
      "model_module": "@jupyter-widgets/controls",
      "model_module_version": "1.5.0",
      "model_name": "DescriptionStyleModel",
      "state": {
       "description_width": ""
      }
     },
     "a657bb31dc1c428fb995268663b1fa27": {
      "model_module": "@jupyter-widgets/base",
      "model_module_version": "1.2.0",
      "model_name": "LayoutModel",
      "state": {}
     },
     "a871eb9eed3343e094544bafba59de29": {
      "model_module": "@jupyter-widgets/controls",
      "model_module_version": "1.5.0",
      "model_name": "FloatProgressModel",
      "state": {
       "bar_style": "danger",
       "layout": "IPY_MODEL_f9d0aa383b804d34a415f844b99b42ac",
       "max": 3,
       "style": "IPY_MODEL_3ece9bf50808406ea0d07d4fc358ad00"
      }
     },
     "a8b319b59ce741c680c3db4a0d6ff512": {
      "model_module": "@jupyter-widgets/controls",
      "model_module_version": "1.5.0",
      "model_name": "DescriptionStyleModel",
      "state": {
       "description_width": ""
      }
     },
     "a92d69b21fc0419f862de2a09794cda9": {
      "model_module": "@jupyter-widgets/controls",
      "model_module_version": "1.5.0",
      "model_name": "HBoxModel",
      "state": {
       "children": [
        "IPY_MODEL_f4795f77f0f845f7be0442f6a0520b41",
        "IPY_MODEL_255ed5118bd34b1c9a5af946c8c43ba9",
        "IPY_MODEL_f8988685ca244768899431233f0ec3bf"
       ],
       "layout": "IPY_MODEL_552ef42c7d1547378f73411117c9e3f9"
      }
     },
     "ab99a8e06dc14f4babdeb69755c9855a": {
      "model_module": "@jupyter-widgets/controls",
      "model_module_version": "1.5.0",
      "model_name": "DescriptionStyleModel",
      "state": {
       "description_width": ""
      }
     },
     "b6bdf0ccf6334ebf8bfc675ecc680eb8": {
      "model_module": "@jupyter-widgets/controls",
      "model_module_version": "1.5.0",
      "model_name": "FloatProgressModel",
      "state": {
       "bar_style": "success",
       "layout": "IPY_MODEL_208db4c4360441e5a55e46c4586d1a08",
       "max": 3,
       "style": "IPY_MODEL_de4d02c0aed1442e9f5f5766bbab8b9a",
       "value": 3
      }
     },
     "b6e96f2eb69c44aea39c1bd1211dddb9": {
      "model_module": "@jupyter-widgets/controls",
      "model_module_version": "1.5.0",
      "model_name": "DescriptionStyleModel",
      "state": {
       "description_width": ""
      }
     },
     "b705aec427a9428db3ccc9b8e1951e0e": {
      "model_module": "@jupyter-widgets/base",
      "model_module_version": "1.2.0",
      "model_name": "LayoutModel",
      "state": {}
     },
     "b7a25dbc8dab4dcb842f9e7bf15c21ad": {
      "model_module": "@jupyter-widgets/base",
      "model_module_version": "1.2.0",
      "model_name": "LayoutModel",
      "state": {}
     },
     "b7d3dee5afaf4fad8e784ade8387d4f4": {
      "model_module": "@jupyter-widgets/base",
      "model_module_version": "1.2.0",
      "model_name": "LayoutModel",
      "state": {
       "grid_template_areas": "\n                                       \". . . . right \"\n                                        ",
       "grid_template_columns": "20% 20% 20% 20% 20%",
       "width": "100%"
      }
     },
     "b950b9af3f184c03a728081011eb992b": {
      "model_module": "@jupyter-widgets/controls",
      "model_module_version": "1.5.0",
      "model_name": "DescriptionStyleModel",
      "state": {
       "description_width": ""
      }
     },
     "ba8a9d88aa9840378c6d9443ce6b654b": {
      "model_module": "@jupyter-widgets/base",
      "model_module_version": "1.2.0",
      "model_name": "LayoutModel",
      "state": {
       "width": "145px"
      }
     },
     "bc5ceb9fcd2247b1980c63433b4593a6": {
      "model_module": "@jupyter-widgets/controls",
      "model_module_version": "1.5.0",
      "model_name": "HBoxModel",
      "state": {
       "children": [
        "IPY_MODEL_0188ff65a4ad49bbb483a945ddbc73d4",
        "IPY_MODEL_24e86432e1bb49f9a897b79ea961a04a",
        "IPY_MODEL_ccc6c153c0ad44afb472a86ab4cc8b70"
       ],
       "layout": "IPY_MODEL_966221c0767a4e0290e9792acd69fd5e"
      }
     },
     "bd4dbc828b9e488ea4a9ca94eddee867": {
      "model_module": "@jupyter-widgets/controls",
      "model_module_version": "1.5.0",
      "model_name": "HTMLModel",
      "state": {
       "layout": "IPY_MODEL_a34fbd324be647218647e93d964bb547",
       "style": "IPY_MODEL_3a3d264a74a2433683fb5d4f22f40643",
       "value": " 3/3 [00:35&lt;00:00, 11.96s/it]"
      }
     },
     "be3deaf2670b4cba88cc455fee9701df": {
      "model_module": "@jupyter-widgets/base",
      "model_module_version": "1.2.0",
      "model_name": "LayoutModel",
      "state": {}
     },
     "bf98acecc48545b4afad984fce0361d4": {
      "model_module": "@jupyter-widgets/controls",
      "model_module_version": "1.5.0",
      "model_name": "HTMLModel",
      "state": {
       "layout": "IPY_MODEL_d39af26950ac42d89187b1568999266a",
       "style": "IPY_MODEL_94ad1315fc70493a802e4e05e60239ed",
       "value": "100%"
      }
     },
     "bffd152f0f434cfd85cb87966b3bac65": {
      "model_module": "@jupyter-widgets/base",
      "model_module_version": "1.2.0",
      "model_name": "LayoutModel",
      "state": {}
     },
     "c132f3f055c8480f8275c86402af9855": {
      "model_module": "@jupyter-widgets/base",
      "model_module_version": "1.2.0",
      "model_name": "LayoutModel",
      "state": {
       "width": "70px"
      }
     },
     "c182ac7fd0c340f5b639e2c87fc3d5fa": {
      "model_module": "@jupyter-widgets/controls",
      "model_module_version": "1.5.0",
      "model_name": "HTMLModel",
      "state": {
       "layout": "IPY_MODEL_33f6d94d638148f0a3e8c7871484bd02",
       "style": "IPY_MODEL_0816b93963ad4f2bbd2de66f8a2119c0",
       "value": " 3/3 [02:15&lt;00:00, 43.98s/it]"
      }
     },
     "c3d39234715f47d8b6401f692da45c80": {
      "model_module": "@jupyter-widgets/base",
      "model_module_version": "1.2.0",
      "model_name": "LayoutModel",
      "state": {}
     },
     "c3d6735ac522461483d0f8097df838d4": {
      "model_module": "@jupyter-widgets/controls",
      "model_module_version": "1.5.0",
      "model_name": "ProgressStyleModel",
      "state": {
       "description_width": ""
      }
     },
     "c490b9094e814266b100a7b4c06c9ade": {
      "model_module": "@jupyter-widgets/controls",
      "model_module_version": "1.5.0",
      "model_name": "HTMLModel",
      "state": {
       "layout": "IPY_MODEL_ba8a9d88aa9840378c6d9443ce6b654b",
       "style": "IPY_MODEL_29c1b773428a45caaf0f4c8d4c94c6dd",
       "value": "<h5>Backend</h5>"
      }
     },
     "c63dec7f78184b568a18d5435b6fd809": {
      "model_module": "@jupyter-widgets/controls",
      "model_module_version": "1.5.0",
      "model_name": "HBoxModel",
      "state": {
       "children": [
        "IPY_MODEL_9bab8fc1ca604b628db5e2bde9eb2382",
        "IPY_MODEL_b6bdf0ccf6334ebf8bfc675ecc680eb8",
        "IPY_MODEL_7c8108a3a6504c03977927017372a8ad"
       ],
       "layout": "IPY_MODEL_0504ed4d61814c018b56f993fdd1ba03"
      }
     },
     "c6c2f4b81b99410ba71dd514ef4afe1b": {
      "model_module": "@jupyter-widgets/controls",
      "model_module_version": "1.5.0",
      "model_name": "HTMLModel",
      "state": {
       "layout": "IPY_MODEL_920f2216940b4533b382ea6567ac85a1",
       "style": "IPY_MODEL_b6e96f2eb69c44aea39c1bd1211dddb9",
       "value": "<h5>Message</h5>"
      }
     },
     "c7f22e4f0fd24706a17c39269e1d6558": {
      "model_module": "@jupyter-widgets/controls",
      "model_module_version": "1.5.0",
      "model_name": "HTMLModel",
      "state": {
       "layout": "IPY_MODEL_768799caffcf41c8845a989845794ccf",
       "style": "IPY_MODEL_b950b9af3f184c03a728081011eb992b",
       "value": " 3/3 [02:16&lt;00:00, 44.21s/it]"
      }
     },
     "c83a241701624022b537332f6d847073": {
      "model_module": "@jupyter-widgets/base",
      "model_module_version": "1.2.0",
      "model_name": "LayoutModel",
      "state": {}
     },
     "c94728c15b4c4ea3a17c86378b0d6177": {
      "model_module": "@jupyter-widgets/controls",
      "model_module_version": "1.5.0",
      "model_name": "DescriptionStyleModel",
      "state": {
       "description_width": ""
      }
     },
     "c96f1ac0bb1145288d1d98d6c6110cb3": {
      "model_module": "@jupyter-widgets/base",
      "model_module_version": "1.2.0",
      "model_name": "LayoutModel",
      "state": {}
     },
     "ca394d978c7f45fe900dae73fd6389c0": {
      "model_module": "@jupyter-widgets/controls",
      "model_module_version": "1.5.0",
      "model_name": "ButtonStyleModel",
      "state": {}
     },
     "caa66d07344f4645b63cc43e0b0e18a9": {
      "model_module": "@jupyter-widgets/base",
      "model_module_version": "1.2.0",
      "model_name": "LayoutModel",
      "state": {}
     },
     "ccc6c153c0ad44afb472a86ab4cc8b70": {
      "model_module": "@jupyter-widgets/controls",
      "model_module_version": "1.5.0",
      "model_name": "HTMLModel",
      "state": {
       "layout": "IPY_MODEL_314c246e3d3343348e36f7eeb9cf9537",
       "style": "IPY_MODEL_6a90c87d2ab7422d86fde1a74b9f04a6",
       "value": " 0/3 [00:04&lt;?, ?it/s]"
      }
     },
     "d0d9104c379440b7bfd4e93441e2fcb1": {
      "model_module": "@jupyter-widgets/controls",
      "model_module_version": "1.5.0",
      "model_name": "HTMLModel",
      "state": {
       "layout": "IPY_MODEL_b705aec427a9428db3ccc9b8e1951e0e",
       "style": "IPY_MODEL_a0f2602bbf3746b38178fe82ad29a968",
       "value": " 3/3 [01:07&lt;00:00, 22.55s/it]"
      }
     },
     "d1a53308f7654a1fb5c286ab483d5186": {
      "model_module": "@jupyter-widgets/controls",
      "model_module_version": "1.5.0",
      "model_name": "HTMLModel",
      "state": {
       "layout": "IPY_MODEL_a446ca1b3bca4d6b9a5474d4aaef02a1",
       "style": "IPY_MODEL_ff9c41689a144a478e51e6c7c1025220",
       "value": "100%"
      }
     },
     "d39af26950ac42d89187b1568999266a": {
      "model_module": "@jupyter-widgets/base",
      "model_module_version": "1.2.0",
      "model_name": "LayoutModel",
      "state": {}
     },
     "d69ede9408be4faba386c4c47de02e3e": {
      "model_module": "@jupyter-widgets/base",
      "model_module_version": "1.2.0",
      "model_name": "LayoutModel",
      "state": {}
     },
     "d8c4c671fa634915b66ac682c7bd3ce1": {
      "model_module": "@jupyter-widgets/base",
      "model_module_version": "1.2.0",
      "model_name": "LayoutModel",
      "state": {}
     },
     "d9c6303247fd436b8752035f471e0fee": {
      "model_module": "@jupyter-widgets/controls",
      "model_module_version": "1.5.0",
      "model_name": "HBoxModel",
      "state": {
       "children": [
        "IPY_MODEL_de77f725a16140b98f512484dba89a53",
        "IPY_MODEL_22cda8884a0d4f48bd99ac8c1a642b49",
        "IPY_MODEL_839afbf4244e4a43b1ea268454445c3a"
       ],
       "layout": "IPY_MODEL_b7a25dbc8dab4dcb842f9e7bf15c21ad"
      }
     },
     "da548a1bd36a440fba83f60d41dcb5dc": {
      "model_module": "@jupyter-widgets/controls",
      "model_module_version": "1.5.0",
      "model_name": "FloatProgressModel",
      "state": {
       "bar_style": "success",
       "layout": "IPY_MODEL_2abf4d37e1f246c589c8275440550a4b",
       "max": 3,
       "style": "IPY_MODEL_4da44ac940664520b643cbbf2fb60110",
       "value": 3
      }
     },
     "dbb626a13bac4e78aac0b7c7a3acea6a": {
      "model_module": "@jupyter-widgets/base",
      "model_module_version": "1.2.0",
      "model_name": "LayoutModel",
      "state": {}
     },
     "dbfeda5e95044f169ac0b21e37e58f81": {
      "model_module": "@jupyter-widgets/controls",
      "model_module_version": "1.5.0",
      "model_name": "HBoxModel",
      "state": {
       "children": [
        "IPY_MODEL_4e26622cca094d04a35524f934ba2792",
        "IPY_MODEL_2d3bb3205a054c8888c2e6ae991c8acc",
        "IPY_MODEL_d0d9104c379440b7bfd4e93441e2fcb1"
       ],
       "layout": "IPY_MODEL_be3deaf2670b4cba88cc455fee9701df"
      }
     },
     "dcd6cc1d69544d2eac41bb4f2e1bac5f": {
      "model_module": "@jupyter-widgets/base",
      "model_module_version": "1.2.0",
      "model_name": "LayoutModel",
      "state": {
       "width": "190px"
      }
     },
     "de0c210a2fb14498899a336862454802": {
      "model_module": "@jupyter-widgets/controls",
      "model_module_version": "1.5.0",
      "model_name": "FloatProgressModel",
      "state": {
       "bar_style": "danger",
       "layout": "IPY_MODEL_54f3258dd1644aa485ae1633089a23de",
       "max": 3,
       "style": "IPY_MODEL_a2080b7aaa2c47ec90138e0fc2607842"
      }
     },
     "de4d02c0aed1442e9f5f5766bbab8b9a": {
      "model_module": "@jupyter-widgets/controls",
      "model_module_version": "1.5.0",
      "model_name": "ProgressStyleModel",
      "state": {
       "description_width": ""
      }
     },
     "de72fdcf888a43b387ece03f1453bf56": {
      "model_module": "@jupyter-widgets/controls",
      "model_module_version": "1.5.0",
      "model_name": "FloatProgressModel",
      "state": {
       "bar_style": "danger",
       "layout": "IPY_MODEL_59ea5c625368474088b53f8ecc7c54af",
       "max": 3,
       "style": "IPY_MODEL_c3d6735ac522461483d0f8097df838d4"
      }
     },
     "de77f725a16140b98f512484dba89a53": {
      "model_module": "@jupyter-widgets/controls",
      "model_module_version": "1.5.0",
      "model_name": "HTMLModel",
      "state": {
       "layout": "IPY_MODEL_3f3e569b41b84fc2bff052a422101fe9",
       "style": "IPY_MODEL_624daa2329a14a48bdb858688e69ae43",
       "value": "  0%"
      }
     },
     "e369c13e11034004bdf49225c7f0bdd6": {
      "model_module": "@jupyter-widgets/controls",
      "model_module_version": "1.5.0",
      "model_name": "HBoxModel",
      "state": {
       "children": [
        "IPY_MODEL_8728b17f8e534d5087992fafe0dfda6d",
        "IPY_MODEL_de0c210a2fb14498899a336862454802",
        "IPY_MODEL_e6691bc4f937437ea5b26213231aeed4"
       ],
       "layout": "IPY_MODEL_00b2ee25bb734a57b58de9b3a036fdfb"
      }
     },
     "e388bbde1fef4ccab14370cd15695184": {
      "model_module": "@jupyter-widgets/controls",
      "model_module_version": "1.5.0",
      "model_name": "HBoxModel",
      "state": {
       "children": [
        "IPY_MODEL_3d2b79a114514cff88aeff0b928e2d64",
        "IPY_MODEL_c490b9094e814266b100a7b4c06c9ade",
        "IPY_MODEL_91adca167e2c480e8cf141a00a8e6f22",
        "IPY_MODEL_9f0f5e9752ef40eeba7714896d45eec4",
        "IPY_MODEL_c6c2f4b81b99410ba71dd514ef4afe1b"
       ],
       "layout": "IPY_MODEL_150e241be60148cb9f7d51e4af60364b"
      }
     },
     "e6691bc4f937437ea5b26213231aeed4": {
      "model_module": "@jupyter-widgets/controls",
      "model_module_version": "1.5.0",
      "model_name": "HTMLModel",
      "state": {
       "layout": "IPY_MODEL_c83a241701624022b537332f6d847073",
       "style": "IPY_MODEL_85f62f8dc3744d7bb67c42a0e71f1621",
       "value": " 0/3 [00:00&lt;?, ?it/s]"
      }
     },
     "e8ec1f5391214a11b8be4fb96f058007": {
      "model_module": "@jupyter-widgets/controls",
      "model_module_version": "1.5.0",
      "model_name": "HTMLModel",
      "state": {
       "layout": "IPY_MODEL_c96f1ac0bb1145288d1d98d6c6110cb3",
       "style": "IPY_MODEL_5c1fedbb131445eaa344ace7a15bc108",
       "value": " 3/3 [00:35&lt;00:00, 11.83s/it]"
      }
     },
     "eaccd7230b04441e9ea74e211aa16d60": {
      "model_module": "@jupyter-widgets/controls",
      "model_module_version": "1.5.0",
      "model_name": "GridBoxModel",
      "state": {
       "children": [
        "IPY_MODEL_fe09adefdbba4a9396ec4bd534688890"
       ],
       "layout": "IPY_MODEL_0daf5f1b0d4147c9a0b5a8cae9e78c3d"
      }
     },
     "ead10b82726a419da67989e814275bac": {
      "model_module": "@jupyter-widgets/controls",
      "model_module_version": "1.5.0",
      "model_name": "HTMLModel",
      "state": {
       "layout": "IPY_MODEL_5d709678112042d58c22e512f51282e5",
       "style": "IPY_MODEL_ab99a8e06dc14f4babdeb69755c9855a",
       "value": "<p style='font-family: IBM Plex Sans, Arial, Helvetica, sans-serif; font-size: 20px; font-weight: medium;'>Circuit Properties</p>"
      }
     },
     "eb32f52ad6014d00bb8f372279a731d3": {
      "model_module": "@jupyter-widgets/controls",
      "model_module_version": "1.5.0",
      "model_name": "HBoxModel",
      "state": {
       "children": [
        "IPY_MODEL_d1a53308f7654a1fb5c286ab483d5186",
        "IPY_MODEL_4ef6bbba3072415a82205eca481d41d2",
        "IPY_MODEL_bd4dbc828b9e488ea4a9ca94eddee867"
       ],
       "layout": "IPY_MODEL_7140138b099745eabdb8f6a5cdfbadcc"
      }
     },
     "eba6eebc2640407280b8e8b7f996f317": {
      "model_module": "@jupyter-widgets/base",
      "model_module_version": "1.2.0",
      "model_name": "LayoutModel",
      "state": {}
     },
     "ed2cebcc172446ae9d8ca85ec56d50ae": {
      "model_module": "@jupyter-widgets/controls",
      "model_module_version": "1.5.0",
      "model_name": "DescriptionStyleModel",
      "state": {
       "description_width": ""
      }
     },
     "ed97cdaa59b3444e819f6ed534f7f7a6": {
      "model_module": "@jupyter-widgets/controls",
      "model_module_version": "1.5.0",
      "model_name": "FloatProgressModel",
      "state": {
       "bar_style": "success",
       "layout": "IPY_MODEL_c3d39234715f47d8b6401f692da45c80",
       "max": 3,
       "style": "IPY_MODEL_690f8d50b1e34e81b2657724013f2246",
       "value": 3
      }
     },
     "efc830e09912464a9ca541f3e40aaf81": {
      "model_module": "@jupyter-widgets/controls",
      "model_module_version": "1.5.0",
      "model_name": "DescriptionStyleModel",
      "state": {
       "description_width": ""
      }
     },
     "f1236a885978414fba54c6905bcc486e": {
      "model_module": "@jupyter-widgets/base",
      "model_module_version": "1.2.0",
      "model_name": "LayoutModel",
      "state": {}
     },
     "f1ba916046294aecb91411f4c5b68fa5": {
      "model_module": "@jupyter-widgets/controls",
      "model_module_version": "1.5.0",
      "model_name": "ProgressStyleModel",
      "state": {
       "description_width": ""
      }
     },
     "f25c0521ac664ded8741f94b2d3f266d": {
      "model_module": "@jupyter-widgets/controls",
      "model_module_version": "1.5.0",
      "model_name": "HTMLModel",
      "state": {
       "layout": "IPY_MODEL_c132f3f055c8480f8275c86402af9855",
       "style": "IPY_MODEL_a561b9a54d1b4192bac94ab1dd8f7553",
       "value": "<h5>Queue</h5>"
      }
     },
     "f451d947a87b45679bb595b45c1f8f6a": {
      "model_module": "@jupyter-widgets/controls",
      "model_module_version": "1.5.0",
      "model_name": "DescriptionStyleModel",
      "state": {
       "description_width": ""
      }
     },
     "f4795f77f0f845f7be0442f6a0520b41": {
      "model_module": "@jupyter-widgets/controls",
      "model_module_version": "1.5.0",
      "model_name": "HTMLModel",
      "state": {
       "layout": "IPY_MODEL_d69ede9408be4faba386c4c47de02e3e",
       "style": "IPY_MODEL_6e5b28abb2754b36864a21f1783f6bc3",
       "value": "  0%"
      }
     },
     "f4e8aa5fba034e539c90d293c830bf73": {
      "model_module": "@jupyter-widgets/base",
      "model_module_version": "1.2.0",
      "model_name": "LayoutModel",
      "state": {
       "grid_area": "right",
       "padding": "0px 0px 0px 0px",
       "width": "70px"
      }
     },
     "f65c46a113c34d9db10c8ca2a58e3e6f": {
      "model_module": "@jupyter-widgets/controls",
      "model_module_version": "1.5.0",
      "model_name": "ButtonStyleModel",
      "state": {}
     },
     "f8988685ca244768899431233f0ec3bf": {
      "model_module": "@jupyter-widgets/controls",
      "model_module_version": "1.5.0",
      "model_name": "HTMLModel",
      "state": {
       "layout": "IPY_MODEL_84b1dd10a4a2466899870d9eba3cb299",
       "style": "IPY_MODEL_1a9f28b995854a689b19870c27ba2e40",
       "value": " 0/3 [00:20&lt;?, ?it/s]"
      }
     },
     "f9d0aa383b804d34a415f844b99b42ac": {
      "model_module": "@jupyter-widgets/base",
      "model_module_version": "1.2.0",
      "model_name": "LayoutModel",
      "state": {}
     },
     "fab5e9c664a34effaa73e50395d7104e": {
      "model_module": "@jupyter-widgets/controls",
      "model_module_version": "1.5.0",
      "model_name": "DescriptionStyleModel",
      "state": {
       "description_width": ""
      }
     },
     "fe09adefdbba4a9396ec4bd534688890": {
      "model_module": "@jupyter-widgets/controls",
      "model_module_version": "1.5.0",
      "model_name": "ButtonModel",
      "state": {
       "button_style": "primary",
       "description": "Clear",
       "layout": "IPY_MODEL_7d5c9bd354f0471c8b41eb027bf96895",
       "style": "IPY_MODEL_f65c46a113c34d9db10c8ca2a58e3e6f"
      }
     },
     "ff9c41689a144a478e51e6c7c1025220": {
      "model_module": "@jupyter-widgets/controls",
      "model_module_version": "1.5.0",
      "model_name": "DescriptionStyleModel",
      "state": {
       "description_width": ""
      }
     }
    },
    "version_major": 2,
    "version_minor": 0
   }
  }
 },
 "nbformat": 4,
 "nbformat_minor": 5
}

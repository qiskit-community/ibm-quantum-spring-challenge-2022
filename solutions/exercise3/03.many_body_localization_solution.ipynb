{
 "cells": [
  {
   "cell_type": "code",
   "execution_count": null,
   "id": "7152f2bf-5b38-470a-a523-6398a51c2c16",
   "metadata": {},
   "outputs": [],
   "source": [
    "import numpy as np\n",
    "import matplotlib.pyplot as plt\n",
    "\n",
    "# Importing standard Qiskit libraries\n",
    "from qiskit import QuantumCircuit, QuantumRegister, transpile, Aer, IBMQ, execute\n",
    "from qiskit.tools.jupyter import *\n",
    "from qiskit.visualization import *\n",
    "from qiskit.providers.aer import QasmSimulator\n",
    "from tqdm.notebook import tqdm\n",
    "\n",
    "from qiskit.providers.aer import QasmSimulator\n",
    "from qiskit.tools.monitor import job_monitor\n",
    "from qiskit.circuit import Parameter\n",
    "import qiskit.quantum_info as qi\n",
    "\n",
    "from qc_grader.challenges.spring_2022.helpers import generate_disordered_tb_instruction\n",
    "\n",
    "# Suppress warnings\n",
    "import warnings\n",
    "warnings.filterwarnings('ignore')"
   ]
  },
  {
   "cell_type": "markdown",
   "id": "fe9e4c6f",
   "metadata": {},
   "source": [
    "## Many-body quantum dynamics\n",
    "\n",
    "In this exercise we examine lattice disorder and particle-particle interaction. A closed quantum many-body system initialized in a non-equilibrium state will reach the equilibrium state, refered to as thermalization, under its own dynamics. This behavior is as a result of the laws of statistical mechanics, and analogous to a hot cup of coffee cooling down to the surrounding temperature if left unattended. \n",
    "\n",
    "However, the presence of lattice disorder prevents the system from evolving into an ergodic thermalized state. This interplay between disorder and particle interaction results in many-body localization (MBL), and it allows the system to retain a memory of its initial condition at all times. For more information about MBL refer to [1]\n",
    "\n",
    "Let's again consider the tight-binding Hamiltonian with arbitrary site energies:\n",
    "\n",
    "$$H_{\\rm tb}/\\hbar = \\sum^{3}_{i=0} (X_i X_{i+1} + Y_i Y_{i+1}) + \\sum_i \\epsilon_i Z_i $$\n",
    "\n",
    "As we explored in exercise 2, we can emulate disorder in this system by setting $\\epsilon_i=W \\rm{cos}(2\\pi\\beta i)$, where $W$ is the disorder strength, and $\\beta$ determines the quasicrystal periodicity. We can add multiple particles to the system by initalizing multiple qubits to the $|1\\rangle$ state prior to the unitary time evolution. Under $H_{\\rm tb}$, each site can only be occupied by a single particle, resulting in particle repulsion interaction.\n",
    "\n",
    "[1] https://arxiv.org/abs/1804.11065"
   ]
  },
  {
   "cell_type": "markdown",
   "id": "99afa252",
   "metadata": {},
   "source": [
    "One of the signatures of the breakdown of thermalization is the emergence of **imbalance**. In a thermalized system, we expect each site of the lattice to be occupied by the same average number of particles after reaching steady state. However, adding disorder to the interacting system will result in deviations from the thermal value observed on each site. The system imbalance can be quantified using the following expression:\n",
    "\n",
    "$$\\mathcal{I}= \\langle (N_e-N_o)/(N_e+N_o) \\rangle$$\n",
    "\n",
    "where $N_e$ and $N_o$ are the even and odd site populations of the system. For a thermalized system this $\\mathcal{I}=0$, and system disorder will cause deviations from this value."
   ]
  },
  {
   "cell_type": "markdown",
   "id": "324e267a",
   "metadata": {},
   "source": [
    "Let's consider a few examples:\n",
    "\n",
    "1. $ |\\psi\\rangle = |0111\\rangle $: \n",
    "\\begin{align*}\n",
    "\\langle \\psi | N_e | \\psi \\rangle &= 1 \\\\\n",
    "\\langle \\psi | N_o | \\psi \\rangle &= 2 \\\\\n",
    "\\mathcal{I} = \\langle \\psi |  (N_e-N_o)/(N_e+N_o) | \\psi \\rangle &= -1/3\n",
    "\\end{align*}\n",
    "\n",
    "2. $ |\\psi\\rangle = \\sqrt{2/3} |0111\\rangle + \\sqrt{1/3} |1011\\rangle $: \n",
    "$$ \\langle \\psi |  \\mathcal{I} | \\psi \\rangle = 2/3 * \\langle 0111 |  \\mathcal{I} |0111\\rangle + 1/3 * \\langle 1011 |  \\mathcal{I} |1011\\rangle $$\n",
    "\\begin{align*}\n",
    "\\langle 0111 |  \\mathcal{I} |0111\\rangle &= -1/3 \\\\\n",
    "\\langle 1011 |  \\mathcal{I} |1011\\rangle &= 1/3 \\\\\n",
    " \\langle \\psi |  \\mathcal{I} | \\psi \\rangle &= -1/9\n",
    "\\end{align*}"
   ]
  },
  {
   "cell_type": "markdown",
   "id": "bfe79af8",
   "metadata": {},
   "source": [
    "<div class=\"alert alert-block alert-danger\">\n",
    "    \n",
    "<b>Challenge question 3a</b> \n",
    "\n",
    "Write a function that outputs the imbalance of a quantum state\n",
    "    \n",
    "</div>"
   ]
  },
  {
   "cell_type": "code",
   "execution_count": null,
   "id": "3f428318",
   "metadata": {},
   "outputs": [],
   "source": [
    "def get_imbalance(state):\n",
    "    ###EDIT CODE BELOW\n",
    "    ### HINT: MAKE SURE TO SKIP CALCULATING IMBALANCE OF THE |00...0> STATE\n",
    "    imbalance_val=0\n",
    "    for i, p in enumerate(np.abs(state)**2):\n",
    "        if i==0: continue\n",
    "        bit_string=[int(b) for b in bin(i)[2:].zfill(len(state.dims()))]\n",
    "        N_e=sum(bit_string[::2])\n",
    "        N_o=sum(bit_string[1::2])\n",
    "        imbalance_val += (N_e-N_o)/(N_e+N_o) * p\n",
    "    \n",
    "    ###DO NOT EDIT BELOW\n",
    "    \n",
    "    return imbalance_val"
   ]
  },
  {
   "cell_type": "code",
   "execution_count": null,
   "id": "5f6fdd44",
   "metadata": {},
   "outputs": [],
   "source": [
    "## Grade and submit your solution\n",
    "from qc_grader.challenges.spring_2022 import grade_ex3a\n",
    "\n",
    "grade_ex3a(get_imbalance) \n"
   ]
  },
  {
   "cell_type": "markdown",
   "id": "276339f9",
   "metadata": {},
   "source": [
    "Next, we consider how quantum information and entanglement entropy grows in the system. In an entangled system, ignoring information about the remaining system puts the subsystem into a mixed state of different number states. We can probe the **von Neumann entropy** to gain insight into the degree of entanglement between subsystem $A$ and the remaining of the system:\n",
    "\n",
    "$$\\mathcal{S}_{\\rm vn}(\\rho_A)= -\\rm{tr}(\\rho_A \\rm{ln} \\rho_A)$$\n",
    "\n",
    "Here, $\\rho_A= \\rm{tr}_{\\bar{A}} \\rho$ is the reduced density matrix describing subsytem $A$ when we trace out the rest of the system. If a subsytem $A$ is fully entangled with the rest of the system, $\\mathcal{S}_{\\rm vn}(\\rho_A) = \\rm{ln}2$, whereas if the subsytem is completely separable (in a product state) with respect to its environment $\\mathcal{S}_{\\rm vn}(\\rho_A)=0$. Consider the example below:"
   ]
  },
  {
   "cell_type": "code",
   "execution_count": null,
   "id": "b0e069e1",
   "metadata": {},
   "outputs": [],
   "source": [
    "bell_state = qi.Statevector(np.array([0,1,1,0])/np.sqrt(2))\n",
    "\n",
    "rho_0 = qi.partial_trace(bell_state,[1]) # We trace out qubit 1\n",
    "rho_1 = qi.partial_trace(bell_state,[0]) # We trace out qubit 0\n",
    "\n",
    "print('QB0 vn entropy: ', qi.entropy(rho_0, base=np.exp(1)))\n",
    "print('QB1 vn entropy: ', qi.entropy(rho_1, base=np.exp(1)))"
   ]
  },
  {
   "cell_type": "markdown",
   "id": "a80d1c7f",
   "metadata": {},
   "source": [
    "## Probing the many-body quantum dynamics in a 12 qubit chain\n",
    "\n",
    "For this part of the exercise, we use the same lattice disorder pattern as we explored in exercise 2."
   ]
  },
  {
   "cell_type": "code",
   "execution_count": null,
   "id": "6d790e43-7e59-40b3-9a3a-806e7df15b70",
   "metadata": {},
   "outputs": [],
   "source": [
    "t = Parameter('t')"
   ]
  },
  {
   "cell_type": "code",
   "execution_count": null,
   "id": "0ab29437",
   "metadata": {},
   "outputs": [],
   "source": [
    "num_qubits=12\n",
    "deltas=[Parameter('delta_{:d}'.format(idx)) for idx in range(num_qubits)]\n",
    "disorder_trot_step=generate_disordered_tb_instruction(t, deltas, num_qubits)"
   ]
  },
  {
   "cell_type": "code",
   "execution_count": null,
   "id": "e1ae8b4e",
   "metadata": {},
   "outputs": [],
   "source": [
    "# Here we define the disorder pattern\n",
    "\n",
    "beta=(np.sqrt(5)-1)/2 # DO NOT EDIT\n",
    "AA_pattern=np.cos(2*np.pi*beta*np.arange(num_qubits)) # DO NOT EDIT"
   ]
  },
  {
   "cell_type": "markdown",
   "id": "73f306b7",
   "metadata": {},
   "source": [
    "<div class=\"alert alert-block alert-danger\">\n",
    "    \n",
    "<b>Challenge question 3b</b> \n",
    "\n",
    "Initialize the system by setting qubits 0, 4, and 8 to $|1\\rangle$.\n",
    "    \n",
    "</div>"
   ]
  },
  {
   "cell_type": "code",
   "execution_count": null,
   "id": "1941aa83",
   "metadata": {},
   "outputs": [],
   "source": [
    "delta_t=0.1\n",
    "time_steps=np.arange(0,21,2)\n",
    "\n",
    "circuits={}\n",
    "Ws=[1,4,10]\n",
    "\n",
    "for W in Ws:\n",
    "    disorders=W*AA_pattern\n",
    "    \n",
    "    circuits[W]=[]\n",
    "\n",
    "    for n_steps in time_steps:\n",
    "\n",
    "        qr = QuantumRegister(num_qubits)\n",
    "        qc = QuantumCircuit(qr)\n",
    "\n",
    "        ###EDIT CODE BELOW\n",
    "        for i in range(num_qubits):\n",
    "            if i%4==0:\n",
    "                qc.x(i)\n",
    "        ###DO NOT EDIT BELOW     \n",
    "\n",
    "        for _ in range(n_steps):\n",
    "            qc.append(disorder_trot_step, [i for i in range(num_qubits)])\n",
    "        \n",
    "        if n_steps!=0:\n",
    "            qc = qc.bind_parameters({t: delta_t})\n",
    "            qc = qc.bind_parameters({deltas[idx]: disorders[idx] for idx in range(num_qubits)})\n",
    "\n",
    "        circuits[W].append(qc)"
   ]
  },
  {
   "cell_type": "markdown",
   "id": "68d6bb10",
   "metadata": {},
   "source": [
    "<div class=\"alert alert-block alert-danger\">\n",
    "    \n",
    "<b>Challenge question 3c</b> \n",
    "\n",
    "Extract the von Neumann entropy of qubit 0 at different evolution time steps for different disorder strengths.\n",
    "    \n",
    "</div>"
   ]
  },
  {
   "cell_type": "markdown",
   "id": "7daa18a2",
   "metadata": {},
   "source": [
    "<div class=\"alert alert-block alert-danger\">\n",
    "    \n",
    "<b>Challenge question 3d</b> \n",
    "\n",
    "Extract the imbalance of the lattice at different evolution time steps for different disorder strengths.\n",
    "    \n",
    "</div>"
   ]
  },
  {
   "cell_type": "code",
   "execution_count": null,
   "id": "ba1ac736",
   "metadata": {
    "scrolled": true
   },
   "outputs": [],
   "source": [
    "from qiskit import transpile\n",
    "\n",
    "# Use Aer's statevector simulator\n",
    "from qiskit import Aer\n",
    "\n",
    "# Run the quantum circuit on a statevector simulator backend\n",
    "backend_sim = Aer.get_backend('statevector_simulator')\n",
    "\n",
    "probability_densities={}\n",
    "state_vector_imbalances={}\n",
    "vn_entropies={}\n",
    "\n",
    "for W in tqdm(Ws):\n",
    "    probability_densities[W]=[]\n",
    "    state_vector_imbalances[W]=[]\n",
    "    vn_entropies[W]=[]\n",
    "    \n",
    "    for circ in circuits[W]:\n",
    "\n",
    "        transpiled_circ=transpile(circ, backend_sim, optimization_level=3)\n",
    "\n",
    "        job_sim = backend_sim.run(transpiled_circ)\n",
    "\n",
    "        # Grab the results from the job.\n",
    "        result_sim = job_sim.result()\n",
    "        outputstate = result_sim.get_statevector(transpiled_circ, decimals=6)\n",
    "        ps=[]\n",
    "        for idx in range(num_qubits):\n",
    "            ps.append(np.abs(qi.partial_trace(outputstate,[i for i in range(num_qubits) if i!=idx]))[1,1]**2)\n",
    "        \n",
    "        entropy=0\n",
    "        ### EDIT CODE BELOW (extract the density matrix of qubit 0 by tracing out all other qubits)\n",
    "        rho_0=np.abs(qi.partial_trace(outputstate,[i for i in range(num_qubits) if i!=0]))\n",
    "        entropy=qi.entropy(rho_0, base=np.exp(1))\n",
    "        ###DO NOT EDIT BELOW \n",
    "        \n",
    "        imbalance=0\n",
    "        ### EDIT CODE BELOW \n",
    "        imbalance=get_imbalance(outputstate)\n",
    "        ###DO NOT EDIT BELOW\n",
    "        \n",
    "        \n",
    "        vn_entropies[W].append(entropy)\n",
    "        probability_densities[W].append(ps)\n",
    "        state_vector_imbalances[W].append(imbalance)"
   ]
  },
  {
   "cell_type": "code",
   "execution_count": null,
   "id": "3b728147",
   "metadata": {
    "scrolled": true
   },
   "outputs": [],
   "source": [
    "fig, axs = plt.subplots(1,3,figsize=(15,5), facecolor='white', sharey=True)\n",
    "\n",
    "for i,W in enumerate(Ws):\n",
    "    ax=axs[i]\n",
    "    ax.pcolormesh(np.arange(0,num_qubits,1), time_steps*delta_t ,probability_densities[W])\n",
    "    ax.set_xlabel('Qubit index')\n",
    "    ax.set_xticks(np.arange(1,num_qubits+1,1))\n",
    "\n",
    "axs[0].set_ylabel('Time (1/J)')\n",
    "\n",
    "plt.show()"
   ]
  },
  {
   "cell_type": "code",
   "execution_count": null,
   "id": "cff7aa4e",
   "metadata": {},
   "outputs": [],
   "source": [
    "for W in Ws:\n",
    "    plt.plot(time_steps*delta_t,vn_entropies[W], '--o', label='W={:d}'.format(W))\n",
    "\n",
    "plt.xlabel(r'Time (1/J)')\n",
    "plt.ylabel(r'$\\mathcal{S}_{\\rm vn}(\\rho_0)$')\n",
    "plt.legend()\n",
    "plt.show()"
   ]
  },
  {
   "cell_type": "code",
   "execution_count": null,
   "id": "c98610e8",
   "metadata": {},
   "outputs": [],
   "source": [
    "## Grade and submit your solution\n",
    "from qc_grader.challenges.spring_2022 import grade_ex3b\n",
    "\n",
    "grade_ex3b(vn_entropies)\n"
   ]
  },
  {
   "cell_type": "code",
   "execution_count": null,
   "id": "9ed1e6a0",
   "metadata": {},
   "outputs": [],
   "source": [
    "for W in Ws:\n",
    "    plt.plot(time_steps*delta_t,state_vector_imbalances[W], '--o', label='W={:d}'.format(W))\n",
    "\n",
    "plt.xlabel(r'Time (1/J)')\n",
    "plt.ylabel(r'$\\mathcal{I}$')\n",
    "plt.legend()\n",
    "plt.show()"
   ]
  },
  {
   "cell_type": "code",
   "execution_count": null,
   "id": "a141777d",
   "metadata": {},
   "outputs": [],
   "source": [
    "## Grade and submit your solution\n",
    "from qc_grader.challenges.spring_2022 import grade_ex3c\n",
    "\n",
    "grade_ex3c(state_vector_imbalances)\n"
   ]
  }
 ],
 "metadata": {
  "kernelspec": {
   "display_name": "Python 3",
   "language": "python",
   "name": "python3"
  },
  "language_info": {
   "codemirror_mode": {
    "name": "ipython",
    "version": 3
   },
   "file_extension": ".py",
   "mimetype": "text/x-python",
   "name": "python",
   "nbconvert_exporter": "python",
   "pygments_lexer": "ipython3",
   "version": "3.8.8"
  },
  "widgets": {
   "application/vnd.jupyter.widget-state+json": {
    "state": {
     "1c285db2a79a48cfa3df3c6eedf709c1": {
      "model_module": "@jupyter-widgets/base",
      "model_module_version": "1.2.0",
      "model_name": "LayoutModel",
      "state": {
       "grid_area": "right",
       "padding": "0px 0px 0px 0px",
       "width": "70px"
      }
     },
     "1d3308859d814b48967bc296e156cc49": {
      "model_module": "@jupyter-widgets/controls",
      "model_module_version": "1.5.0",
      "model_name": "DescriptionStyleModel",
      "state": {
       "description_width": ""
      }
     },
     "225e3e886a8e4a05b1d557410d8d2f7d": {
      "model_module": "@jupyter-widgets/controls",
      "model_module_version": "1.5.0",
      "model_name": "GridBoxModel",
      "state": {
       "children": [
        "IPY_MODEL_438c420e88b0466f99c5b6478009937b"
       ],
       "layout": "IPY_MODEL_560c05b76c3c4774a57157123a2ef602"
      }
     },
     "314897b457ad4bb8a83c0f94756ad0ac": {
      "model_module": "@jupyter-widgets/controls",
      "model_module_version": "1.5.0",
      "model_name": "HTMLModel",
      "state": {
       "layout": "IPY_MODEL_4e138c02b7a44500a353703ec0356e63",
       "style": "IPY_MODEL_80d4ec67b41b4bc0ad5f6b8ac4a8985a",
       "value": "<h5>Backend</h5>"
      }
     },
     "3410da806db942ba806f8f69cf19987e": {
      "model_module": "@jupyter-widgets/base",
      "model_module_version": "1.2.0",
      "model_name": "LayoutModel",
      "state": {
       "margin": "0px 0px 10px 0px"
      }
     },
     "357a3c4ad55b4dc4a0c4466b1cd0b31a": {
      "model_module": "@jupyter-widgets/controls",
      "model_module_version": "1.5.0",
      "model_name": "ButtonStyleModel",
      "state": {}
     },
     "3e7eafb5631840ddbe7f487abed01530": {
      "model_module": "@jupyter-widgets/controls",
      "model_module_version": "1.5.0",
      "model_name": "HBoxModel",
      "state": {
       "children": [
        "IPY_MODEL_ab161ee5dc814fffa81bd582cb88a191",
        "IPY_MODEL_314897b457ad4bb8a83c0f94756ad0ac",
        "IPY_MODEL_8774c96b6e074e60bea0db42e3939461",
        "IPY_MODEL_e2d5b8c36da44580a5ca2e029dcffd01",
        "IPY_MODEL_cc7b89e49db540db8f23db7c47c1248f"
       ],
       "layout": "IPY_MODEL_6733c053c01f4c0986cc613890ea998e"
      }
     },
     "438c420e88b0466f99c5b6478009937b": {
      "model_module": "@jupyter-widgets/controls",
      "model_module_version": "1.5.0",
      "model_name": "ButtonModel",
      "state": {
       "button_style": "primary",
       "description": "Clear",
       "layout": "IPY_MODEL_1c285db2a79a48cfa3df3c6eedf709c1",
       "style": "IPY_MODEL_357a3c4ad55b4dc4a0c4466b1cd0b31a"
      }
     },
     "4e138c02b7a44500a353703ec0356e63": {
      "model_module": "@jupyter-widgets/base",
      "model_module_version": "1.2.0",
      "model_name": "LayoutModel",
      "state": {
       "width": "145px"
      }
     },
     "560c05b76c3c4774a57157123a2ef602": {
      "model_module": "@jupyter-widgets/base",
      "model_module_version": "1.2.0",
      "model_name": "LayoutModel",
      "state": {
       "grid_template_areas": "\n                                       \". . . . right \"\n                                        ",
       "grid_template_columns": "20% 20% 20% 20% 20%",
       "width": "100%"
      }
     },
     "6733c053c01f4c0986cc613890ea998e": {
      "model_module": "@jupyter-widgets/base",
      "model_module_version": "1.2.0",
      "model_name": "LayoutModel",
      "state": {
       "margin": "0px 0px 0px 37px",
       "width": "600px"
      }
     },
     "80d4ec67b41b4bc0ad5f6b8ac4a8985a": {
      "model_module": "@jupyter-widgets/controls",
      "model_module_version": "1.5.0",
      "model_name": "DescriptionStyleModel",
      "state": {
       "description_width": ""
      }
     },
     "82d9481b88b6403681d83238fefb9822": {
      "model_module": "@jupyter-widgets/controls",
      "model_module_version": "1.5.0",
      "model_name": "HTMLModel",
      "state": {
       "layout": "IPY_MODEL_3410da806db942ba806f8f69cf19987e",
       "style": "IPY_MODEL_1d3308859d814b48967bc296e156cc49",
       "value": "<p style='font-family: IBM Plex Sans, Arial, Helvetica, sans-serif; font-size: 20px; font-weight: medium;'>Circuit Properties</p>"
      }
     },
     "86d30b611f3842e2ac56083c13f5cdb2": {
      "model_module": "@jupyter-widgets/controls",
      "model_module_version": "1.5.0",
      "model_name": "DescriptionStyleModel",
      "state": {
       "description_width": ""
      }
     },
     "8774c96b6e074e60bea0db42e3939461": {
      "model_module": "@jupyter-widgets/controls",
      "model_module_version": "1.5.0",
      "model_name": "HTMLModel",
      "state": {
       "layout": "IPY_MODEL_8e2d2bb8cb664fee8e92cbcb92037a34",
       "style": "IPY_MODEL_f3f0282976c64ddf969e8a0b7c64017e",
       "value": "<h5>Status</h5>"
      }
     },
     "8e2d2bb8cb664fee8e92cbcb92037a34": {
      "model_module": "@jupyter-widgets/base",
      "model_module_version": "1.2.0",
      "model_name": "LayoutModel",
      "state": {
       "width": "95px"
      }
     },
     "9027743494584fde831af0bfa574315b": {
      "model_module": "@jupyter-widgets/base",
      "model_module_version": "1.2.0",
      "model_name": "LayoutModel",
      "state": {
       "width": "70px"
      }
     },
     "9d8dce191d4f44cf8a10a44c941f833d": {
      "model_module": "@jupyter-widgets/base",
      "model_module_version": "1.2.0",
      "model_name": "LayoutModel",
      "state": {}
     },
     "ab161ee5dc814fffa81bd582cb88a191": {
      "model_module": "@jupyter-widgets/controls",
      "model_module_version": "1.5.0",
      "model_name": "HTMLModel",
      "state": {
       "layout": "IPY_MODEL_af16e39862994a8fa70c9f0b17669856",
       "style": "IPY_MODEL_cbc5f269675f4aa1b066b52b7c5e23c9",
       "value": "<h5>Job ID</h5>"
      }
     },
     "af16e39862994a8fa70c9f0b17669856": {
      "model_module": "@jupyter-widgets/base",
      "model_module_version": "1.2.0",
      "model_name": "LayoutModel",
      "state": {
       "width": "190px"
      }
     },
     "cbc5f269675f4aa1b066b52b7c5e23c9": {
      "model_module": "@jupyter-widgets/controls",
      "model_module_version": "1.5.0",
      "model_name": "DescriptionStyleModel",
      "state": {
       "description_width": ""
      }
     },
     "cc7b89e49db540db8f23db7c47c1248f": {
      "model_module": "@jupyter-widgets/controls",
      "model_module_version": "1.5.0",
      "model_name": "HTMLModel",
      "state": {
       "layout": "IPY_MODEL_9d8dce191d4f44cf8a10a44c941f833d",
       "style": "IPY_MODEL_f2b9689cdd6243a89f082505850e3d10",
       "value": "<h5>Message</h5>"
      }
     },
     "e2d5b8c36da44580a5ca2e029dcffd01": {
      "model_module": "@jupyter-widgets/controls",
      "model_module_version": "1.5.0",
      "model_name": "HTMLModel",
      "state": {
       "layout": "IPY_MODEL_9027743494584fde831af0bfa574315b",
       "style": "IPY_MODEL_86d30b611f3842e2ac56083c13f5cdb2",
       "value": "<h5>Queue</h5>"
      }
     },
     "f2b9689cdd6243a89f082505850e3d10": {
      "model_module": "@jupyter-widgets/controls",
      "model_module_version": "1.5.0",
      "model_name": "DescriptionStyleModel",
      "state": {
       "description_width": ""
      }
     },
     "f3f0282976c64ddf969e8a0b7c64017e": {
      "model_module": "@jupyter-widgets/controls",
      "model_module_version": "1.5.0",
      "model_name": "DescriptionStyleModel",
      "state": {
       "description_width": ""
      }
     }
    },
    "version_major": 2,
    "version_minor": 0
   }
  }
 },
 "nbformat": 4,
 "nbformat_minor": 5
}

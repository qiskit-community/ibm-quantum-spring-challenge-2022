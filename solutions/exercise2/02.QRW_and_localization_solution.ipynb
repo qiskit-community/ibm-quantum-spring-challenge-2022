{
 "cells": [
  {
   "cell_type": "code",
   "execution_count": null,
   "id": "7152f2bf-5b38-470a-a523-6398a51c2c16",
   "metadata": {},
   "outputs": [],
   "source": [
    "import numpy as np\n",
    "import matplotlib.pyplot as plt\n",
    "from copy import deepcopy\n",
    "\n",
    "# Importing standard Qiskit libraries\n",
    "from qiskit import QuantumCircuit, QuantumRegister, ClassicalRegister, transpile, Aer, IBMQ, execute\n",
    "from qiskit.tools.jupyter import *\n",
    "from qiskit.visualization import *\n",
    "from qiskit.providers.aer import QasmSimulator\n",
    "from tqdm.notebook import tqdm\n",
    "\n",
    "from qiskit.providers.aer import QasmSimulator\n",
    "from qiskit.tools.monitor import job_monitor\n",
    "from qiskit.circuit import Parameter\n",
    "import qiskit.quantum_info as qi\n",
    "\n",
    "from qc_grader.challenges.spring_2022.helpers import generate_XX, generate_YY, generate_disordered_tb_instruction\n",
    "\n",
    "# Suppress warnings\n",
    "import warnings\n",
    "warnings.filterwarnings('ignore')"
   ]
  },
  {
   "cell_type": "code",
   "execution_count": null,
   "id": "6d790e43-7e59-40b3-9a3a-806e7df15b70",
   "metadata": {},
   "outputs": [],
   "source": [
    "t = Parameter('t')"
   ]
  },
  {
   "cell_type": "code",
   "execution_count": null,
   "id": "1cd64c4c",
   "metadata": {},
   "outputs": [],
   "source": [
    "XX = generate_XX(t)\n",
    "YY = generate_YY(t)"
   ]
  },
  {
   "cell_type": "markdown",
   "id": "04b5fd64",
   "metadata": {},
   "source": [
    "# 5 site tight-binding lattice\n",
    "\n",
    "In this exercise we simulate a tight-binding lattice with five sites. First, we look at the tight-binding Hamiltonian with all the site energies at the same value. As a reminder, the Hamiltonian for a 5 site tight-binding lattice is: \n",
    "\n",
    "$$H_{\\rm tb}/\\hbar = J \\sum^{3}_{i=0} (X_i X_{i+1} + Y_i Y_{i+1})$$\n",
    "\n",
    "For this challenge, without loss of generality, we set $\\hbar=1$ and $J=1$."
   ]
  },
  {
   "cell_type": "markdown",
   "id": "427ff204",
   "metadata": {},
   "source": [
    "## 1. Particle transport\n",
    "\n",
    "In a tight-binding system the particle propagation can be described by a continuous-time quantum random walk. Quantum random walks are the quantum mechanical analog of classical random walks. A random walk is the process by which a randomly-moving particle moves away from its starting point. Under a classical random walk, the probability of finding the particle at time $t$ at position $r$ from the starting point follows a Gaussian distribution:\n",
    "$$ p_{\\text{classical}}(r,t) \\propto e^{-|r|^2/t} $$\n",
    "\n",
    "The standard deviation of this probability distribution grows as the square-root with time: $\\sigma_{\\text{classical}}= \\sqrt{t}$. Quantum properties such as single-particle superposition and interference result in a qualitative difference between classical and quantum random walks. Under a quantum random walk, the probability of finding the particle at position $r$ from the starting point follows a [Bessel function of the first kind](https://en.wikipedia.org/wiki/Bessel_function):\n",
    "$$ p_{\\text{quantum}}(r,t) \\propto |J_r(2t)|^2 $$\n",
    "\n",
    "The standard deviation of this probability distribution grows linearly with time: $\\sigma_{\\text{quantum}} = t$."
   ]
  },
  {
   "cell_type": "code",
   "execution_count": null,
   "id": "9835208a",
   "metadata": {},
   "outputs": [],
   "source": [
    "from scipy.special import jv\n",
    "\n",
    "t_test = 20\n",
    "r = np.linspace(-50,50,101)\n",
    "gaussian = np.exp(-r**2/t_test) / np.sum(np.exp(-r**2/t_test))\n",
    "bessel = np.abs(jv(r,2*t_test))**2 / np.sum(np.abs(jv(r,2*t_test))**2)\n",
    "\n",
    "plt.figure(facecolor='white')\n",
    "plt.plot(r, gaussian, label=r'Gaussian function')\n",
    "plt.plot(r, bessel, label=r'Bessel function')\n",
    "\n",
    "plt.xlabel('Position')\n",
    "plt.ylabel('Probability density')\n",
    "plt.legend()\n",
    "plt.show()"
   ]
  },
  {
   "cell_type": "markdown",
   "id": "c9ef0341",
   "metadata": {},
   "source": [
    "The spatial propagation of the particle throughout the lattice, relative to its initial location, is quantified by the mean square displacement $⟨x^2⟩= \\sum_i p_i x^2_i$, where $p_i$ is the probability of finding the particle on site $i$. A classical random walk propagates diffusively in time with $⟨x^2⟩ \\propto t$, whereas a QRW exhibits ballistic propagation with a mean-square displacement $⟨x^2⟩ \\propto t^2$. \n",
    "\n",
    "The quadratic speed-up of quantum random walks in comparison to classical random walks is analogous to the quadratic speed-up of the Grover search algorithm compared to classical search!"
   ]
  },
  {
   "cell_type": "markdown",
   "id": "f76797ef",
   "metadata": {},
   "source": [
    "<div class=\"alert alert-block alert-danger\">\n",
    "    \n",
    "<b>Challenge question 2a</b> \n",
    "\n",
    "Append the XX and YY gates to our circuit to create a trotterize time evolution under the tight-binding Hamiltonian.\n",
    "    \n",
    "</div>"
   ]
  },
  {
   "cell_type": "code",
   "execution_count": null,
   "id": "85d24eb2-2a44-45cb-b5ab-70c46890a3fd",
   "metadata": {
    "tags": []
   },
   "outputs": [],
   "source": [
    "num_qubits = 5 ## DO NOT EDIT\n",
    "\n",
    "Trot_tb_qr = QuantumRegister(num_qubits)\n",
    "Trot_tb_qc = QuantumCircuit(Trot_tb_qr, name='Trot')\n",
    "\n",
    "###EDIT CODE BELOW\n",
    "for i in np.arange(0, num_qubits - 1,2):\n",
    "    Trot_tb_qc.append(YY, [Trot_tb_qr[i], Trot_tb_qr[i+1]])\n",
    "    Trot_tb_qc.append(XX, [Trot_tb_qr[i], Trot_tb_qr[i+1]])\n",
    "    \n",
    "for i in np.arange(1, num_qubits - 1,2):\n",
    "    Trot_tb_qc.append(YY, [Trot_tb_qr[i], Trot_tb_qr[i+1]])\n",
    "    Trot_tb_qc.append(XX, [Trot_tb_qr[i], Trot_tb_qr[i+1]])\n",
    "###DO NOT EDIT BELOW\n",
    "\n",
    "Trot_tb_gate = Trot_tb_qc.to_instruction()\n",
    "\n",
    "Trot_tb_qc.draw()"
   ]
  },
  {
   "cell_type": "code",
   "execution_count": null,
   "id": "c74463db",
   "metadata": {},
   "outputs": [],
   "source": [
    "## Grade and submit your solution\n",
    "from qc_grader.challenges.spring_2022 import grade_ex2a\n",
    "\n",
    "grade_ex2a(Trot_tb_qc)\n"
   ]
  },
  {
   "cell_type": "markdown",
   "id": "cddeec50",
   "metadata": {},
   "source": [
    "<div class=\"alert alert-block alert-danger\">\n",
    "    \n",
    "<b>Challenge question 2b</b> \n",
    "\n",
    "Next, we want to add a particle in the form of an excitation to **qubit 0**. This can be accomplished by applying an  𝑋  gate to flip the state of the qubit from  |0⟩  to  |1⟩  before time evolution under the Hamiltonian.\n",
    "    \n",
    "</div>"
   ]
  },
  {
   "cell_type": "code",
   "execution_count": null,
   "id": "a62b2759-60d6-4929-add2-ad5db47c2ad7",
   "metadata": {},
   "outputs": [],
   "source": [
    "delta_t=0.15 # DO NOT EDIT\n",
    "time_steps=np.arange(1,20,1) # DO NOT EDIT\n",
    "\n",
    "circuits=[]\n",
    "\n",
    "for n_steps in time_steps:\n",
    "    \n",
    "    qr = QuantumRegister(num_qubits)\n",
    "    cr = ClassicalRegister(num_qubits)\n",
    "    qc = QuantumCircuit(qr,cr)\n",
    "\n",
    "    ###EDIT CODE BELOW\n",
    "    qc.x(0) # Add and excitation on qubit 0\n",
    "    ###DO NOT EDIT BELOW\n",
    "    \n",
    "    for _ in range(n_steps):\n",
    "        qc.append(Trot_tb_gate, [i for i in range(num_qubits)])\n",
    "        \n",
    "    qc = qc.bind_parameters({t: delta_t})\n",
    "    \n",
    "    circuits.append(qc)"
   ]
  },
  {
   "cell_type": "markdown",
   "id": "8f75b601",
   "metadata": {},
   "source": [
    "We can track the movement of the particle by keeping track of the probability of finding the excitation on each qubit at different time steps. "
   ]
  },
  {
   "cell_type": "markdown",
   "id": "6781ae1a",
   "metadata": {},
   "source": [
    "<div class=\"alert alert-block alert-danger\">\n",
    "    \n",
    "<b>Challenge question 2c</b> \n",
    "\n",
    "First, extract the probabilities of each qubit being in the $|1\\rangle$ at different times using the output state from the statevector_simulator.\n",
    "    \n",
    "</div>"
   ]
  },
  {
   "cell_type": "code",
   "execution_count": null,
   "id": "26c82cf5",
   "metadata": {
    "tags": []
   },
   "outputs": [],
   "source": [
    "from qiskit import transpile\n",
    "\n",
    "# Use Aer's statevector simulator\n",
    "from qiskit import Aer\n",
    "\n",
    "# Run the quantum circuit on a statevector simulator backend\n",
    "backend_sim = Aer.get_backend('statevector_simulator')\n",
    "\n",
    "probability_density=[]\n",
    "for circ in tqdm(circuits):\n",
    "\n",
    "    transpiled_circ=transpile(circ, backend_sim, optimization_level=3)\n",
    "\n",
    "    job_sim = backend_sim.run(transpiled_circ)\n",
    "\n",
    "    # Grab the results from the job.\n",
    "    result_sim = job_sim.result()\n",
    "    outputstate = result_sim.get_statevector(transpiled_circ, decimals=5)\n",
    "    \n",
    "    ps=[]\n",
    "    \n",
    "    ###EDIT CODE BELOW (Extract the probability of finding the excitation on each qubit)\n",
    "    ps=np.abs([outputstate[2**i] for i in range(num_qubits)])**2\n",
    "    ###DO NOT EDIT BELOW\n",
    "    \n",
    "    probability_density.append(ps)\n",
    "    \n",
    "probability_density=np.array(probability_density)"
   ]
  },
  {
   "cell_type": "code",
   "execution_count": null,
   "id": "a5fb178e-f077-4d2e-8020-d1520eadbd34",
   "metadata": {},
   "outputs": [],
   "source": [
    "plt.figure(figsize=(3,5), facecolor='white')\n",
    "plt.pcolormesh(np.arange(0,num_qubits,1), time_steps*delta_t, probability_density)\n",
    "plt.xlabel('Qubit index')\n",
    "plt.ylabel('Time (1/J)')"
   ]
  },
  {
   "cell_type": "code",
   "execution_count": null,
   "id": "96514e41",
   "metadata": {},
   "outputs": [],
   "source": [
    "## Grade and submit your solution\n",
    "from qc_grader.challenges.spring_2022 import grade_ex2b\n",
    "\n",
    "grade_ex2b(probability_density)\n"
   ]
  },
  {
   "cell_type": "markdown",
   "id": "8e1839f4",
   "metadata": {},
   "source": [
    "<div class=\"alert alert-block alert-info\">\n",
    "    \n",
    "<b>Hardware challenge I</b> \n",
    "    \n",
    "**(This section will not be graded, but take note of the difference between simulation and hardware results.)**\n",
    "\n",
    "Run the circuits for the quantum random walk on real hardware and extract the probability of finding an excitation on each qubit.\n",
    "    \n",
    "</div>"
   ]
  },
  {
   "cell_type": "code",
   "execution_count": null,
   "id": "646ef3fe",
   "metadata": {},
   "outputs": [],
   "source": [
    "from qiskit.tools.monitor import job_monitor\n",
    "from qiskit import IBMQ\n",
    "\n",
    "# Loading your IBM Quantum account\n",
    "IBMQ.load_account()\n",
    "IBMQ.providers() # see a list of providers you have access to"
   ]
  },
  {
   "cell_type": "code",
   "execution_count": null,
   "id": "1bee97c6-012e-4632-b7fb-753bc5ab1ea7",
   "metadata": {},
   "outputs": [],
   "source": [
    "# Get the special provider assigned to you using information from the output above\n",
    "hub_name = 'YOUR_HUB_NAME' # e.g. 'qc-spring-22-1'\n",
    "group_name = 'YOUR_GROUP_NAME' # e.g. 'group-2'\n",
    "project_name = 'YOUR_PROJECT_NAME' # e.g. 'recPdHH04wfWiNHjG'\n",
    "provider = IBMQ.get_provider(hub=hub_name, group=group_name, project=project_name)\n",
    "\n",
    "# Get `ibm_nairobi` backend from the provider\n",
    "backend_name = 'ibm_nairobi'\n",
    "backend = provider.get_backend(backend_name)\n",
    "backend # See details of the `ibm_nairobi` quantum system"
   ]
  },
  {
   "cell_type": "code",
   "execution_count": null,
   "id": "b1cd7206",
   "metadata": {},
   "outputs": [],
   "source": [
    "initial_layout=[0 , 1 , 3 , 5 , 4]\n",
    "\n",
    "hardware_transpiled_circuits=[]\n",
    "for circ in circuits:\n",
    "    \n",
    "    hardware_circ=deepcopy(circ)\n",
    "    hardware_circ.barrier()\n",
    "    hardware_circ.measure(range(num_qubits), range(num_qubits))\n",
    "    hardware_transpiled_circuits.append(transpile(hardware_circ, backend, initial_layout=initial_layout, optimization_level=3))"
   ]
  },
  {
   "cell_type": "code",
   "execution_count": null,
   "id": "b890b98b",
   "metadata": {},
   "outputs": [],
   "source": [
    "shots=1024\n",
    "job = execute(hardware_transpiled_circuits, backend=backend, shots=shots)\n",
    "job_monitor(job)\n",
    "print('Job ID', job.job_id())"
   ]
  },
  {
   "cell_type": "code",
   "execution_count": null,
   "id": "709056a0",
   "metadata": {},
   "outputs": [],
   "source": [
    "experiment_results=job.result()\n",
    "\n",
    "probability_density_exp=[]\n",
    "for output in experiment_results.get_counts():\n",
    "    ps=[]\n",
    "    \n",
    "    ###EDIT CODE BELOW (Extract the probability of finding the excitation on each qubit)\n",
    "    ps=[ sum([val for key, val in output.items() if int(key[num_qubits-i-1])==1])/shots for i in range(num_qubits)]\n",
    "    ###DO NOT EDIT BELOW\n",
    "    \n",
    "    probability_density_exp.append(ps)\n",
    "\n",
    "plt.figure(figsize=(3,5), facecolor='white')\n",
    "plt.pcolormesh(np.arange(-.5,num_qubits,1), time_steps*delta_t, probability_density_exp)\n",
    "plt.xlabel('Qubit index')\n",
    "plt.ylabel('Time (1/J)')"
   ]
  },
  {
   "attachments": {
    "Anderson_localization.jpg": {
     "image/jpeg": "[encoded data removed]"
    }
   },
   "cell_type": "markdown",
   "id": "64879624",
   "metadata": {},
   "source": [
    "## 2. Anderson localization\n",
    "\n",
    "Particle propagation is significantly impacted by the introduction of disorder in the site energies, leading to Anderson localization. Lattice inhomogeneity causes scattering and leads to quantum interference that tends to inhibit particle propagation, a signature of localization. The wavefunction of a localized particle rapidly decays away from its initial position, effectively confining the particle to a small region of the lattice.\n",
    "\n",
    "Phillip Anderson first proposed that scattering from disorder can bring transport to a complete halt in 1958 [1]. Before Anderson's discovery, scientists modelled crystal disorders as perturbations that scatter electrons randomly, treating electrons as point-like particles. This logic led to the description of transport in such media as Brownian motion, which underlies Ohm's law. However, Anderson revisited the effect of disorder on the evolution of an electron's wavefunction in an otherwise periodic crystal [2]. Anderson analysed the problem in the quantum regime, thus fundamentally accounting for the wave nature of the electron, and found that the classical diffusive motion of the electron breaks down as the electronic wavefunction becomes exponentially localized, under a broad range of conditions. Hence, when the electron is initially placed on one atom, its wavefunction will no longer expand to cover the whole crystal with time, but it will rather remain localized around its initial position. Thus, the material will cease to conduct charge, and eventually become an insulator. This localization phenomenon is a direct consequence of interference between different paths arising from multiple scattering of the electron by lattice defects.\n",
    "\n",
    "<div>\n",
    "<img src=\"attachment:Anderson_localization.jpg\" width=\"600\"/>\n",
    "</div> figure from reference [2]\n",
    "\n",
    "We can study Anderson localization using the tight-binding Hamiltonian. The Hamltonian in the presence of disorder in site energies takes the following form: \n",
    "$$H_{\\rm tb}/\\hbar = \\sum^{3}_{i=0} (X_i X_{i+1} + Y_i Y_{i+1}) + \\sum_i \\epsilon_i Z_i $$\n",
    "\n",
    "By changing the $\\epsilon_i$ values we can imitate disorder by creating an Aubry-Andre (AA) quasicrystal which leads to Anderson localization. In this lattice model, $\\epsilon_i=W \\rm{cos}(2\\pi\\beta i)$ where $W$ is the disorder strength, and $\\beta$ determines the quasicrystal periodicity.\n",
    "\n",
    "[1] https://physicstoday.scitation.org/doi/10.1063/1.3206091?feed=most-cited\n",
    "\n",
    "[2] https://www.nature.com/articles/nphoton.2013.30"
   ]
  },
  {
   "cell_type": "code",
   "execution_count": null,
   "id": "f34b668d",
   "metadata": {},
   "outputs": [],
   "source": [
    "beta=(np.sqrt(5)-1)/2 # DO NOT EDIT\n",
    "AA_patern=np.cos(2*np.pi*beta*np.arange(num_qubits)) # DO NOT EDIT\n",
    "\n",
    "plt.plot(np.linspace(-0.5,4.5,101), np.cos(2*np.pi*beta*np.linspace(-0.5,4.5,101)), '--')\n",
    "plt.plot(np.arange(num_qubits), AA_patern, 'o', label=r'$\\epsilon_i$')\n",
    "plt.xlabel('Position')\n",
    "plt.ylabel('Energy')\n",
    "plt.legend()\n",
    "plt.title('Aubry-Andre potential')\n",
    "plt.show()"
   ]
  },
  {
   "cell_type": "markdown",
   "id": "73c8a13e",
   "metadata": {},
   "source": [
    "<div class=\"alert alert-block alert-danger\">\n",
    "    \n",
    "<b>Challenge question 2d</b> \n",
    "\n",
    "Modify each tight-binding trotter step to include an arbitrary phase used to simulate Anderson localization.\n",
    "    \n",
    "</div>"
   ]
  },
  {
   "cell_type": "code",
   "execution_count": null,
   "id": "9349ca57-b96a-4f4b-ba3e-7701da5a2a4a",
   "metadata": {},
   "outputs": [],
   "source": [
    "Trot_qr_disorder = QuantumRegister(num_qubits)\n",
    "Trot_qc_disorder = QuantumCircuit(Trot_qr_disorder, name='Trot disorder')\n",
    "\n",
    "Trot_qc_disorder.append(Trot_tb_gate,[0,1,2,3,4])\n",
    "deltas=[Parameter('delta_{:d}'.format(idx)) for idx in range(num_qubits)]\n",
    "\n",
    "###EDIT CODE BELOW (add a parametric disorder to each qubit)\n",
    "for idx in range(num_qubits):\n",
    "    Trot_qc_disorder.rz(2 * t * deltas[idx], idx)\n",
    "###DO NOT EDIT BELOW\n",
    "    \n",
    "# Convert custom quantum circuit into a gate\n",
    "Trot_disorder_gate = Trot_qc_disorder.to_instruction()\n",
    "\n",
    "Trot_qc_disorder.draw()"
   ]
  },
  {
   "cell_type": "code",
   "execution_count": null,
   "id": "b13e0211-d494-474a-a56c-7a38cfe365a2",
   "metadata": {},
   "outputs": [],
   "source": [
    "delta_t=0.15\n",
    "time_steps=np.arange(1,20,1)\n",
    "\n",
    "W=2 # DO NOT EDIT\n",
    "\n",
    "disorders=W*AA_patern # DO NOT EDIT\n",
    "\n",
    "disorder_circuits=[]\n",
    "\n",
    "for n_steps in time_steps:\n",
    "\n",
    "    qr = QuantumRegister(num_qubits)\n",
    "    cr = ClassicalRegister(num_qubits)\n",
    "    qc = QuantumCircuit(qr, cr)\n",
    "\n",
    "    qc.x(0)\n",
    "    \n",
    "    for _ in range(n_steps):\n",
    "        qc.append(Trot_disorder_gate, [i for i in range(num_qubits)])\n",
    "\n",
    "    qc = qc.bind_parameters({t: delta_t})\n",
    "    qc = qc.bind_parameters({deltas[idx]: disorders[idx] for idx in range(num_qubits)})\n",
    "\n",
    "    disorder_circuits.append(qc)"
   ]
  },
  {
   "cell_type": "markdown",
   "id": "553600c1",
   "metadata": {},
   "source": [
    "<div class=\"alert alert-block alert-danger\">\n",
    "    \n",
    "<b>Challenge question 2e</b> \n",
    "\n",
    "Finally, extract the probability of finding an excitation on each qubit.\n",
    "    \n",
    "</div>"
   ]
  },
  {
   "cell_type": "code",
   "execution_count": null,
   "id": "8c6a37a7-6587-4a9f-8b19-bfd7c7188a9b",
   "metadata": {},
   "outputs": [],
   "source": [
    "from qiskit import transpile\n",
    "\n",
    "# Use Aer's statevector simulator\n",
    "from qiskit import Aer\n",
    "\n",
    "# Run the quantum circuit on a statevector simulator backend\n",
    "backend_sim = Aer.get_backend('statevector_simulator')\n",
    "\n",
    "probability_density_localization=[]\n",
    "for circ in tqdm(disorder_circuits):\n",
    "\n",
    "    transpiled_circ=transpile(circ, backend_sim, optimization_level=3)\n",
    "\n",
    "    job_sim = backend_sim.run(transpiled_circ)\n",
    "\n",
    "    # Grab the results from the job.\n",
    "    result_sim = job_sim.result()\n",
    "    outputstate = result_sim.get_statevector(transpiled_circ, decimals=5)\n",
    "    \n",
    "    ps=[]\n",
    "    \n",
    "    ###EDIT CODE BELOW (Extract the probability of finding the excitation on each qubit)\n",
    "    ps=np.abs([outputstate[2**i] for i in range(num_qubits)])**2\n",
    "    ###DO NOT EDIT BELOW\n",
    "    \n",
    "    probability_density_localization.append(ps)\n",
    "    \n",
    "probability_density_localization=np.array(probability_density_localization)"
   ]
  },
  {
   "cell_type": "code",
   "execution_count": null,
   "id": "d70fdf7d-33f7-4054-84b8-1b53290cc051",
   "metadata": {},
   "outputs": [],
   "source": [
    "plt.figure(figsize=(3,5), facecolor='white')\n",
    "plt.pcolormesh(np.arange(0,num_qubits,1), time_steps*delta_t ,probability_density_localization)\n",
    "plt.xlabel('Qubit index')\n",
    "plt.ylabel('Time (1/J)')"
   ]
  },
  {
   "cell_type": "code",
   "execution_count": null,
   "id": "58b46fd0",
   "metadata": {},
   "outputs": [],
   "source": [
    "## Grade and submit your solution\n",
    "from qc_grader.challenges.spring_2022 import grade_ex2c\n",
    "\n",
    "grade_ex2c(probability_density_localization)\n"
   ]
  },
  {
   "cell_type": "markdown",
   "id": "c6457aa8",
   "metadata": {},
   "source": [
    "<div class=\"alert alert-block alert-info\">\n",
    "    \n",
    "<b>Hardware challenge II</b> \n",
    "\n",
    "**(This section will not be graded, but take note of the difference between simulation and hardware results.)**    \n",
    "\n",
    "Run the circuits for the quantum random walk with disorder on real hardware and extract the probability of finding an excitation on each qubit.\n",
    "    \n",
    "</div>"
   ]
  },
  {
   "cell_type": "code",
   "execution_count": null,
   "id": "45cf4789",
   "metadata": {},
   "outputs": [],
   "source": [
    "from qiskit.tools.monitor import job_monitor\n",
    "\n",
    "provider = IBMQ.load_account()\n",
    "provider = IBMQ.get_provider(hub='qc-spring-2022', group='group-1', project='project-1')\n",
    "backend = provider.get_backend('ibm_nairobi')"
   ]
  },
  {
   "cell_type": "code",
   "execution_count": null,
   "id": "010cb06b",
   "metadata": {},
   "outputs": [],
   "source": [
    "initial_layout=[0 , 1 , 3 , 5 , 4]\n",
    "\n",
    "hardware_transpiled_circuits_disordered=[]\n",
    "for circ in disorder_circuits:\n",
    "    \n",
    "    hardware_circ=deepcopy(circ)\n",
    "    hardware_circ.barrier()\n",
    "    hardware_circ.measure(range(num_qubits), range(num_qubits))\n",
    "    hardware_transpiled_circuits_disordered.append(transpile(hardware_circ, backend, initial_layout=initial_layout, optimization_level=3))"
   ]
  },
  {
   "cell_type": "code",
   "execution_count": null,
   "id": "0ccc52d9",
   "metadata": {},
   "outputs": [],
   "source": [
    "shots=1024\n",
    "job_disorder = execute(hardware_transpiled_circuits_disordered, backend=backend, shots=shots)\n",
    "job_monitor(job_disorder)\n",
    "print('Job ID', job_disorder.job_id())"
   ]
  },
  {
   "cell_type": "code",
   "execution_count": null,
   "id": "ad60c532",
   "metadata": {},
   "outputs": [],
   "source": [
    "disorder_experiment_results=job_disorder.result()\n",
    "\n",
    "disorder_probability_density_exp=[]\n",
    "for output in disorder_experiment_results.get_counts():\n",
    "    ps=[]\n",
    "    \n",
    "    ###EDIT CODE BELOW (Extract the probability of finding the excitation on each qubit)\n",
    "    ps=[ sum([val for key, val in output.items() if int(key[num_qubits-i-1])==1])/shots for i in range(num_qubits)]\n",
    "    ###DO NOT EDIT BELOW\n",
    "    \n",
    "    disorder_probability_density_exp.append(ps)\n",
    "    \n",
    "plt.figure(figsize=(3,5), facecolor='white')\n",
    "plt.pcolormesh(np.arange(-.5,num_qubits,1), time_steps*delta_t, disorder_probability_density_exp)\n",
    "plt.xlabel('Qubit index')\n",
    "plt.ylabel('Time (1/J)')"
   ]
  }
 ],
 "metadata": {
  "kernelspec": {
   "display_name": "Python 3",
   "language": "python",
   "name": "python3"
  },
  "language_info": {
   "codemirror_mode": {
    "name": "ipython",
    "version": 3
   },
   "file_extension": ".py",
   "mimetype": "text/x-python",
   "name": "python",
   "nbconvert_exporter": "python",
   "pygments_lexer": "ipython3",
   "version": "3.8.8"
  },
  "widgets": {
   "application/vnd.jupyter.widget-state+json": {
    "state": {
     "052176b2ee974c6d8f8d838263b618c8": {
      "model_module": "@jupyter-widgets/base",
      "model_module_version": "1.2.0",
      "model_name": "LayoutModel",
      "state": {}
     },
     "0c6ea2fca4b34b67a852691c842fbbd0": {
      "model_module": "@jupyter-widgets/base",
      "model_module_version": "1.2.0",
      "model_name": "LayoutModel",
      "state": {}
     },
     "0d009c7b8e2e4458aca595f0e4de1013": {
      "model_module": "@jupyter-widgets/base",
      "model_module_version": "1.2.0",
      "model_name": "LayoutModel",
      "state": {}
     },
     "0d08a545ce724351b522f248b3defa02": {
      "model_module": "@jupyter-widgets/base",
      "model_module_version": "1.2.0",
      "model_name": "LayoutModel",
      "state": {
       "grid_area": "right",
       "padding": "0px 0px 0px 0px",
       "width": "70px"
      }
     },
     "106353014f974e8db1eeded4533b1c18": {
      "model_module": "@jupyter-widgets/controls",
      "model_module_version": "1.5.0",
      "model_name": "HBoxModel",
      "state": {
       "children": [
        "IPY_MODEL_8ebc5ea996ae45b18cbeb73b43124002",
        "IPY_MODEL_6f3ca75397f1439ebcf709f6d87a25c7",
        "IPY_MODEL_5173853f1e304316bcd1d987e60fd5d4"
       ],
       "layout": "IPY_MODEL_4983ff4f1fa648cdaa88737d46da82b0"
      }
     },
     "16967caf80c543f1984cc5a601f19d1f": {
      "model_module": "@jupyter-widgets/base",
      "model_module_version": "1.2.0",
      "model_name": "LayoutModel",
      "state": {}
     },
     "194b9e01ba724dba9b05e4da7cb63b23": {
      "model_module": "@jupyter-widgets/controls",
      "model_module_version": "1.5.0",
      "model_name": "HTMLModel",
      "state": {
       "layout": "IPY_MODEL_83caedfea659419fa188c4c5608d3e90",
       "style": "IPY_MODEL_6b7eb5f34813444dbc4511f88d0551aa",
       "value": "100%"
      }
     },
     "1ce7269bc59542d6a1df10dbe844baf4": {
      "model_module": "@jupyter-widgets/controls",
      "model_module_version": "1.5.0",
      "model_name": "HBoxModel",
      "state": {
       "children": [
        "IPY_MODEL_43342e9eb0ae4c69bfde47870412934d",
        "IPY_MODEL_29f83debd3aa42a7bce1fcba38201882",
        "IPY_MODEL_ab976d755e804b638453ff091faf8a3a"
       ],
       "layout": "IPY_MODEL_d54bffc0e66846b1b6cae6ab4f50e04a"
      }
     },
     "247f799904664a94bcc6c922c5bffa0a": {
      "model_module": "@jupyter-widgets/base",
      "model_module_version": "1.2.0",
      "model_name": "LayoutModel",
      "state": {}
     },
     "27f4ee77e6be4cb7a0e4181832e56dce": {
      "model_module": "@jupyter-widgets/base",
      "model_module_version": "1.2.0",
      "model_name": "LayoutModel",
      "state": {}
     },
     "29f83debd3aa42a7bce1fcba38201882": {
      "model_module": "@jupyter-widgets/controls",
      "model_module_version": "1.5.0",
      "model_name": "FloatProgressModel",
      "state": {
       "bar_style": "success",
       "layout": "IPY_MODEL_68b2604bdc4242a6ad550866d1165d0e",
       "max": 19,
       "style": "IPY_MODEL_bfadc8afed37469dbe385235d7982008",
       "value": 19
      }
     },
     "2cb795b030a541d88d402d5a62299397": {
      "model_module": "@jupyter-widgets/controls",
      "model_module_version": "1.5.0",
      "model_name": "HTMLModel",
      "state": {
       "layout": "IPY_MODEL_5ea5cf0153354ed29da1632c05d3e62b",
       "style": "IPY_MODEL_f436cd21995e42fdbe4f028fb53ee31b",
       "value": "<h5>Status</h5>"
      }
     },
     "3441f1ca9f854138bd89e353e3257974": {
      "model_module": "@jupyter-widgets/base",
      "model_module_version": "1.2.0",
      "model_name": "LayoutModel",
      "state": {}
     },
     "37489c5393bd4f02a40085313e718f09": {
      "model_module": "@jupyter-widgets/controls",
      "model_module_version": "1.5.0",
      "model_name": "ProgressStyleModel",
      "state": {
       "description_width": ""
      }
     },
     "3916df1c8a5b41eaa3f43dd5a795eaab": {
      "model_module": "@jupyter-widgets/controls",
      "model_module_version": "1.5.0",
      "model_name": "ButtonModel",
      "state": {
       "button_style": "primary",
       "description": "Clear",
       "layout": "IPY_MODEL_0d08a545ce724351b522f248b3defa02",
       "style": "IPY_MODEL_767fb608bc1f43ba8545629c929d2551"
      }
     },
     "3a00f285407b4107909788413e3a1aea": {
      "model_module": "@jupyter-widgets/controls",
      "model_module_version": "1.5.0",
      "model_name": "DescriptionStyleModel",
      "state": {
       "description_width": ""
      }
     },
     "42754ae660cc4aa2a36d8048d88bdef8": {
      "model_module": "@jupyter-widgets/controls",
      "model_module_version": "1.5.0",
      "model_name": "DescriptionStyleModel",
      "state": {
       "description_width": ""
      }
     },
     "43342e9eb0ae4c69bfde47870412934d": {
      "model_module": "@jupyter-widgets/controls",
      "model_module_version": "1.5.0",
      "model_name": "HTMLModel",
      "state": {
       "layout": "IPY_MODEL_aed6847d948f4f55aaab4cc5098d3615",
       "style": "IPY_MODEL_3a00f285407b4107909788413e3a1aea",
       "value": "100%"
      }
     },
     "45d7c7324d0b4597b39aed25f36494a9": {
      "model_module": "@jupyter-widgets/controls",
      "model_module_version": "1.5.0",
      "model_name": "HTMLModel",
      "state": {
       "layout": "IPY_MODEL_27f4ee77e6be4cb7a0e4181832e56dce",
       "style": "IPY_MODEL_bcb286ab4b5c4326bfa95e7561d46b52",
       "value": " 19/19 [00:14&lt;00:00,  1.21s/it]"
      }
     },
     "4983ff4f1fa648cdaa88737d46da82b0": {
      "model_module": "@jupyter-widgets/base",
      "model_module_version": "1.2.0",
      "model_name": "LayoutModel",
      "state": {}
     },
     "4c4c1d2d617d430197971567de48ab63": {
      "model_module": "@jupyter-widgets/controls",
      "model_module_version": "1.5.0",
      "model_name": "DescriptionStyleModel",
      "state": {
       "description_width": ""
      }
     },
     "4e213e51158a4aff9c12d5b12a8b9e16": {
      "model_module": "@jupyter-widgets/controls",
      "model_module_version": "1.5.0",
      "model_name": "ProgressStyleModel",
      "state": {
       "description_width": ""
      }
     },
     "5173853f1e304316bcd1d987e60fd5d4": {
      "model_module": "@jupyter-widgets/controls",
      "model_module_version": "1.5.0",
      "model_name": "HTMLModel",
      "state": {
       "layout": "IPY_MODEL_fec1ae0cb23a47249064469b5fbb2459",
       "style": "IPY_MODEL_ee8880967198437e9f902924fc61a501",
       "value": " 19/19 [00:15&lt;00:00,  1.44s/it]"
      }
     },
     "53ddd07906b944118ebb83339a886186": {
      "model_module": "@jupyter-widgets/controls",
      "model_module_version": "1.5.0",
      "model_name": "GridBoxModel",
      "state": {
       "children": [
        "IPY_MODEL_3916df1c8a5b41eaa3f43dd5a795eaab"
       ],
       "layout": "IPY_MODEL_f1842add6a74462c88e3f45db4251f59"
      }
     },
     "54a5ca6011c64ea4a3a43305769de737": {
      "model_module": "@jupyter-widgets/base",
      "model_module_version": "1.2.0",
      "model_name": "LayoutModel",
      "state": {}
     },
     "5ea5cf0153354ed29da1632c05d3e62b": {
      "model_module": "@jupyter-widgets/base",
      "model_module_version": "1.2.0",
      "model_name": "LayoutModel",
      "state": {
       "width": "95px"
      }
     },
     "5ec4170975fb479a9d75a61647fe89d8": {
      "model_module": "@jupyter-widgets/controls",
      "model_module_version": "1.5.0",
      "model_name": "HTMLModel",
      "state": {
       "layout": "IPY_MODEL_eabd05f3bfff4cada4ebbe21e197f066",
       "style": "IPY_MODEL_c7b97669870b46d7a4970faf92789da5",
       "value": " 19/19 [00:14&lt;00:00,  1.29s/it]"
      }
     },
     "5f06f10b5ce14fb4839e5cf7ae02a404": {
      "model_module": "@jupyter-widgets/base",
      "model_module_version": "1.2.0",
      "model_name": "LayoutModel",
      "state": {}
     },
     "665ee33557c94aacb4036c661e0f8c90": {
      "model_module": "@jupyter-widgets/base",
      "model_module_version": "1.2.0",
      "model_name": "LayoutModel",
      "state": {}
     },
     "68b2604bdc4242a6ad550866d1165d0e": {
      "model_module": "@jupyter-widgets/base",
      "model_module_version": "1.2.0",
      "model_name": "LayoutModel",
      "state": {}
     },
     "6918c3a0649240408d225f03fc95ed12": {
      "model_module": "@jupyter-widgets/controls",
      "model_module_version": "1.5.0",
      "model_name": "HTMLModel",
      "state": {
       "layout": "IPY_MODEL_b8812dd43a2c4a139bc5ff6d242acbc2",
       "style": "IPY_MODEL_daecbc68db5540c4998c0512d51c62a2",
       "value": "100%"
      }
     },
     "6b7eb5f34813444dbc4511f88d0551aa": {
      "model_module": "@jupyter-widgets/controls",
      "model_module_version": "1.5.0",
      "model_name": "DescriptionStyleModel",
      "state": {
       "description_width": ""
      }
     },
     "6dbed0b825d742f385357fbce977bbad": {
      "model_module": "@jupyter-widgets/base",
      "model_module_version": "1.2.0",
      "model_name": "LayoutModel",
      "state": {}
     },
     "6f3ca75397f1439ebcf709f6d87a25c7": {
      "model_module": "@jupyter-widgets/controls",
      "model_module_version": "1.5.0",
      "model_name": "FloatProgressModel",
      "state": {
       "bar_style": "success",
       "layout": "IPY_MODEL_5f06f10b5ce14fb4839e5cf7ae02a404",
       "max": 19,
       "style": "IPY_MODEL_7586f328f2a14b53ad04e16de9ea7e63",
       "value": 19
      }
     },
     "713d13fa1b594bc1a05d783df1e6ecf3": {
      "model_module": "@jupyter-widgets/controls",
      "model_module_version": "1.5.0",
      "model_name": "ProgressStyleModel",
      "state": {
       "description_width": ""
      }
     },
     "747983a0a77649828c5401dc82c3262c": {
      "model_module": "@jupyter-widgets/controls",
      "model_module_version": "1.5.0",
      "model_name": "FloatProgressModel",
      "state": {
       "bar_style": "success",
       "layout": "IPY_MODEL_247f799904664a94bcc6c922c5bffa0a",
       "max": 19,
       "style": "IPY_MODEL_ec403b2585c64fa3bda720b13149467a",
       "value": 19
      }
     },
     "7586f328f2a14b53ad04e16de9ea7e63": {
      "model_module": "@jupyter-widgets/controls",
      "model_module_version": "1.5.0",
      "model_name": "ProgressStyleModel",
      "state": {
       "description_width": ""
      }
     },
     "767fb608bc1f43ba8545629c929d2551": {
      "model_module": "@jupyter-widgets/controls",
      "model_module_version": "1.5.0",
      "model_name": "ButtonStyleModel",
      "state": {}
     },
     "7b457ac19f94469d817a991af1be2cb3": {
      "model_module": "@jupyter-widgets/base",
      "model_module_version": "1.2.0",
      "model_name": "LayoutModel",
      "state": {
       "width": "70px"
      }
     },
     "7be644709b4b4eb49146b024fc2037e1": {
      "model_module": "@jupyter-widgets/controls",
      "model_module_version": "1.5.0",
      "model_name": "DescriptionStyleModel",
      "state": {
       "description_width": ""
      }
     },
     "7ec0c3f2e8b8438f94536afa77d03435": {
      "model_module": "@jupyter-widgets/base",
      "model_module_version": "1.2.0",
      "model_name": "LayoutModel",
      "state": {}
     },
     "7f434f6ba0ed4b4fb2501ca7bd1c4a20": {
      "model_module": "@jupyter-widgets/controls",
      "model_module_version": "1.5.0",
      "model_name": "HTMLModel",
      "state": {
       "layout": "IPY_MODEL_7b457ac19f94469d817a991af1be2cb3",
       "style": "IPY_MODEL_c581c3d9484742c6a64ca9a0cc27c3aa",
       "value": "<h5>Queue</h5>"
      }
     },
     "83caedfea659419fa188c4c5608d3e90": {
      "model_module": "@jupyter-widgets/base",
      "model_module_version": "1.2.0",
      "model_name": "LayoutModel",
      "state": {}
     },
     "849b068760c54dc4a0424ae86959c8ee": {
      "model_module": "@jupyter-widgets/controls",
      "model_module_version": "1.5.0",
      "model_name": "HTMLModel",
      "state": {
       "layout": "IPY_MODEL_bed56eca24c843f2acde831cdbc1f387",
       "style": "IPY_MODEL_c6483e34fd73452f8de17a4eb21f9355",
       "value": "<p style='font-family: IBM Plex Sans, Arial, Helvetica, sans-serif; font-size: 20px; font-weight: medium;'>Circuit Properties</p>"
      }
     },
     "87ee4526294f430bac6a6bd5bf1c29f2": {
      "model_module": "@jupyter-widgets/controls",
      "model_module_version": "1.5.0",
      "model_name": "HBoxModel",
      "state": {
       "children": [
        "IPY_MODEL_a0bc392d24f14fd6804ac0817466b087",
        "IPY_MODEL_d9d5f480475143f381fff267b5cd583e",
        "IPY_MODEL_45d7c7324d0b4597b39aed25f36494a9"
       ],
       "layout": "IPY_MODEL_97fe8249879a458ca6640964df9c8a64"
      }
     },
     "8cc3a97e9b9a4d9a85ef4c5fa49e24ce": {
      "model_module": "@jupyter-widgets/controls",
      "model_module_version": "1.5.0",
      "model_name": "DescriptionStyleModel",
      "state": {
       "description_width": ""
      }
     },
     "8dd40d23449f4e8ebf1d98aad5cc5c53": {
      "model_module": "@jupyter-widgets/controls",
      "model_module_version": "1.5.0",
      "model_name": "HBoxModel",
      "state": {
       "children": [
        "IPY_MODEL_194b9e01ba724dba9b05e4da7cb63b23",
        "IPY_MODEL_747983a0a77649828c5401dc82c3262c",
        "IPY_MODEL_5ec4170975fb479a9d75a61647fe89d8"
       ],
       "layout": "IPY_MODEL_7ec0c3f2e8b8438f94536afa77d03435"
      }
     },
     "8e91d1057486424ea526261066f51668": {
      "model_module": "@jupyter-widgets/controls",
      "model_module_version": "1.5.0",
      "model_name": "HTMLModel",
      "state": {
       "layout": "IPY_MODEL_16967caf80c543f1984cc5a601f19d1f",
       "style": "IPY_MODEL_8cc3a97e9b9a4d9a85ef4c5fa49e24ce",
       "value": "100%"
      }
     },
     "8ebc5ea996ae45b18cbeb73b43124002": {
      "model_module": "@jupyter-widgets/controls",
      "model_module_version": "1.5.0",
      "model_name": "HTMLModel",
      "state": {
       "layout": "IPY_MODEL_f0865125a5c443ec9acbb4206e0d440f",
       "style": "IPY_MODEL_fc05184de60644bfa374ef6a30648eb7",
       "value": "100%"
      }
     },
     "9521df6b4b874cbe8f0184384a5c0da6": {
      "model_module": "@jupyter-widgets/controls",
      "model_module_version": "1.5.0",
      "model_name": "HTMLModel",
      "state": {
       "layout": "IPY_MODEL_99961f7543854b20a93717c56440c993",
       "style": "IPY_MODEL_7be644709b4b4eb49146b024fc2037e1",
       "value": "<h5>Job ID</h5>"
      }
     },
     "97fe8249879a458ca6640964df9c8a64": {
      "model_module": "@jupyter-widgets/base",
      "model_module_version": "1.2.0",
      "model_name": "LayoutModel",
      "state": {}
     },
     "99961f7543854b20a93717c56440c993": {
      "model_module": "@jupyter-widgets/base",
      "model_module_version": "1.2.0",
      "model_name": "LayoutModel",
      "state": {
       "width": "190px"
      }
     },
     "9ac9b005eb77436cb977562f4ddcf4f0": {
      "model_module": "@jupyter-widgets/controls",
      "model_module_version": "1.5.0",
      "model_name": "HTMLModel",
      "state": {
       "layout": "IPY_MODEL_cc2da57ba01d4b8c9fa7710abfeb767c",
       "style": "IPY_MODEL_f390402ce5244916803bd63f10d20442",
       "value": "<h5>Message</h5>"
      }
     },
     "9e0507e2443a4fa6b64742b3c7e371b5": {
      "model_module": "@jupyter-widgets/controls",
      "model_module_version": "1.5.0",
      "model_name": "HBoxModel",
      "state": {
       "children": [
        "IPY_MODEL_6918c3a0649240408d225f03fc95ed12",
        "IPY_MODEL_c20cac611240432ca6cb2dd0b9a5812b",
        "IPY_MODEL_b0f6ea596da343019f53d964dcb875ac"
       ],
       "layout": "IPY_MODEL_3441f1ca9f854138bd89e353e3257974"
      }
     },
     "9f36996135a640238f10369fb92e31d9": {
      "model_module": "@jupyter-widgets/controls",
      "model_module_version": "1.5.0",
      "model_name": "HTMLModel",
      "state": {
       "layout": "IPY_MODEL_052176b2ee974c6d8f8d838263b618c8",
       "style": "IPY_MODEL_b01fd642199244f2951baa39d7d2c85b",
       "value": " 19/19 [00:15&lt;00:00,  1.31s/it]"
      }
     },
     "a0bc392d24f14fd6804ac0817466b087": {
      "model_module": "@jupyter-widgets/controls",
      "model_module_version": "1.5.0",
      "model_name": "HTMLModel",
      "state": {
       "layout": "IPY_MODEL_b615a8758a6a44e890a5c7900955d58e",
       "style": "IPY_MODEL_d4a32a31ffd6424da20f06785ba747fc",
       "value": "100%"
      }
     },
     "ab976d755e804b638453ff091faf8a3a": {
      "model_module": "@jupyter-widgets/controls",
      "model_module_version": "1.5.0",
      "model_name": "HTMLModel",
      "state": {
       "layout": "IPY_MODEL_0d009c7b8e2e4458aca595f0e4de1013",
       "style": "IPY_MODEL_42754ae660cc4aa2a36d8048d88bdef8",
       "value": " 19/19 [00:15&lt;00:00,  1.29s/it]"
      }
     },
     "aed6847d948f4f55aaab4cc5098d3615": {
      "model_module": "@jupyter-widgets/base",
      "model_module_version": "1.2.0",
      "model_name": "LayoutModel",
      "state": {}
     },
     "aff5040b837b49bc9bdfc3180bd007a2": {
      "model_module": "@jupyter-widgets/base",
      "model_module_version": "1.2.0",
      "model_name": "LayoutModel",
      "state": {}
     },
     "b01fd642199244f2951baa39d7d2c85b": {
      "model_module": "@jupyter-widgets/controls",
      "model_module_version": "1.5.0",
      "model_name": "DescriptionStyleModel",
      "state": {
       "description_width": ""
      }
     },
     "b0eaf973d2574817beccba42dae44b9e": {
      "model_module": "@jupyter-widgets/controls",
      "model_module_version": "1.5.0",
      "model_name": "FloatProgressModel",
      "state": {
       "bar_style": "success",
       "layout": "IPY_MODEL_665ee33557c94aacb4036c661e0f8c90",
       "max": 19,
       "style": "IPY_MODEL_37489c5393bd4f02a40085313e718f09",
       "value": 19
      }
     },
     "b0f6ea596da343019f53d964dcb875ac": {
      "model_module": "@jupyter-widgets/controls",
      "model_module_version": "1.5.0",
      "model_name": "HTMLModel",
      "state": {
       "layout": "IPY_MODEL_54a5ca6011c64ea4a3a43305769de737",
       "style": "IPY_MODEL_d8fef70dd84747f69d56bd169404e7d8",
       "value": " 19/19 [00:15&lt;00:00,  1.28s/it]"
      }
     },
     "b615a8758a6a44e890a5c7900955d58e": {
      "model_module": "@jupyter-widgets/base",
      "model_module_version": "1.2.0",
      "model_name": "LayoutModel",
      "state": {}
     },
     "b7d94ba573da4f52b46f931d23c91b97": {
      "model_module": "@jupyter-widgets/controls",
      "model_module_version": "1.5.0",
      "model_name": "HTMLModel",
      "state": {
       "layout": "IPY_MODEL_d7891fe16a83492f8b8ce263a0e9f251",
       "style": "IPY_MODEL_4c4c1d2d617d430197971567de48ab63",
       "value": "<h5>Backend</h5>"
      }
     },
     "b8812dd43a2c4a139bc5ff6d242acbc2": {
      "model_module": "@jupyter-widgets/base",
      "model_module_version": "1.2.0",
      "model_name": "LayoutModel",
      "state": {}
     },
     "bcb286ab4b5c4326bfa95e7561d46b52": {
      "model_module": "@jupyter-widgets/controls",
      "model_module_version": "1.5.0",
      "model_name": "DescriptionStyleModel",
      "state": {
       "description_width": ""
      }
     },
     "bed56eca24c843f2acde831cdbc1f387": {
      "model_module": "@jupyter-widgets/base",
      "model_module_version": "1.2.0",
      "model_name": "LayoutModel",
      "state": {
       "margin": "0px 0px 10px 0px"
      }
     },
     "bfadc8afed37469dbe385235d7982008": {
      "model_module": "@jupyter-widgets/controls",
      "model_module_version": "1.5.0",
      "model_name": "ProgressStyleModel",
      "state": {
       "description_width": ""
      }
     },
     "c20cac611240432ca6cb2dd0b9a5812b": {
      "model_module": "@jupyter-widgets/controls",
      "model_module_version": "1.5.0",
      "model_name": "FloatProgressModel",
      "state": {
       "bar_style": "success",
       "layout": "IPY_MODEL_aff5040b837b49bc9bdfc3180bd007a2",
       "max": 19,
       "style": "IPY_MODEL_713d13fa1b594bc1a05d783df1e6ecf3",
       "value": 19
      }
     },
     "c581c3d9484742c6a64ca9a0cc27c3aa": {
      "model_module": "@jupyter-widgets/controls",
      "model_module_version": "1.5.0",
      "model_name": "DescriptionStyleModel",
      "state": {
       "description_width": ""
      }
     },
     "c6483e34fd73452f8de17a4eb21f9355": {
      "model_module": "@jupyter-widgets/controls",
      "model_module_version": "1.5.0",
      "model_name": "DescriptionStyleModel",
      "state": {
       "description_width": ""
      }
     },
     "c7b97669870b46d7a4970faf92789da5": {
      "model_module": "@jupyter-widgets/controls",
      "model_module_version": "1.5.0",
      "model_name": "DescriptionStyleModel",
      "state": {
       "description_width": ""
      }
     },
     "cc2da57ba01d4b8c9fa7710abfeb767c": {
      "model_module": "@jupyter-widgets/base",
      "model_module_version": "1.2.0",
      "model_name": "LayoutModel",
      "state": {}
     },
     "cd1c7d1e336841658a57915d78a69aa6": {
      "model_module": "@jupyter-widgets/base",
      "model_module_version": "1.2.0",
      "model_name": "LayoutModel",
      "state": {
       "margin": "0px 0px 0px 37px",
       "width": "600px"
      }
     },
     "d2ea5df448344e3f9226e9f4507b0696": {
      "model_module": "@jupyter-widgets/controls",
      "model_module_version": "1.5.0",
      "model_name": "HBoxModel",
      "state": {
       "children": [
        "IPY_MODEL_8e91d1057486424ea526261066f51668",
        "IPY_MODEL_b0eaf973d2574817beccba42dae44b9e",
        "IPY_MODEL_9f36996135a640238f10369fb92e31d9"
       ],
       "layout": "IPY_MODEL_6dbed0b825d742f385357fbce977bbad"
      }
     },
     "d4a32a31ffd6424da20f06785ba747fc": {
      "model_module": "@jupyter-widgets/controls",
      "model_module_version": "1.5.0",
      "model_name": "DescriptionStyleModel",
      "state": {
       "description_width": ""
      }
     },
     "d54bffc0e66846b1b6cae6ab4f50e04a": {
      "model_module": "@jupyter-widgets/base",
      "model_module_version": "1.2.0",
      "model_name": "LayoutModel",
      "state": {}
     },
     "d7891fe16a83492f8b8ce263a0e9f251": {
      "model_module": "@jupyter-widgets/base",
      "model_module_version": "1.2.0",
      "model_name": "LayoutModel",
      "state": {
       "width": "145px"
      }
     },
     "d8fef70dd84747f69d56bd169404e7d8": {
      "model_module": "@jupyter-widgets/controls",
      "model_module_version": "1.5.0",
      "model_name": "DescriptionStyleModel",
      "state": {
       "description_width": ""
      }
     },
     "d9d5f480475143f381fff267b5cd583e": {
      "model_module": "@jupyter-widgets/controls",
      "model_module_version": "1.5.0",
      "model_name": "FloatProgressModel",
      "state": {
       "bar_style": "success",
       "layout": "IPY_MODEL_0c6ea2fca4b34b67a852691c842fbbd0",
       "max": 19,
       "style": "IPY_MODEL_4e213e51158a4aff9c12d5b12a8b9e16",
       "value": 19
      }
     },
     "daecbc68db5540c4998c0512d51c62a2": {
      "model_module": "@jupyter-widgets/controls",
      "model_module_version": "1.5.0",
      "model_name": "DescriptionStyleModel",
      "state": {
       "description_width": ""
      }
     },
     "eabd05f3bfff4cada4ebbe21e197f066": {
      "model_module": "@jupyter-widgets/base",
      "model_module_version": "1.2.0",
      "model_name": "LayoutModel",
      "state": {}
     },
     "ec403b2585c64fa3bda720b13149467a": {
      "model_module": "@jupyter-widgets/controls",
      "model_module_version": "1.5.0",
      "model_name": "ProgressStyleModel",
      "state": {
       "description_width": ""
      }
     },
     "ee8880967198437e9f902924fc61a501": {
      "model_module": "@jupyter-widgets/controls",
      "model_module_version": "1.5.0",
      "model_name": "DescriptionStyleModel",
      "state": {
       "description_width": ""
      }
     },
     "f0865125a5c443ec9acbb4206e0d440f": {
      "model_module": "@jupyter-widgets/base",
      "model_module_version": "1.2.0",
      "model_name": "LayoutModel",
      "state": {}
     },
     "f14cbe1eef684ae2bddcf91e17fc8f8f": {
      "model_module": "@jupyter-widgets/controls",
      "model_module_version": "1.5.0",
      "model_name": "HBoxModel",
      "state": {
       "children": [
        "IPY_MODEL_9521df6b4b874cbe8f0184384a5c0da6",
        "IPY_MODEL_b7d94ba573da4f52b46f931d23c91b97",
        "IPY_MODEL_2cb795b030a541d88d402d5a62299397",
        "IPY_MODEL_7f434f6ba0ed4b4fb2501ca7bd1c4a20",
        "IPY_MODEL_9ac9b005eb77436cb977562f4ddcf4f0"
       ],
       "layout": "IPY_MODEL_cd1c7d1e336841658a57915d78a69aa6"
      }
     },
     "f1842add6a74462c88e3f45db4251f59": {
      "model_module": "@jupyter-widgets/base",
      "model_module_version": "1.2.0",
      "model_name": "LayoutModel",
      "state": {
       "grid_template_areas": "\n                                       \". . . . right \"\n                                        ",
       "grid_template_columns": "20% 20% 20% 20% 20%",
       "width": "100%"
      }
     },
     "f390402ce5244916803bd63f10d20442": {
      "model_module": "@jupyter-widgets/controls",
      "model_module_version": "1.5.0",
      "model_name": "DescriptionStyleModel",
      "state": {
       "description_width": ""
      }
     },
     "f436cd21995e42fdbe4f028fb53ee31b": {
      "model_module": "@jupyter-widgets/controls",
      "model_module_version": "1.5.0",
      "model_name": "DescriptionStyleModel",
      "state": {
       "description_width": ""
      }
     },
     "fc05184de60644bfa374ef6a30648eb7": {
      "model_module": "@jupyter-widgets/controls",
      "model_module_version": "1.5.0",
      "model_name": "DescriptionStyleModel",
      "state": {
       "description_width": ""
      }
     },
     "fec1ae0cb23a47249064469b5fbb2459": {
      "model_module": "@jupyter-widgets/base",
      "model_module_version": "1.2.0",
      "model_name": "LayoutModel",
      "state": {}
     }
    },
    "version_major": 2,
    "version_minor": 0
   }
  }
 },
 "nbformat": 4,
 "nbformat_minor": 5
}

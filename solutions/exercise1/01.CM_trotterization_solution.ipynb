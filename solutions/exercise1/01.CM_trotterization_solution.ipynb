{
 "cells": [
  {
   "cell_type": "code",
   "execution_count": null,
   "id": "7152f2bf-5b38-470a-a523-6398a51c2c16",
   "metadata": {},
   "outputs": [],
   "source": [
    "import numpy as np\n",
    "import matplotlib.pyplot as plt\n",
    "\n",
    "# Importing standard Qiskit libraries\n",
    "from qiskit import QuantumCircuit, QuantumRegister, transpile, Aer, IBMQ, execute\n",
    "from qiskit.tools.jupyter import *\n",
    "from qiskit.visualization import *\n",
    "#from ibm_quantum_widgets import *\n",
    "from qiskit.providers.aer import QasmSimulator\n",
    "from tqdm.notebook import tqdm\n",
    "\n",
    "from qiskit.providers.aer import QasmSimulator\n",
    "from qiskit.tools.monitor import job_monitor\n",
    "from qiskit.circuit import Parameter\n",
    "import qiskit.quantum_info as qi\n",
    "\n",
    "# Suppress warnings\n",
    "import warnings\n",
    "warnings.filterwarnings('ignore')"
   ]
  },
  {
   "attachments": {
    "tight-binding.png": {
     "image/png": "[encoded data removed]"
    }
   },
   "cell_type": "markdown",
   "id": "3e8021b4",
   "metadata": {},
   "source": [
    "# Tight-binding Model\n",
    "\n",
    "<div>\n",
    "<img src=\"attachment:tight-binding.png\" width=\"400\"/>\n",
    "</div>\n",
    "\n",
    "The tight-binding model is a quantum mechanical picture used to describe the conductance of electrons in solid-state materials. In this model, each atom is treated as a lattice site and the particle needs energy $\\epsilon_i$ to occupy that site. The electron can tunnel from a site to its neighbors with an energy cost of $J$. The following Hamiltonian describes this model:\n",
    "\n",
    "$$H_{\\rm tb}/\\hbar = \\sum_i \\epsilon_i Z_i + J \\sum_{\\langle i,j \\rangle} (X_i X_j + Y_i Y_j)$$\n",
    "\n",
    "The first term in the Hamiltonian describes the on-site energy of each site, and the second term describes the interaction energy between neighboring lattice sites. In the presence of a periodic lattice potential, the wavefunction of a given quantum particle overlaps neighboring lattice sites, leading to extended Bloch wavefunctions. In a uniform lattice, where all the site energies are equal ($\\epsilon_i=0$), the electron propagation is linear in time and is described by a continuous-time quantum random walk. This is in contrast to classical diffusive transport, where the propagation is quadratically slower in time.\n",
    "\n",
    "The system Hamiltonian allows us to determine how the quantum state evolves with time. This time evolution is governed by the Schrodinger equation:\n",
    "\n",
    "$$ i \\hbar \\frac{\\partial}{\\partial t}|\\psi(t)\\rangle = H |\\psi(t)\\rangle $$\n",
    "\n",
    "In case of a time-independent Hamiltonian (a Hamiltonian that doesn't change with time), the solution to the Schrodinger equation will take the form below:\n",
    "\n",
    "$$ |\\psi(t)\\rangle = e^{-i H t / \\hbar} |\\psi(0)\\rangle $$\n",
    "\n",
    "In this exercise we study the time dynamics under the tight-binding Hamiltonian, and construct a Trotterized circuit for its time evolution."
   ]
  },
  {
   "cell_type": "markdown",
   "id": "172dc11b",
   "metadata": {},
   "source": [
    "## 1. Time evolution under the tight-binding Hamiltonian\n",
    "\n",
    "First, let's consider time evolution under the tight-binding Hamiltonian with 3 sites. Here we'll set $J=1$, and $\\epsilon_i=0$ for a uniform lattice."
   ]
  },
  {
   "cell_type": "code",
   "execution_count": null,
   "id": "c8034d3c-e2c4-4dda-aa78-e44b34ad494c",
   "metadata": {},
   "outputs": [],
   "source": [
    "# Import Pauli operators (I, X, Y, Z)\n",
    "from qiskit.opflow import I, X, Y, Z\n",
    "\n",
    "J = 1\n",
    "\n",
    "# tight-binding Hamiltonian\n",
    "def H_tb():\n",
    "    # Interactions (I is the identity matrix; X and Y are Pauli matricies; ^ is a tensor product)\n",
    "    XXs = (I^X^X) + (X^X^I)\n",
    "    YYs = (I^Y^Y) + (Y^Y^I)\n",
    "    \n",
    "    # Sum interactions\n",
    "    H = J*(XXs + YYs)\n",
    "    \n",
    "    # Return Hamiltonian\n",
    "    return H"
   ]
  },
  {
   "cell_type": "code",
   "execution_count": null,
   "id": "36f59aec-f85d-4898-a69d-231f7b53e2a1",
   "metadata": {},
   "outputs": [],
   "source": [
    "# Unitary evolution under the tight-binding Hamiltonian\n",
    "def U_tb(t):\n",
    "    H = H_tb()\n",
    "    return (t * H).exp_i()"
   ]
  },
  {
   "cell_type": "markdown",
   "id": "b52f1e66",
   "metadata": {},
   "source": [
    "We initialize the state of our system to $|100\\rangle$, and track the probabilities of the states $|100\\rangle, |010\\rangle, |001\\rangle$. These values correspond to the probability of finding the particle on each different site of our lattice."
   ]
  },
  {
   "cell_type": "code",
   "execution_count": null,
   "id": "1a46069b-d9e6-4c73-bf3a-1fce5922b421",
   "metadata": {},
   "outputs": [],
   "source": [
    "# Import qubit states Zero (|0>) and One (|1>)\n",
    "from qiskit.opflow import Zero, One\n",
    "\n",
    "# Define array of time points\n",
    "ts = np.linspace(0, 3, 100) # DO NOT CHANGE THIS\n",
    "\n",
    "initial_state=One^Zero^Zero\n",
    "\n",
    "state_t=[U_tb(float(t)) @ initial_state for t in ts]\n",
    "\n",
    "p_100= [np.abs( (~(One^Zero^Zero) @ state).eval() )**2 for state in state_t]\n",
    "p_010= [np.abs( (~(Zero^One^Zero) @ state).eval() )**2 for state in state_t]\n",
    "p_001= [np.abs( (~(Zero^Zero^One) @ state).eval() )**2 for state in state_t]\n",
    "\n",
    "plt.figure(facecolor='white')\n",
    "plt.plot(ts, p_100, label=r'$p_{100}$')\n",
    "plt.plot(ts, p_010, label=r'$p_{010}$')\n",
    "plt.plot(ts, p_001, label=r'$p_{001}$')\n",
    "plt.xlabel(r'Time (1/J)')\n",
    "plt.ylabel(r'Population')\n",
    "plt.legend()\n",
    "plt.show()"
   ]
  },
  {
   "cell_type": "markdown",
   "id": "19c6ab38",
   "metadata": {},
   "source": [
    "## 2. Trotterization\n",
    "\n",
    "To execute the unitary time evolution on a [circuit model](https://qiskit.org/documentation/apidoc/circuit.html) quantum computer, we must decompose $U_{\\text{tb}}(t)$ into a product of single and two-qubit gates that are native to the quantum computer. One method to accomplish this is [Trotterization](https://en.wikipedia.org/wiki/Hamiltonian_simulation#Product_Formulas), also refered to as Trotter-Suzuki decomposition. \n",
    "\n",
    "Below, we show an example Trotterization as outlined in \\[1-2\\].\n",
    "\n",
    "Since the [Pauli operators do not commute](https://en.wikipedia.org/wiki/Pauli_matrices#Commutation_relations) with each other, the exponential $U_{\\text{tb}}(t)$ cannot be split into a product of simpler exponentials. However, we can approximate $U_{\\text{tb}}(t)$ as a product of simpler exponentials through Trotterization. Consider a subsystem of 2 spin-1/2 particles within the larger 3 spin system. The Hamiltonian on spins $i$ and $j$ ($i,j \\in \\{0,1,2\\}$) would be $H^{(i,j)}_{\\text{tb}} = \\sigma_x^{(i)}\\sigma_x^{(j)} + \\sigma_y^{(i)}\\sigma_y^{(j)} + \\sigma_z^{(i)}\\sigma_z^{(j)}$. Rewritting $U_{\\text{tb}}(t)$ in terms of the two possible subsystems within the total $N=3$ system you will simulate,\n",
    "\n",
    "$$\n",
    "U_{\\text{tb}}(t) = \\exp\\left[-i t \\left(H^{(0,1)}_{\\text{tb}} + H^{(1,2)}_{\\text{tb}} \\right)\\right].\n",
    "$$\n",
    "\n",
    "$H^{(0,1)}_{\\text{tb}}$ and $H^{(1,2)}_{\\text{tb}}$ do not commute, so $U_{\\text{tb}}(t) \\neq \\exp\\left(-i t H^{(0,1)}_{\\text{tb}}\\right) \\exp\\left(-i t H^{(1,2)}_{\\text{tb}} \\right)$. But, this product decomposition can be approximated with Trotterization which says $U_{\\text{tb}}(t)$ is approximately a short evolution of $H^{(0,1)}_{\\text{tb}}$ (time = $t/n$) and followed by a short evolution of $H^{(1,2)}_{\\text{tb}}$ (time = $t/n$) repeated $n$ times\n",
    "\n",
    "$$\n",
    "\\begin{align}\n",
    "U_{\\text{tb}}(t) &= \\exp\\left[-i t \\left(H^{(0,1)}_{\\text{tb}} + H^{(1,2)}_{\\text{tb}} \\right)\\right] \\\\\n",
    "U_{\\text{tb}}(t) &\\approx \\left[\\exp\\left(\\dfrac{-it}{n}H^{(0,1)}_{\\text{tb}}\\right) \\exp\\left(\\dfrac{-it}{n}H^{(1,2)}_{\\text{tb}} \\right)\\right]^n.\n",
    "\\end{align}\n",
    "$$\n",
    "\n",
    "$n$ is the number of Trotter steps, and as $n$ increases, the approximation becomes more accurate. (Note that how the unitary operator is split up into subsystems for Trotterization is not necessarily unique.) The decomposition goes further. Within each 2 spin subsystems, the Pauli operator pairs ($\\sigma_x^{(i)}\\sigma_x^{(j)}$, $\\sigma_y^{(i)}\\sigma_y^{(j)}$, and $\\sigma_z^{(i)}\\sigma_z^{(j)}$) commute. This means we can decompose the exponential of a subsystem Hamiltonian ($H^{(i,j)}_{\\text{tb}}$) into a product of even simpler exponentials getting us closer to a gate implementation of $U_{\\text{tb}}(t)$\n",
    "\n",
    "$$\n",
    "\\begin{align}\n",
    "U_{\\text{tb}}(t) &\\approx \\left[\\exp\\left(\\dfrac{-it}{n}H^{(0,1)}_{\\text{tb}}\\right) \\exp\\left(\\dfrac{-it}{n}H^{(1,2)}_{\\text{tb}} \\right)\\right]^n \\\\\n",
    "U_{\\text{tb}}(t) &\\approx \\left[\\exp\\left(\\dfrac{-it}{n}\\left(\\sigma_x^{(0)}\\sigma_x^{(1)} + \\sigma_y^{(0)}\\sigma_y^{(1)} \\right)\\right) \\exp\\left(\\dfrac{-it}{n}\\left(\\sigma_x^{(1)}\\sigma_x^{(2)} + \\sigma_y^{(1)}\\sigma_y^{(2)} \\right)\\right)\\right]^{n} \\\\\n",
    "U_{\\text{tb}}(t) &\\approx \\left[\\exp\\left(\\dfrac{-it}{n}\\sigma_x^{(0)}\\sigma_x^{(1)}\\right) \\exp\\left(\\dfrac{-it}{n}\\sigma_y^{(0)}\\sigma_y^{(1)}\\right) \\exp\\left(\\dfrac{-it}{n}\\sigma_x^{(1)}\\sigma_x^{(2)}\\right) \\exp\\left(\\dfrac{-it}{n}\\sigma_y^{(1)}\\sigma_y^{(2)}\\right) \\right]^{n}\n",
    "\\end{align}\n",
    "$$\n",
    "\n",
    "For simplicity, and to use more common notation, let's rename the products with $XX(2t) = \\exp\\left(-it \\sigma_x\\sigma_x\\right)$, and $YY(2t) = \\exp\\left(-it \\sigma_y\\sigma_y\\right)$, and rewrite the Trotterized $U_{\\text{tb}}(t)$\n",
    "$$\n",
    "U_{\\text{tb}}(t) \\approx \\left[XX\\left(\\frac{2t}{n}\\right)^{(0,1)} YY\\left(\\frac{2t}{n}\\right)^{(0,1)}  XX\\left(\\frac{2t}{n}\\right)^{(1,2)} YY\\left(\\frac{2t}{n}\\right)^{(1,2)}\\right]^{n}\n",
    "$$\n",
    "And that's it! We have now approximately decomposed $U_{\\text{tb}}(t)$ into two-qubit gates $XX(t)$ and $YY(t)$. These gates are not native to superconducting qubits, but in Section 2, they will be further decomposed into native single and two-qubit gates with *further details found in the supplementary material.*\n",
    "\n",
    "\n",
    "\\[1\\] Y. Salathe, et al., *Digital Quantum Simulation of Spin Models with Circuit Quantum Electrodynamics*, [Phys. Rev. X **5**, 021027 (2015)](https://link.aps.org/doi/10.1103/PhysRevX.5.021027)\n",
    "\n",
    "\\[2\\] F. Tacchino, et al., *Quantum Computers as Universal Quantum Simulators: State-of-the-Art and Perspectives*, [Adv. Quantum Technol. *3* 3 (2020)](https://doi.org/10.1002/qute.201900052) \\[[free arxiv version](https://arxiv.org/abs/1907.03505)\\]\n"
   ]
  },
  {
   "cell_type": "markdown",
   "id": "2e7c574e",
   "metadata": {},
   "source": [
    "### 2.1 Building the individual Pauli unitaries\n",
    "\n",
    "In this section we build ZZ(t), XX(t), and YY(t) operations using single- and two-qubit gates."
   ]
  },
  {
   "cell_type": "code",
   "execution_count": null,
   "id": "6d790e43-7e59-40b3-9a3a-806e7df15b70",
   "metadata": {},
   "outputs": [],
   "source": [
    "t = Parameter('t')"
   ]
  },
  {
   "cell_type": "code",
   "execution_count": null,
   "id": "0c98587c-7d60-4e9e-9ccb-470381997673",
   "metadata": {},
   "outputs": [],
   "source": [
    "# Build a subcircuit for ZZ(t) from single- and two-qubit gates\n",
    "\n",
    "ZZ_qr = QuantumRegister(2)\n",
    "ZZ_qc = QuantumCircuit(ZZ_qr, name='ZZ')\n",
    "\n",
    "ZZ_qc.cnot(0,1)\n",
    "ZZ_qc.rz(2 * t, 1)\n",
    "ZZ_qc.cnot(0,1)\n",
    "\n",
    "# Convert custom quantum circuit into a gate\n",
    "ZZ = ZZ_qc.to_instruction()\n",
    "\n",
    "ZZ_qc.draw()"
   ]
  },
  {
   "cell_type": "markdown",
   "id": "11c706da",
   "metadata": {},
   "source": [
    "### 2.2 Clifford gates\n",
    "\n",
    "Clifford gates are quantum operators that map Pauli operators to other Pauli operators. The Hadamard gate ($H$) and the phase gate ($S$) are examples of single-qubit Clifford gates.\n",
    "\n",
    "$$H=\\frac{1}{\\sqrt{2}}\\begin{pmatrix} 1 & 1 \\\\1 & -1\\\\ \\end{pmatrix}$$\n",
    "\n",
    "$HZH^\\dagger=X$, and $HXH^\\dagger=Z$. Since the Hadamard gate is a Hermitian operator, $H=H^\\dagger$.\n",
    "\n",
    "$$S=\\begin{pmatrix} 1 & 0 \\\\0 & i\\\\ \\end{pmatrix}$$\n",
    "\n",
    "$SXS^\\dagger=Y$, and $SYS^\\dagger=-X$.\n",
    "\n",
    "Using the Clifford gates, we can transform the $e^{i ZZ t}$ to $e^{i XX t}$ and $e^{i YY t}$"
   ]
  },
  {
   "cell_type": "markdown",
   "id": "00ea5c84",
   "metadata": {},
   "source": [
    "<div class=\"alert alert-block alert-danger\">\n",
    "    \n",
    "<b>Challenge question 1a</b> \n",
    "\n",
    "Build a subcircuit for XX(t) from single- and two-qubit gates\n",
    "    \n",
    "</div>"
   ]
  },
  {
   "cell_type": "code",
   "execution_count": null,
   "id": "c08bcedb-6a0b-4141-810b-e5e4ab75b6c4",
   "metadata": {},
   "outputs": [],
   "source": [
    "\n",
    "XX_qr = QuantumRegister(2)\n",
    "XX_qc = QuantumCircuit(XX_qr, name='XX')\n",
    "\n",
    "###EDIT CODE BELOW (add Clifford operator)\n",
    "XX_qc.h([0,1])\n",
    "###DO NOT EDIT BELOW\n",
    "\n",
    "XX_qc.append(ZZ, [0,1])\n",
    "\n",
    "###EDIT CODE BELOW (add Clifford operator)\n",
    "XX_qc.h([0,1])\n",
    "###DO NOT EDIT BELOW\n",
    "\n",
    "# Convert custom quantum circuit into a gate\n",
    "XX = XX_qc.to_instruction()\n",
    "\n",
    "XX_qc.draw()"
   ]
  },
  {
   "cell_type": "code",
   "execution_count": null,
   "id": "915c22d7-89f3-4099-9acd-fe6f8721eb9f",
   "metadata": {},
   "outputs": [],
   "source": [
    "## Grade and submit your solution\n",
    "from qc_grader.challenges.spring_2022 import grade_ex1a\n",
    "\n",
    "grade_ex1a(XX_qc)\n"
   ]
  },
  {
   "cell_type": "markdown",
   "id": "23d9093d",
   "metadata": {},
   "source": [
    "<div class=\"alert alert-block alert-danger\">\n",
    "    \n",
    "<b>Challenge question 1b</b> \n",
    "\n",
    "Build a subcircuit for YY(t) from single- and two-qubit gates\n",
    "    \n",
    "</div>"
   ]
  },
  {
   "cell_type": "code",
   "execution_count": null,
   "id": "cc04f46e-da32-423e-8f0a-58ac9d6a526e",
   "metadata": {},
   "outputs": [],
   "source": [
    "\n",
    "YY_qr = QuantumRegister(2)\n",
    "YY_qc = QuantumCircuit(YY_qr, name='YY')\n",
    "\n",
    "###EDIT CODE BELOW (add Clifford operator)\n",
    "YY_qc.sdg([0,1])\n",
    "YY_qc.h([0,1])\n",
    "###DO NOT EDIT BELOW\n",
    "\n",
    "YY_qc.append(ZZ, [0,1])\n",
    "\n",
    "###EDIT CODE BELOW (add Clifford operator)\n",
    "YY_qc.h([0,1])\n",
    "YY_qc.s([0,1])\n",
    "###DO NOT EDIT BELOW\n",
    "\n",
    "# Convert custom quantum circuit into a gate\n",
    "YY = YY_qc.to_instruction()\n",
    "\n",
    "YY_qc.draw()"
   ]
  },
  {
   "cell_type": "code",
   "execution_count": null,
   "id": "1862a53a-221a-4b41-8cc7-8ceb90e8ae3d",
   "metadata": {},
   "outputs": [],
   "source": [
    "## Grade and submit your solution\n",
    "from qc_grader.challenges.spring_2022 import grade_ex1b\n",
    "\n",
    "grade_ex1b(YY_qc)\n"
   ]
  },
  {
   "cell_type": "markdown",
   "id": "1b5382b9",
   "metadata": {},
   "source": [
    "### 2.3 Building the trotterizated circuit\n",
    "\n",
    "$X_iX_j$ and $Y_iY_j$ operators commute:\n",
    "\n",
    "$$[X_iX_j, Y_iY_j]= X_iX_j.Y_iY_j - Y_iY_j.X_iX_j = Z_iZ_j-(-Z_i)(-Z_j)=0$$.\n",
    "\n",
    "Therefore, we can decompose $e^{i t (X_iX_j + Y_iY_j)}$ as $e^{i t X_iX_j} e^{i t Y_iY_j}$. Furthermore, if $i\\neq j \\neq k \\neq l$ then $[X_iX_j,X_kX_l]=0$. Based on this, we can decompose each trotterized evolution time step to two blocks:\n",
    "\n",
    "$$U(\\Delta t) \\approx \\Big(\\prod_{i \\in \\rm{odd}} e^{-i \\Delta t X_iX_{i+1}} e^{-i \\Delta t Y_iY_{i+1}} \\Big)  \\Big(\\prod_{i \\in \\rm{even}} e^{-i \\Delta t X_iX_{i+1}} e^{-i \\Delta t Y_iY_{i+1}} \\Big)$$"
   ]
  },
  {
   "cell_type": "code",
   "execution_count": 11,
   "id": "85d24eb2-2a44-45cb-b5ab-70c46890a3fd",
   "metadata": {},
   "outputs": [
    {
     "data": {
      "text/html": [
       "<pre style=\"word-wrap: normal;white-space: pre;background: #fff0;line-height: 1.1;font-family: &quot;Courier New&quot;,Courier,monospace\">      ┌────────┐┌────────┐                    \n",
       "q3_0: ┤0       ├┤0       ├────────────────────\n",
       "      │  YY(t) ││  XX(t) │┌────────┐┌────────┐\n",
       "q3_1: ┤1       ├┤1       ├┤0       ├┤0       ├\n",
       "      └────────┘└────────┘│  YY(t) ││  XX(t) │\n",
       "q3_2: ────────────────────┤1       ├┤1       ├\n",
       "                          └────────┘└────────┘</pre>"
      ],
      "text/plain": [
       "      ┌────────┐┌────────┐                    \n",
       "q3_0: ┤0       ├┤0       ├────────────────────\n",
       "      │  YY(t) ││  XX(t) │┌────────┐┌────────┐\n",
       "q3_1: ┤1       ├┤1       ├┤0       ├┤0       ├\n",
       "      └────────┘└────────┘│  YY(t) ││  XX(t) │\n",
       "q3_2: ────────────────────┤1       ├┤1       ├\n",
       "                          └────────┘└────────┘"
      ]
     },
     "execution_count": 11,
     "metadata": {},
     "output_type": "execute_result"
    }
   ],
   "source": [
    "num_qubits = 3\n",
    "\n",
    "Trot_qr = QuantumRegister(num_qubits)\n",
    "Trot_qc = QuantumCircuit(Trot_qr, name='Trot')\n",
    "\n",
    "for i in range(0, num_qubits - 1):\n",
    "    Trot_qc.append(YY, [Trot_qr[i], Trot_qr[i+1]])\n",
    "    Trot_qc.append(XX, [Trot_qr[i], Trot_qr[i+1]])\n",
    "\n",
    "# Convert custom quantum circuit into a gate\n",
    "Trot_gate = Trot_qc.to_instruction()\n",
    "\n",
    "Trot_qc.draw()"
   ]
  },
  {
   "cell_type": "markdown",
   "id": "896a2f87",
   "metadata": {},
   "source": [
    "<div class=\"alert alert-block alert-danger\">\n",
    "    \n",
    "<b>Challenge question 1c</b> \n",
    "\n",
    "Create the trotterized circuit and output the unitary associated with the circuit\n",
    "    \n",
    "</div>"
   ]
  },
  {
   "cell_type": "code",
   "execution_count": 12,
   "id": "d3bd5759-6fa6-4305-8795-c869c95926cc",
   "metadata": {},
   "outputs": [],
   "source": [
    "\n",
    "def U_trotterize(t_target, trotter_steps):\n",
    "    qr = QuantumRegister(3)\n",
    "    qc = QuantumCircuit(qr)\n",
    "\n",
    "    ###EDIT CODE BELOW (Create the trotterized circuit with various number of trotter steps)\n",
    "    for _ in range(trotter_steps):\n",
    "            qc.append(Trot_gate, [0,1,2])\n",
    "    ###DO NOT EDIT BELOW\n",
    "        \n",
    "    qc = qc.bind_parameters({t: t_target/trotter_steps})\n",
    "    \n",
    "    return qi.Operator(qc)"
   ]
  },
  {
   "cell_type": "code",
   "execution_count": 13,
   "id": "9e642289-f3e4-472a-9c55-9af5134ed027",
   "metadata": {},
   "outputs": [
    {
     "data": {
      "application/vnd.jupyter.widget-view+json": {
       "model_id": "34669edbb0074de89141a75983d71962",
       "version_major": 2,
       "version_minor": 0
      },
      "text/plain": [
       "  0%|          | 0/50 [00:00<?, ?it/s]"
      ]
     },
     "metadata": {},
     "output_type": "display_data"
    },
    {
     "data": {
      "image/png": "[encoded data removed]",
      "text/plain": [
       "<Figure size 432x288 with 1 Axes>"
      ]
     },
     "metadata": {},
     "output_type": "display_data"
    }
   ],
   "source": [
    "t_target = 0.5\n",
    "U_target = U_tb(t_target)\n",
    "\n",
    "steps=np.arange(1,101,2)  ## DO NOT EDIT\n",
    "\n",
    "fidelities=[]\n",
    "for n in tqdm(steps):\n",
    "    U_trotter = U_trotterize(t_target, trotter_steps=n)\n",
    "    fidelity = qi.process_fidelity(U_trotter, target=U_target)\n",
    "    fidelities.append(fidelity)\n",
    "\n",
    "plt.figure(facecolor='white')\n",
    "plt.loglog(steps, 1-np.array(fidelities))\n",
    "plt.ylabel('Trotter error')\n",
    "plt.xlabel('Trotter steps')\n",
    "plt.show()"
   ]
  },
  {
   "cell_type": "code",
   "execution_count": null,
   "id": "83b36595-aea8-4a97-8e3b-43b0454b0edf",
   "metadata": {
    "scrolled": true
   },
   "outputs": [],
   "source": [
    "## Grade and submit your solution\n",
    "from qc_grader.challenges.spring_2022 import grade_ex1c\n",
    "\n",
    "grade_ex1c(fidelities)\n"
   ]
  }
 ],
 "metadata": {
  "kernelspec": {
   "display_name": "Python 3",
   "language": "python",
   "name": "python3"
  },
  "language_info": {
   "codemirror_mode": {
    "name": "ipython",
    "version": 3
   },
   "file_extension": ".py",
   "mimetype": "text/x-python",
   "name": "python",
   "nbconvert_exporter": "python",
   "pygments_lexer": "ipython3",
   "version": "3.8.8"
  },
  "widgets": {
   "application/vnd.jupyter.widget-state+json": {
    "state": {
     "0c483fa795074734a4438f783612f993": {
      "model_module": "@jupyter-widgets/base",
      "model_module_version": "1.2.0",
      "model_name": "LayoutModel",
      "state": {}
     },
     "0c959e9c602c475b8c3a7dc74af6453f": {
      "model_module": "@jupyter-widgets/controls",
      "model_module_version": "1.5.0",
      "model_name": "DescriptionStyleModel",
      "state": {
       "description_width": ""
      }
     },
     "0df97dd3cf7e498391891455fa2751ec": {
      "model_module": "@jupyter-widgets/base",
      "model_module_version": "1.2.0",
      "model_name": "LayoutModel",
      "state": {
       "margin": "0px 0px 0px 37px",
       "width": "600px"
      }
     },
     "0ec1011cbbf74f5d88cf5e1759331c70": {
      "model_module": "@jupyter-widgets/controls",
      "model_module_version": "1.5.0",
      "model_name": "DescriptionStyleModel",
      "state": {
       "description_width": ""
      }
     },
     "0f0ec96ecd8b4faabe2c584f33e9aab9": {
      "model_module": "@jupyter-widgets/controls",
      "model_module_version": "1.5.0",
      "model_name": "ProgressStyleModel",
      "state": {
       "description_width": ""
      }
     },
     "24d28162797f4e7b83df9a061aa9e9ca": {
      "model_module": "@jupyter-widgets/controls",
      "model_module_version": "1.5.0",
      "model_name": "HBoxModel",
      "state": {
       "children": [
        "IPY_MODEL_e77ce67e91d14f6fa3a4a218bfcb1410",
        "IPY_MODEL_97def456febd412f97cc873d5ea034a9",
        "IPY_MODEL_734f00c97cfa4c289e1c2be0080a46ea"
       ],
       "layout": "IPY_MODEL_46eceb81c12743a6898a582f90294a56"
      }
     },
     "2931b31b79cc4ebbbde0ced6a11ba1f8": {
      "model_module": "@jupyter-widgets/controls",
      "model_module_version": "1.5.0",
      "model_name": "ProgressStyleModel",
      "state": {
       "description_width": ""
      }
     },
     "29b4c120877941d78811b503879af65f": {
      "model_module": "@jupyter-widgets/base",
      "model_module_version": "1.2.0",
      "model_name": "LayoutModel",
      "state": {}
     },
     "353adce794e5401687280c312e16b92d": {
      "model_module": "@jupyter-widgets/controls",
      "model_module_version": "1.5.0",
      "model_name": "HTMLModel",
      "state": {
       "layout": "IPY_MODEL_3d1873b60b61472c87c40329350dfa41",
       "style": "IPY_MODEL_7eb1187a9a394e2587de3e9abb9c8d07",
       "value": "<p style='font-family: IBM Plex Sans, Arial, Helvetica, sans-serif; font-size: 20px; font-weight: medium;'>Circuit Properties</p>"
      }
     },
     "368b00e874de40ba96182271d708c0f1": {
      "model_module": "@jupyter-widgets/controls",
      "model_module_version": "1.5.0",
      "model_name": "HTMLModel",
      "state": {
       "layout": "IPY_MODEL_e500245cfba94dcf80863dcac37eca37",
       "style": "IPY_MODEL_68c56cd392b84945b93c7d730ef58772",
       "value": "<h5>Job ID</h5>"
      }
     },
     "3d1873b60b61472c87c40329350dfa41": {
      "model_module": "@jupyter-widgets/base",
      "model_module_version": "1.2.0",
      "model_name": "LayoutModel",
      "state": {
       "margin": "0px 0px 10px 0px"
      }
     },
     "4014730e8d98443d83266804bdb6c7e7": {
      "model_module": "@jupyter-widgets/controls",
      "model_module_version": "1.5.0",
      "model_name": "DescriptionStyleModel",
      "state": {
       "description_width": ""
      }
     },
     "427610b60a30424c9be6fb0f53f70e9d": {
      "model_module": "@jupyter-widgets/controls",
      "model_module_version": "1.5.0",
      "model_name": "HTMLModel",
      "state": {
       "layout": "IPY_MODEL_825ac7520f4143d38c2cfc8da03ab4ef",
       "style": "IPY_MODEL_4014730e8d98443d83266804bdb6c7e7",
       "value": "<h5>Status</h5>"
      }
     },
     "46eceb81c12743a6898a582f90294a56": {
      "model_module": "@jupyter-widgets/base",
      "model_module_version": "1.2.0",
      "model_name": "LayoutModel",
      "state": {}
     },
     "47361345d7f0466ab597904171772447": {
      "model_module": "@jupyter-widgets/base",
      "model_module_version": "1.2.0",
      "model_name": "LayoutModel",
      "state": {}
     },
     "502246c4efe64fad91782d89d8b7b680": {
      "model_module": "@jupyter-widgets/controls",
      "model_module_version": "1.5.0",
      "model_name": "DescriptionStyleModel",
      "state": {
       "description_width": ""
      }
     },
     "5223cdd7927e417e93d654cac1e0cb5e": {
      "model_module": "@jupyter-widgets/controls",
      "model_module_version": "1.5.0",
      "model_name": "ButtonModel",
      "state": {
       "button_style": "primary",
       "description": "Clear",
       "layout": "IPY_MODEL_c922b501179244369ba1ef28ee109076",
       "style": "IPY_MODEL_a0d4f41cc2194a918b30dd08cec56c25"
      }
     },
     "68c56cd392b84945b93c7d730ef58772": {
      "model_module": "@jupyter-widgets/controls",
      "model_module_version": "1.5.0",
      "model_name": "DescriptionStyleModel",
      "state": {
       "description_width": ""
      }
     },
     "6972bf5add64431d8f92e02b8905439b": {
      "model_module": "@jupyter-widgets/base",
      "model_module_version": "1.2.0",
      "model_name": "LayoutModel",
      "state": {
       "width": "145px"
      }
     },
     "6f3db15465a74627a8804e959c33adf9": {
      "model_module": "@jupyter-widgets/base",
      "model_module_version": "1.2.0",
      "model_name": "LayoutModel",
      "state": {}
     },
     "734f00c97cfa4c289e1c2be0080a46ea": {
      "model_module": "@jupyter-widgets/controls",
      "model_module_version": "1.5.0",
      "model_name": "HTMLModel",
      "state": {
       "layout": "IPY_MODEL_812831f6aa3343b29945ec03e30cf6e9",
       "style": "IPY_MODEL_b275fa73dc5e460088c0a30b200fb755",
       "value": " 50/50 [00:27&lt;00:00,  1.03s/it]"
      }
     },
     "78fc9d0291454c4ea49b98f00b2d51a3": {
      "model_module": "@jupyter-widgets/controls",
      "model_module_version": "1.5.0",
      "model_name": "HTMLModel",
      "state": {
       "layout": "IPY_MODEL_6972bf5add64431d8f92e02b8905439b",
       "style": "IPY_MODEL_e8a21e98e83c45c1aeac57d162c38eb7",
       "value": "<h5>Backend</h5>"
      }
     },
     "7eb1187a9a394e2587de3e9abb9c8d07": {
      "model_module": "@jupyter-widgets/controls",
      "model_module_version": "1.5.0",
      "model_name": "DescriptionStyleModel",
      "state": {
       "description_width": ""
      }
     },
     "812831f6aa3343b29945ec03e30cf6e9": {
      "model_module": "@jupyter-widgets/base",
      "model_module_version": "1.2.0",
      "model_name": "LayoutModel",
      "state": {}
     },
     "825ac7520f4143d38c2cfc8da03ab4ef": {
      "model_module": "@jupyter-widgets/base",
      "model_module_version": "1.2.0",
      "model_name": "LayoutModel",
      "state": {
       "width": "95px"
      }
     },
     "849a8b0fb1ad432e95d34a9526143bca": {
      "model_module": "@jupyter-widgets/controls",
      "model_module_version": "1.5.0",
      "model_name": "GridBoxModel",
      "state": {
       "children": [
        "IPY_MODEL_5223cdd7927e417e93d654cac1e0cb5e"
       ],
       "layout": "IPY_MODEL_caebbce6b63f40709db7dfeb18babfe3"
      }
     },
     "89d97be8b9634fd882e3d7bdbc2f9962": {
      "model_module": "@jupyter-widgets/base",
      "model_module_version": "1.2.0",
      "model_name": "LayoutModel",
      "state": {}
     },
     "97def456febd412f97cc873d5ea034a9": {
      "model_module": "@jupyter-widgets/controls",
      "model_module_version": "1.5.0",
      "model_name": "FloatProgressModel",
      "state": {
       "bar_style": "success",
       "layout": "IPY_MODEL_0c483fa795074734a4438f783612f993",
       "max": 50,
       "style": "IPY_MODEL_2931b31b79cc4ebbbde0ced6a11ba1f8",
       "value": 50
      }
     },
     "9a1253ea80e940239e9e06c62c07e980": {
      "model_module": "@jupyter-widgets/controls",
      "model_module_version": "1.5.0",
      "model_name": "FloatProgressModel",
      "state": {
       "bar_style": "success",
       "layout": "IPY_MODEL_89d97be8b9634fd882e3d7bdbc2f9962",
       "style": "IPY_MODEL_0f0ec96ecd8b4faabe2c584f33e9aab9",
       "value": 100
      }
     },
     "a0d4f41cc2194a918b30dd08cec56c25": {
      "model_module": "@jupyter-widgets/controls",
      "model_module_version": "1.5.0",
      "model_name": "ButtonStyleModel",
      "state": {}
     },
     "a25f8037e4ce40fea66bb8c43eebaaab": {
      "model_module": "@jupyter-widgets/controls",
      "model_module_version": "1.5.0",
      "model_name": "HTMLModel",
      "state": {
       "layout": "IPY_MODEL_47361345d7f0466ab597904171772447",
       "style": "IPY_MODEL_0c959e9c602c475b8c3a7dc74af6453f",
       "value": "100%"
      }
     },
     "b0fb1f8f1860493cb49892f8602c54df": {
      "model_module": "@jupyter-widgets/base",
      "model_module_version": "1.2.0",
      "model_name": "LayoutModel",
      "state": {}
     },
     "b275fa73dc5e460088c0a30b200fb755": {
      "model_module": "@jupyter-widgets/controls",
      "model_module_version": "1.5.0",
      "model_name": "DescriptionStyleModel",
      "state": {
       "description_width": ""
      }
     },
     "b41363c48f3b4224806a2a01f351cd63": {
      "model_module": "@jupyter-widgets/controls",
      "model_module_version": "1.5.0",
      "model_name": "HTMLModel",
      "state": {
       "layout": "IPY_MODEL_d1f2f6aff6ed48dea8e8ed76ad38fe35",
       "style": "IPY_MODEL_502246c4efe64fad91782d89d8b7b680",
       "value": "<h5>Queue</h5>"
      }
     },
     "b58ae55e3cfe467893a38faec366e2a1": {
      "model_module": "@jupyter-widgets/controls",
      "model_module_version": "1.5.0",
      "model_name": "DescriptionStyleModel",
      "state": {
       "description_width": ""
      }
     },
     "c4735f29a61a4ca8ae8abab1319eb069": {
      "model_module": "@jupyter-widgets/base",
      "model_module_version": "1.2.0",
      "model_name": "LayoutModel",
      "state": {}
     },
     "c922b501179244369ba1ef28ee109076": {
      "model_module": "@jupyter-widgets/base",
      "model_module_version": "1.2.0",
      "model_name": "LayoutModel",
      "state": {
       "grid_area": "right",
       "padding": "0px 0px 0px 0px",
       "width": "70px"
      }
     },
     "cadcdc271cab455690cd3025757df860": {
      "model_module": "@jupyter-widgets/controls",
      "model_module_version": "1.5.0",
      "model_name": "HBoxModel",
      "state": {
       "children": [
        "IPY_MODEL_a25f8037e4ce40fea66bb8c43eebaaab",
        "IPY_MODEL_9a1253ea80e940239e9e06c62c07e980",
        "IPY_MODEL_d1ac4fed695146aea89e8b6bea5cec17"
       ],
       "layout": "IPY_MODEL_b0fb1f8f1860493cb49892f8602c54df"
      }
     },
     "caebbce6b63f40709db7dfeb18babfe3": {
      "model_module": "@jupyter-widgets/base",
      "model_module_version": "1.2.0",
      "model_name": "LayoutModel",
      "state": {
       "grid_template_areas": "\n                                       \". . . . right \"\n                                        ",
       "grid_template_columns": "20% 20% 20% 20% 20%",
       "width": "100%"
      }
     },
     "d1ac4fed695146aea89e8b6bea5cec17": {
      "model_module": "@jupyter-widgets/controls",
      "model_module_version": "1.5.0",
      "model_name": "HTMLModel",
      "state": {
       "layout": "IPY_MODEL_29b4c120877941d78811b503879af65f",
       "style": "IPY_MODEL_0ec1011cbbf74f5d88cf5e1759331c70",
       "value": " 100/100 [00:55&lt;00:00,  1.04s/it]"
      }
     },
     "d1f2f6aff6ed48dea8e8ed76ad38fe35": {
      "model_module": "@jupyter-widgets/base",
      "model_module_version": "1.2.0",
      "model_name": "LayoutModel",
      "state": {
       "width": "70px"
      }
     },
     "d8910b7ceb514d0596058cbb33e08054": {
      "model_module": "@jupyter-widgets/controls",
      "model_module_version": "1.5.0",
      "model_name": "DescriptionStyleModel",
      "state": {
       "description_width": ""
      }
     },
     "dfd948bc9f844bfebb27e22e59a6fbe9": {
      "model_module": "@jupyter-widgets/controls",
      "model_module_version": "1.5.0",
      "model_name": "HTMLModel",
      "state": {
       "layout": "IPY_MODEL_6f3db15465a74627a8804e959c33adf9",
       "style": "IPY_MODEL_d8910b7ceb514d0596058cbb33e08054",
       "value": "<h5>Message</h5>"
      }
     },
     "e500245cfba94dcf80863dcac37eca37": {
      "model_module": "@jupyter-widgets/base",
      "model_module_version": "1.2.0",
      "model_name": "LayoutModel",
      "state": {
       "width": "190px"
      }
     },
     "e77ce67e91d14f6fa3a4a218bfcb1410": {
      "model_module": "@jupyter-widgets/controls",
      "model_module_version": "1.5.0",
      "model_name": "HTMLModel",
      "state": {
       "layout": "IPY_MODEL_c4735f29a61a4ca8ae8abab1319eb069",
       "style": "IPY_MODEL_b58ae55e3cfe467893a38faec366e2a1",
       "value": "100%"
      }
     },
     "e8a21e98e83c45c1aeac57d162c38eb7": {
      "model_module": "@jupyter-widgets/controls",
      "model_module_version": "1.5.0",
      "model_name": "DescriptionStyleModel",
      "state": {
       "description_width": ""
      }
     },
     "f1938b252c0a44a0be8f26830e6d0874": {
      "model_module": "@jupyter-widgets/controls",
      "model_module_version": "1.5.0",
      "model_name": "HBoxModel",
      "state": {
       "children": [
        "IPY_MODEL_368b00e874de40ba96182271d708c0f1",
        "IPY_MODEL_78fc9d0291454c4ea49b98f00b2d51a3",
        "IPY_MODEL_427610b60a30424c9be6fb0f53f70e9d",
        "IPY_MODEL_b41363c48f3b4224806a2a01f351cd63",
        "IPY_MODEL_dfd948bc9f844bfebb27e22e59a6fbe9"
       ],
       "layout": "IPY_MODEL_0df97dd3cf7e498391891455fa2751ec"
      }
     }
    },
    "version_major": 2,
    "version_minor": 0
   }
  }
 },
 "nbformat": 4,
 "nbformat_minor": 5
}

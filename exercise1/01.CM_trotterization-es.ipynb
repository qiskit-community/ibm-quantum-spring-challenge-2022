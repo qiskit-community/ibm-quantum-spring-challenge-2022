{
 "cells": [
  {
   "cell_type": "code",
   "execution_count": null,
   "id": "7152f2bf-5b38-470a-a523-6398a51c2c16",
   "metadata": {
    "id": "7152f2bf-5b38-470a-a523-6398a51c2c16"
   },
   "outputs": [],
   "source": [
    "import numpy as np\n",
    "import matplotlib.pyplot as plt\n",
    "\n",
    "# Importing standard Qiskit libraries\n",
    "from qiskit import QuantumCircuit, QuantumRegister, transpile, Aer, IBMQ, execute\n",
    "from qiskit.tools.jupyter import *\n",
    "from qiskit.visualization import *\n",
    "#from ibm_quantum_widgets import *\n",
    "from qiskit.providers.aer import QasmSimulator\n",
    "from tqdm.notebook import tqdm\n",
    "\n",
    "from qiskit.providers.aer import QasmSimulator\n",
    "from qiskit.tools.monitor import job_monitor\n",
    "from qiskit.circuit import Parameter\n",
    "import qiskit.quantum_info as qi\n",
    "\n",
    "# Suppress warnings\n",
    "import warnings\n",
    "warnings.filterwarnings('ignore')"
   ]
  },
  {
   "cell_type": "markdown",
   "id": "3e8021b4",
   "metadata": {
    "id": "3e8021b4"
   },
   "source": [
    "# Modelo de enlaces fuertes\n",
    "\n",
    "<div>\n",
    "<img src=\"attachment:tight-binding.png\" width=\"400\"/>\n",
    "</div>\n",
    "\n",
    "El modelo de enlaces fuertes (del inglés *tight-binding*), es un esquema en mecánica cuántica utilizado para describir la conductancia de los electrones en materiales de estado sólido. En este modelo, se trata cada átomo como un sitio de la [red cristalina](https://en.wikipedia.org/wiki/Lattice_model_(physics%29 ) y las partículas necesitan una energía  $\\epsilon_i$  para ocupar ese sitio. El electrón puede saltar de un sitio a un sitio vecino pagando un costo energético  $J$. El hamiltoniano siguiente describe este modelo:\n",
    "\n",
    "$$H_{\\rm tb}/\\hbar = \\sum_i \\epsilon_i Z_i + J \\sum_{\\langle i,j \\rangle} (X_i X_j + Y_i Y_j)$$\n",
    "\n",
    "\n",
    "El primer término en el hamiltoniano describe la energía para permanecer en un sitio, el segundo término describe la energía de interacción entre sitios vecinos de la red cristalina. En presencia del potencial periódico de la red, la función de onda de una partícula cuántica cubre también los sitios vecinos, produciendo funciones de onda de Bloch extendidas. En una red cristalina uniforme, donde todos los sitios son iguales ($\\epsilon_i=0$), la propagación del electrón es lineal en el tiempo y está descrita de manera continua en el tiempo por una caminata aleatoria cuántica. Contrario a el transporte difusivo clásico, donde la propagación es cuadráticamente más lenta en el tiempo.\n",
    "\n",
    "El hamiltoniano del sistema nos permite determinar cómo el estado cuántico evoluciona en el tiempo. Esta evolución temporal está dada por la ecuación de Schrödinger:\n",
    "\n",
    "\n",
    "$$ i \\hbar \\frac{\\partial}{\\partial t}|\\psi(t)\\rangle = H |\\psi(t)\\rangle $$\n",
    "\n",
    "En el caso de un hamiltoniano independiente del tiempo (un hamiltoniano que no cambia en el tiempo), la solución de la ecuación de Schrödinger toma la forma siguiente:\n",
    "\n",
    "$$ |\\psi(t)\\rangle = e^{-i H t / \\hbar} |\\psi(0)\\rangle $$\n",
    "\n",
    "En este ejercicio estudiaremos la dinámica temporal sujeta a un hamiltoniano de enlaces fuertes, y construiremos un circuito trotterizado para estudiar la evolución temporal."
   ]
  },
  {
   "cell_type": "markdown",
   "id": "172dc11b",
   "metadata": {
    "id": "172dc11b"
   },
   "source": [
    "## 1. 1. Evolución temporal de un hamiltoniano de enlaces fuertes\n",
    "Primero, consideremos la evolución sujeta a un hamiltoniano de enlaces fuertes con 3 sitios. Aquí fijaremos  $J=1$, y $\\epsilon_i=0$  para una red cristalina uniforme."
   ]
  },
  {
   "cell_type": "code",
   "execution_count": null,
   "id": "c8034d3c-e2c4-4dda-aa78-e44b34ad494c",
   "metadata": {
    "id": "c8034d3c-e2c4-4dda-aa78-e44b34ad494c"
   },
   "outputs": [],
   "source": [
    "# Importar operadores de Pauli  (I, X, Y, Z)\n",
    "from qiskit.opflow import I, X, Y, Z\n",
    "\n",
    "J = 1\n",
    "\n",
    "#  Hamiltoniano de enlaces fuertes\n",
    "def H_tb():\n",
    "    # Interacciones (I es la matriz identidad; X y Y son matrices de Pauli; ^ es el producto tensorial)\n",
    "    XXs = (I^X^X) + (X^X^I)\n",
    "    YYs = (I^Y^Y) + (Y^Y^I)\n",
    "    \n",
    "    # Sumar interacciones\n",
    "    H = J*(XXs + YYs)\n",
    "    \n",
    "    # Devuelve el hamiltoniano\n",
    "    return H"
   ]
  },
  {
   "cell_type": "code",
   "execution_count": null,
   "id": "36f59aec-f85d-4898-a69d-231f7b53e2a1",
   "metadata": {
    "id": "36f59aec-f85d-4898-a69d-231f7b53e2a1"
   },
   "outputs": [],
   "source": [
    "#  Evolución unitaria bajo un hamiltoniano de enlaces fuertes\n",
    "def U_tb(t):\n",
    "    H = H_tb()\n",
    "    return (t * H).exp_i()"
   ]
  },
  {
   "cell_type": "markdown",
   "id": "b52f1e66",
   "metadata": {
    "id": "b52f1e66"
   },
   "source": [
    "Prepararemos el estado de nuestro sistema en  $|100\\rangle$ , y seguiremos las probabilidades de los estados  $|100\\rangle, |010\\rangle, |001\\rangle$. Estos valores corresponden a la probabilidad de encontrar una partícula en cada sitio de nuestra red cristalina."
   ]
  },
  {
   "cell_type": "code",
   "execution_count": null,
   "id": "1a46069b-d9e6-4c73-bf3a-1fce5922b421",
   "metadata": {
    "id": "1a46069b-d9e6-4c73-bf3a-1fce5922b421"
   },
   "outputs": [],
   "source": [
    "# Importar estados qubit Zero (|0>) y One (|1>)\n",
    "from qiskit.opflow import Zero, One\n",
    "\n",
    "# Definir arreglo de valores de tiempo\n",
    "ts = np.linspace(0, 3, 100) # NO MODIFICAR\n",
    "\n",
    "initial_state=One^Zero^Zero\n",
    "\n",
    "state_t=[U_tb(float(t)) @ initial_state for t in ts]\n",
    "\n",
    "p_100= [np.abs( (~(One^Zero^Zero) @ state).eval() )**2 for state in state_t]\n",
    "p_010= [np.abs( (~(Zero^One^Zero) @ state).eval() )**2 for state in state_t]\n",
    "p_001= [np.abs( (~(Zero^Zero^One) @ state).eval() )**2 for state in state_t]\n",
    "\n",
    "plt.figure(facecolor='white')\n",
    "plt.plot(ts, p_100, label=r'$p_{100}$')\n",
    "plt.plot(ts, p_010, label=r'$p_{010}$')\n",
    "plt.plot(ts, p_001, label=r'$p_{001}$')\n",
    "plt.xlabel(r'Time (1/J)')\n",
    "plt.ylabel(r'Population')\n",
    "plt.legend()\n",
    "plt.show()"
   ]
  },
  {
   "cell_type": "markdown",
   "id": "19c6ab38",
   "metadata": {
    "id": "19c6ab38"
   },
   "source": [
    "## 2. Trotterización\n",
    "\n",
    "Para ejecutar la evolución unitaria en el tiempo en una computadora cuántica basada en el [modelo de circuitos](https://qiskit.org/documentation/apidoc/circuit.html), debemos descomponer  $U_{\\text{tb}}(t)$  en un producto de compuertas de uno o dos qubits que sean nativas a la computadora cuántica. Un método para lograr esto, es la [trotterización](https://en.wikipedia.org/wiki/Hamiltonian_simulation#Product_Formulas), también conocida como las descomposición Trotter-Suzuki. Más abajo, mostramos un ejemplo de trotterización como está explicado en \\[1-2\\]. Como los [operadores de Pauli no conmutan](https://en.wikipedia.org/wiki/Pauli_matrices#Commutation_relations) entre ellos, la exponencial $U_{\\text{tb}}(t)$ no puede dividirse en un producto de exponenciales más simples. Sin embargo, podemos aproximar $U_{\\text{tb}}(t)$ como un producto de exponenciales más simples a través de la trotterización. Consideremos un subsistema de 2 partículas de espín-1/2 dentro de un sistema más grande de 3 espínes. El hamiltoniano que actúa sobre los espínes $i$ y $j$ ($i,j \\in \\{0,1,2\\}$) sería $H^{(i,j)}_{\\text{tb}} = \\sigma_x^{(i)}\\sigma_x^{(j)} + \\sigma_y^{(i)}\\sigma_y^{(j)} + \\sigma_z^{(i)}\\sigma_z^{(j)}$. Reescribiendo $U_{\\text{tb}}(t)$ en términos de dos posibles subsistemas dentro del sistema total con $N=3$, podemos simular\n",
    "​\n",
    "$$\n",
    "U_{\\text{tb}}(t) = \\exp\\left[-i t \\left(H^{(0,1)}_{\\text{tb}} + H^{(1,2)}_{\\text{tb}} \\right)\\right].\n",
    "$$\n",
    "\n",
    "​\n",
    "$H^{(0,1)}_{\\text{tb}}$ y $H^{(1,2)}_{\\text{tb}}$ no conmutan, así que $U_{\\text{tb}}(t) \\neq \\exp\\left(-i t H^{(0,1)}_{\\text{tb}}\\right) \\exp\\left(-i t H^{(1,2)}_{\\text{tb}} \\right)$. Pero, esta descompoción en productos puede aproximarse con la  trotterización, que dice que $U_{\\text{tb}}(t)$ es aproximadamente una evolución corta de\n",
    " $H^{(0,1)}_{\\text{tb}}$ (tiempo = $t/n$) seguida de la evolución corta de $H^{(1,2)}_{\\text{tb}}$ (tiempo = $t/n$) repetidas $n$ veces\n",
    "\n",
    "$$\n",
    "\\begin{align}\n",
    "U_{\\text{tb}}(t) &= \\exp\\left[-i t \\left(H^{(0,1)}_{\\text{tb}} + H^{(1,2)}_{\\text{tb}} \\right)\\right] \\\\\n",
    "U_{\\text{tb}}(t) &\\approx \\left[\\exp\\left(\\dfrac{-it}{n}H^{(0,1)}_{\\text{tb}}\\right) \\exp\\left(\\dfrac{-it}{n}H^{(1,2)}_{\\text{tb}} \\right)\\right]^n.\n",
    "\\end{align}\n",
    "$$\n",
    "\n",
    "$n$ es el número de pasos de Trotter, y mientras $n$ aumenta, la aproximación se hace más exacta. (Notar que la manera de dividir el operador unitario en subsistemas para la trotterización no es necesariamente única). La descomposición va más allá. En cada subsistema de 2 espines, los pares de operadores de Pauli ($\\sigma_x^{(i)}\\sigma_x^{(j)}$, $\\sigma_y^{(i)}\\sigma_y^{(j)}$, y $\\sigma_z^{(i)}\\sigma_z^{(j)}$) conmutan. Esto significa que podemos descomponer la exponencial del hamiltoniano de un subsistema ($H^{(i,j)}_{\\text{tb}}$) en productos de exponenciales más simples acercándonos más a la implementación exacta de la compuerta  $U_{\\text{tb}}(t)$\n",
    "​\n",
    "\n",
    "$$\n",
    "\\begin{align}\n",
    "U_{\\text{tb}}(t) &\\approx \\left[\\exp\\left(\\dfrac{-it}{n}H^{(0,1)}_{\\text{tb}}\\right) \\exp\\left(\\dfrac{-it}{n}H^{(1,2)}_{\\text{tb}} \\right)\\right]^n \\\\\n",
    "U_{\\text{tb}}(t) &\\approx \\left[\\exp\\left(\\dfrac{-it}{n}\\left(\\sigma_x^{(0)}\\sigma_x^{(1)} + \\sigma_y^{(0)}\\sigma_y^{(1)} \\right)\\right) \\exp\\left(\\dfrac{-it}{n}\\left(\\sigma_x^{(1)}\\sigma_x^{(2)} + \\sigma_y^{(1)}\\sigma_y^{(2)} \\right)\\right)\\right]^{n} \\\\\n",
    "U_{\\text{tb}}(t) &\\approx \\left[\\exp\\left(\\dfrac{-it}{n}\\sigma_x^{(0)}\\sigma_x^{(1)}\\right) \\exp\\left(\\dfrac{-it}{n}\\sigma_y^{(0)}\\sigma_y^{(1)}\\right) \\exp\\left(\\dfrac{-it}{n}\\sigma_x^{(1)}\\sigma_x^{(2)}\\right) \\exp\\left(\\dfrac{-it}{n}\\sigma_y^{(1)}\\sigma_y^{(2)}\\right) \\right]^{n}\n",
    "\\end{align}\n",
    "$$\n",
    "\n",
    "De manera simple, y para utilizar una notación más común, llamemos a los productos $XX(2t) = \\exp\\left(-it \\sigma_x\\sigma_x\\right)$ y $YY(2t) = \\exp\\left(-it \\sigma_y\\sigma_y\\right)$, y podemos reescribir la $U_{\\text{tb}}(t)$ trotterizada\n",
    "\n",
    "$$\n",
    "U_{\\text{tb}}(t) \\approx \\left[XX\\left(\\frac{2t}{n}\\right)^{(0,1)} YY\\left(\\frac{2t}{n}\\right)^{(0,1)}  XX\\left(\\frac{2t}{n}\\right)^{(1,2)} YY\\left(\\frac{2t}{n}\\right)^{(1,2)}\\right]^{n}\n",
    "$$\n",
    "¡Esto es todo! Podemos descomponer $U_{\\text{tb}}(t)$ aproximadamente en compuertas $XX(t)$ y $YY(t)$ de dos qubits. Estas compuertas no son nativas de qubits superconductores, pero en la sección 2, serán descompuestas en compuertas nativas de uno y dos qubits, *más detalles en el material complementario.* \n",
    "​\n",
    "\n",
    "\n",
    "\\[1\\] Y. Salathe, et al., *Digital Quantum Simulation of Spin Models with Circuit Quantum Electrodynamics*, [Phys. Rev. X **5**, 021027 (2015)](https://link.aps.org/doi/10.1103/PhysRevX.5.021027)\n",
    "\n",
    "\\[2\\] F. Tacchino, et al., *Quantum Computers as Universal Quantum Simulators: State-of-the-Art and Perspectives*, [Adv. Quantum Technol. *3* 3 (2020)](https://doi.org/10.1002/qute.201900052) \\[[free arxiv version](https://arxiv.org/abs/1907.03505)\\]\n"
   ]
  },
  {
   "cell_type": "markdown",
   "id": "2e7c574e",
   "metadata": {
    "id": "2e7c574e"
   },
   "source": [
    "### 2.1  Construyendo operaciones unitarias de Pauli individuales\n",
    "\n",
    "En esta sección construiremos las operaciones ZZ(t), XX(t), y YY(t) usando compuertas de uno y dos qubits."
   ]
  },
  {
   "cell_type": "code",
   "execution_count": null,
   "id": "6d790e43-7e59-40b3-9a3a-806e7df15b70",
   "metadata": {
    "id": "6d790e43-7e59-40b3-9a3a-806e7df15b70"
   },
   "outputs": [],
   "source": [
    "t = Parameter('t')"
   ]
  },
  {
   "cell_type": "code",
   "execution_count": null,
   "id": "0c98587c-7d60-4e9e-9ccb-470381997673",
   "metadata": {
    "id": "0c98587c-7d60-4e9e-9ccb-470381997673"
   },
   "outputs": [],
   "source": [
    "# Construye un subcircuito para ZZ(t) usando compuertas de uno a dos qubits\n",
    "\n",
    "ZZ_qr = QuantumRegister(2)\n",
    "ZZ_qc = QuantumCircuit(ZZ_qr, name='ZZ')\n",
    "\n",
    "ZZ_qc.cnot(0,1)\n",
    "ZZ_qc.rz(2 * t, 1)\n",
    "ZZ_qc.cnot(0,1)\n",
    "\n",
    "# Transforma un circuito cuántico personalizado en una compuerta\n",
    "ZZ = ZZ_qc.to_instruction()\n",
    "\n",
    "ZZ_qc.draw()"
   ]
  },
  {
   "cell_type": "markdown",
   "id": "11c706da",
   "metadata": {
    "id": "11c706da"
   },
   "source": [
    "### 2.2 Compuertas de Clifford\n",
    "Las compuertas de Clifford son operadores cuánticos que tranducen operadores de Pauli en otros operadores de Pauli. La compuerta Hadamard ($H$) y la compuerta de fase ($S$) son ejemplos de compuertas de Clifford de un solo qubit.\n",
    "\n",
    "$$H=\\frac{1}{\\sqrt{2}}\\begin{pmatrix} 1 & 1 \\\\1 & -1\\\\ \\end{pmatrix}$$\n",
    "\n",
    "$HZH^\\dagger=X$, and $HXH^\\dagger=Z$. Como la compuerta Hadamard es un operador hermítico, $H=H^\\dagger$.\n",
    "\n",
    "$$S=\\begin{pmatrix} 1 & 0 \\\\0 & i\\\\ \\end{pmatrix}$$\n",
    "\n",
    "$SXS^\\dagger=Y$, and $SYS^\\dagger=-X$.\n",
    "\n",
    "Usando compuertas de Clifford, podemos transformar $e^{i ZZ t}$ en $e^{i XX t}$  y $e^{i YY t}$"
   ]
  },
  {
   "cell_type": "markdown",
   "id": "00ea5c84",
   "metadata": {
    "id": "00ea5c84"
   },
   "source": [
    "<div class=\"alert alert-block alert-danger\">\n",
    "    \n",
    "<b>Desafío, pregunta 1a</b> \n",
    "\n",
    "Construye un subcircuito para XX(t) usando compuertas de uno y dos qubits\n",
    "    \n",
    "</div>"
   ]
  },
  {
   "cell_type": "code",
   "execution_count": null,
   "id": "c08bcedb-6a0b-4141-810b-e5e4ab75b6c4",
   "metadata": {
    "id": "c08bcedb-6a0b-4141-810b-e5e4ab75b6c4"
   },
   "outputs": [],
   "source": [
    "\n",
    "XX_qr = QuantumRegister(2)\n",
    "XX_qc = QuantumCircuit(XX_qr, name='XX')\n",
    "\n",
    "###EDITA EL CODIGO DEBAJO (añade operador de Clifford)\n",
    "\n",
    "\n",
    "###NO EDITES DEBAJO DE ESTA LÍNEA\n",
    "\n",
    "\n",
    "XX_qc.append(ZZ, [0,1])\n",
    "\n",
    "###EDITA EL CODIGO DEBAJO (añade operador de Clifford)\n",
    "\n",
    "###NO EDITES DEBAJO DE ESTA LÍNEA\n",
    "\n",
    "# Transforma un circuito cuántico personalizado en una compuerta\n",
    "XX = XX_qc.to_instruction()\n",
    "\n",
    "XX_qc.draw()"
   ]
  },
  {
   "cell_type": "code",
   "execution_count": null,
   "id": "915c22d7-89f3-4099-9acd-fe6f8721eb9f",
   "metadata": {
    "id": "915c22d7-89f3-4099-9acd-fe6f8721eb9f"
   },
   "outputs": [],
   "source": [
    "## Confirma y envía tu solución\n",
    "from qc_grader.challenges.spring_2022 import grade_ex1a\n",
    "\n",
    "grade_ex1a(XX_qc)\n"
   ]
  },
  {
   "cell_type": "markdown",
   "id": "23d9093d",
   "metadata": {
    "id": "23d9093d"
   },
   "source": [
    "<div class=\"alert alert-block alert-danger\">\n",
    "    \n",
    "<b>Desafío, pregunta 1b</b> \n",
    "\n",
    "Construye un subcircuito para YY(t) usando compuertas de uno y dos qubits\n",
    "    \n",
    "</div>"
   ]
  },
  {
   "cell_type": "code",
   "execution_count": null,
   "id": "cc04f46e-da32-423e-8f0a-58ac9d6a526e",
   "metadata": {
    "id": "cc04f46e-da32-423e-8f0a-58ac9d6a526e"
   },
   "outputs": [],
   "source": [
    "\n",
    "YY_qr = QuantumRegister(2)\n",
    "YY_qc = QuantumCircuit(YY_qr, name='YY')\n",
    "\n",
    "###EDITA EL CODIGO DEBAJO (añade operador de Clifford)\n",
    "\n",
    "###NO EDITES DEBAJO DE ESTA LÍNEA\n",
    "\n",
    "YY_qc.append(ZZ, [0,1])\n",
    "\n",
    "###EDITA EL CODIGO DEBAJO (añade operador de Clifford)\n",
    "\n",
    "###NO EDITES DEBAJO DE ESTA LÍNEA\n",
    "\n",
    "# Transforma un circuito cuántico personalizado en una compuerta\n",
    "YY = YY_qc.to_instruction()\n",
    "\n",
    "YY_qc.draw()"
   ]
  },
  {
   "cell_type": "code",
   "execution_count": null,
   "id": "1862a53a-221a-4b41-8cc7-8ceb90e8ae3d",
   "metadata": {
    "id": "1862a53a-221a-4b41-8cc7-8ceb90e8ae3d"
   },
   "outputs": [],
   "source": [
    "## Confirma y envía tu solución\n",
    "from qc_grader.challenges.spring_2022 import grade_ex1b\n",
    "\n",
    "grade_ex1b(YY_qc)\n"
   ]
  },
  {
   "cell_type": "markdown",
   "id": "1b5382b9",
   "metadata": {
    "id": "1b5382b9"
   },
   "source": [
    "### 2.3 Construyendo el circuito trotterizado\n",
    "\n",
    "Los operadores $X_iX_j$ y $Y_iY_j$ conmutan:\n",
    "\n",
    "$$[X_iX_j, Y_iY_j]= X_iX_j.Y_iY_j - Y_iY_j.X_iX_j = Z_iZ_j-(-Z_i)(-Z_j)=0$$.\n",
    "\n",
    "Por lo tanto, podemos descomponer $e^{i t (X_iX_j + Y_iY_j)}$ como  $e^{i t X_iX_j} e^{i t Y_iY_j}$. Además, si $i\\neq j \\neq k \\neq l$ entonces $[X_iX_j,X_kX_l]=0$. Basándonos en esto, podemos descomponer cada paso temporal de la trotterización en dos bloques:\n",
    "\n",
    "$$U(\\Delta t) \\approx \\Big(\\prod_{i \\in \\rm{impar}} e^{-i \\Delta t X_iX_{i+1}} e^{-i \\Delta t Y_iY_{i+1}} \\Big)  \\Big(\\prod_{i \\in \\rm{par}} e^{-i \\Delta t X_iX_{i+1}} e^{-i \\Delta t Y_iY_{i+1}} \\Big)$$"
   ]
  },
  {
   "cell_type": "code",
   "execution_count": null,
   "id": "85d24eb2-2a44-45cb-b5ab-70c46890a3fd",
   "metadata": {
    "id": "85d24eb2-2a44-45cb-b5ab-70c46890a3fd"
   },
   "outputs": [],
   "source": [
    "num_qubits = 3\n",
    "\n",
    "Trot_qr = QuantumRegister(num_qubits)\n",
    "Trot_qc = QuantumCircuit(Trot_qr, name='Trot')\n",
    "\n",
    "for i in range(0, num_qubits - 1):\n",
    "    Trot_qc.append(YY, [Trot_qr[i], Trot_qr[i+1]])\n",
    "    Trot_qc.append(XX, [Trot_qr[i], Trot_qr[i+1]])\n",
    "\n",
    "# Transforma un circuito cuántico personalizado en una compuerta\n",
    "Trot_gate = Trot_qc.to_instruction()\n",
    "\n",
    "Trot_qc.draw()"
   ]
  },
  {
   "cell_type": "markdown",
   "id": "896a2f87",
   "metadata": {
    "id": "896a2f87"
   },
   "source": [
    "<div class=\"alert alert-block alert-danger\">\n",
    "    \n",
    "<b>Desafío, pregunta 1c</b> \n",
    "\n",
    "Crea el circuito trotterizado y consigue el operador unitario asociado con el circuito\n",
    "    \n",
    "</div>"
   ]
  },
  {
   "cell_type": "code",
   "execution_count": null,
   "id": "d3bd5759-6fa6-4305-8795-c869c95926cc",
   "metadata": {
    "id": "d3bd5759-6fa6-4305-8795-c869c95926cc"
   },
   "outputs": [],
   "source": [
    "\n",
    "def U_trotterize(t_target, trotter_steps):\n",
    "    qr = QuantumRegister(3)\n",
    "    qc = QuantumCircuit(qr)\n",
    "\n",
    "    ###EDITA EL CÓDIGO DEBAJO (Crea un circuito trotterizado con múltiples pasos de trotter)\n",
    "\n",
    "    \n",
    "    ###NO EDITES DEBAJO DE ESTA LÍNEA\n",
    "        \n",
    "    qc = qc.bind_parameters({t: t_target/trotter_steps})\n",
    "    \n",
    "    return qi.Operator(qc)"
   ]
  },
  {
   "cell_type": "code",
   "execution_count": null,
   "id": "9e642289-f3e4-472a-9c55-9af5134ed027",
   "metadata": {
    "id": "9e642289-f3e4-472a-9c55-9af5134ed027"
   },
   "outputs": [],
   "source": [
    "t_target = 0.5\n",
    "U_target = U_tb(t_target)\n",
    "\n",
    "steps=np.arange(1,101,2)  ## NO MODIFICAR\n",
    "\n",
    "fidelities=[]\n",
    "for n in tqdm(steps):\n",
    "    U_trotter = U_trotterize(t_target, trotter_steps=n)\n",
    "    fidelity = qi.process_fidelity(U_trotter, target=U_target)\n",
    "    fidelities.append(fidelity)\n",
    "\n",
    "plt.figure(facecolor='white')\n",
    "plt.loglog(steps, 1-np.array(fidelities))\n",
    "plt.ylabel('Trotter error')\n",
    "plt.xlabel('Trotter steps')\n",
    "plt.show()"
   ]
  },
  {
   "cell_type": "code",
   "execution_count": null,
   "id": "83b36595-aea8-4a97-8e3b-43b0454b0edf",
   "metadata": {
    "id": "83b36595-aea8-4a97-8e3b-43b0454b0edf",
    "scrolled": true
   },
   "outputs": [],
   "source": [
    "## Confirma y envía tu solución\n",
    "from qc_grader.challenges.spring_2022 import grade_ex1c\n",
    "\n",
    "grade_ex1c(fidelities)\n"
   ]
  },
  {
   "cell_type": "markdown",
   "id": "-cENHL1taLW1",
   "metadata": {
    "id": "-cENHL1taLW1"
   },
   "source": [
    "# Información adicional\n",
    "\n",
    "Traducción por: Mauricio Gómez Viloria"
   ]
  }
 ],
 "metadata": {
  "colab": {
   "collapsed_sections": [],
   "name": "01.CM_trotterization-es.ipynb",
   "provenance": []
  },
  "kernelspec": {
   "display_name": "Python 3 (ipykernel)",
   "language": "python",
   "name": "python3"
  },
  "language_info": {
   "codemirror_mode": {
    "name": "ipython",
    "version": 3
   },
   "file_extension": ".py",
   "mimetype": "text/x-python",
   "name": "python",
   "nbconvert_exporter": "python",
   "pygments_lexer": "ipython3",
   "version": "3.9.12"
  }
 },
 "nbformat": 4,
 "nbformat_minor": 5
}
